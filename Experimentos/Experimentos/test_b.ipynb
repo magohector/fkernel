{
 "cells": [
  {
   "cell_type": "markdown",
   "metadata": {},
   "source": [
    "## Landsat Modist Regresion"
   ]
  },
  {
   "cell_type": "markdown",
   "metadata": {},
   "source": [
    "If sklearn deap no install descoment next line"
   ]
  },
  {
   "cell_type": "code",
   "execution_count": 1,
   "metadata": {},
   "outputs": [],
   "source": [
    "#!pip install sklearn-deap"
   ]
  },
  {
   "cell_type": "markdown",
   "metadata": {},
   "source": [
    "If psycopg2 or  no install descoment next line"
   ]
  },
  {
   "cell_type": "code",
   "execution_count": 2,
   "metadata": {},
   "outputs": [],
   "source": [
    "#!pip install psycopg2 "
   ]
  },
  {
   "cell_type": "code",
   "execution_count": 3,
   "metadata": {},
   "outputs": [],
   "source": [
    "import pandas as pd\n",
    "import matplotlib.pyplot as plt\n",
    "import numpy as np"
   ]
  },
  {
   "cell_type": "code",
   "execution_count": 4,
   "metadata": {},
   "outputs": [
    {
     "data": {
      "text/html": [
       "<div>\n",
       "<style scoped>\n",
       "    .dataframe tbody tr th:only-of-type {\n",
       "        vertical-align: middle;\n",
       "    }\n",
       "\n",
       "    .dataframe tbody tr th {\n",
       "        vertical-align: top;\n",
       "    }\n",
       "\n",
       "    .dataframe thead th {\n",
       "        text-align: right;\n",
       "    }\n",
       "</style>\n",
       "<table border=\"1\" class=\"dataframe\">\n",
       "  <thead>\n",
       "    <tr style=\"text-align: right;\">\n",
       "      <th></th>\n",
       "      <th>latitude</th>\n",
       "      <th>longitude</th>\n",
       "      <th>band1</th>\n",
       "      <th>band2</th>\n",
       "      <th>band3</th>\n",
       "      <th>band4</th>\n",
       "      <th>band5</th>\n",
       "      <th>band6</th>\n",
       "      <th>band7</th>\n",
       "      <th>value</th>\n",
       "    </tr>\n",
       "  </thead>\n",
       "  <tbody>\n",
       "    <tr>\n",
       "      <td>0</td>\n",
       "      <td>-8789850.0</td>\n",
       "      <td>184950.0</td>\n",
       "      <td>0.105113</td>\n",
       "      <td>0.082716</td>\n",
       "      <td>0.052756</td>\n",
       "      <td>0.315520</td>\n",
       "      <td>0.132641</td>\n",
       "      <td>296.178607</td>\n",
       "      <td>0.044586</td>\n",
       "      <td>203.4</td>\n",
       "    </tr>\n",
       "    <tr>\n",
       "      <td>1</td>\n",
       "      <td>-8784900.0</td>\n",
       "      <td>174600.0</td>\n",
       "      <td>0.104840</td>\n",
       "      <td>0.085732</td>\n",
       "      <td>0.053527</td>\n",
       "      <td>0.271463</td>\n",
       "      <td>0.090247</td>\n",
       "      <td>295.969710</td>\n",
       "      <td>0.027292</td>\n",
       "      <td>198.3</td>\n",
       "    </tr>\n",
       "    <tr>\n",
       "      <td>2</td>\n",
       "      <td>-8775000.0</td>\n",
       "      <td>164700.0</td>\n",
       "      <td>0.103468</td>\n",
       "      <td>0.079147</td>\n",
       "      <td>0.048932</td>\n",
       "      <td>0.248619</td>\n",
       "      <td>0.078593</td>\n",
       "      <td>296.842689</td>\n",
       "      <td>0.022098</td>\n",
       "      <td>203.1</td>\n",
       "    </tr>\n",
       "    <tr>\n",
       "      <td>3</td>\n",
       "      <td>-8775000.0</td>\n",
       "      <td>169650.0</td>\n",
       "      <td>0.108849</td>\n",
       "      <td>0.090665</td>\n",
       "      <td>0.055715</td>\n",
       "      <td>0.338889</td>\n",
       "      <td>0.128227</td>\n",
       "      <td>296.123927</td>\n",
       "      <td>0.039798</td>\n",
       "      <td>199.1</td>\n",
       "    </tr>\n",
       "    <tr>\n",
       "      <td>4</td>\n",
       "      <td>-8775000.0</td>\n",
       "      <td>174600.0</td>\n",
       "      <td>0.096526</td>\n",
       "      <td>0.071028</td>\n",
       "      <td>0.042247</td>\n",
       "      <td>0.194788</td>\n",
       "      <td>0.054468</td>\n",
       "      <td>294.407491</td>\n",
       "      <td>0.017712</td>\n",
       "      <td>196.3</td>\n",
       "    </tr>\n",
       "  </tbody>\n",
       "</table>\n",
       "</div>"
      ],
      "text/plain": [
       "    latitude  longitude     band1     band2     band3     band4     band5  \\\n",
       "0 -8789850.0   184950.0  0.105113  0.082716  0.052756  0.315520  0.132641   \n",
       "1 -8784900.0   174600.0  0.104840  0.085732  0.053527  0.271463  0.090247   \n",
       "2 -8775000.0   164700.0  0.103468  0.079147  0.048932  0.248619  0.078593   \n",
       "3 -8775000.0   169650.0  0.108849  0.090665  0.055715  0.338889  0.128227   \n",
       "4 -8775000.0   174600.0  0.096526  0.071028  0.042247  0.194788  0.054468   \n",
       "\n",
       "        band6     band7  value  \n",
       "0  296.178607  0.044586  203.4  \n",
       "1  295.969710  0.027292  198.3  \n",
       "2  296.842689  0.022098  203.1  \n",
       "3  296.123927  0.039798  199.1  \n",
       "4  294.407491  0.017712  196.3  "
      ]
     },
     "execution_count": 4,
     "metadata": {},
     "output_type": "execute_result"
    }
   ],
   "source": [
    "import psycopg2\n",
    "\n",
    "conexion = psycopg2.connect(host=\"localhost\", database=\"landsat\", user=\"postgres\", password=\"1q2w3e4r\", port=5433)\n",
    "df = pd.read_sql_query(\"SELECT * FROM landsat_model\", conexion)\n",
    "df.to_csv('landsat_model.csv', index=False)\n",
    "df.head()"
   ]
  },
  {
   "cell_type": "markdown",
   "metadata": {},
   "source": [
    "# Sensor Landsat"
   ]
  },
  {
   "cell_type": "markdown",
   "metadata": {},
   "source": [
    "## Descripción de variables"
   ]
  },
  {
   "cell_type": "code",
   "execution_count": 5,
   "metadata": {},
   "outputs": [
    {
     "data": {
      "text/html": [
       "<div>\n",
       "<style scoped>\n",
       "    .dataframe tbody tr th:only-of-type {\n",
       "        vertical-align: middle;\n",
       "    }\n",
       "\n",
       "    .dataframe tbody tr th {\n",
       "        vertical-align: top;\n",
       "    }\n",
       "\n",
       "    .dataframe thead th {\n",
       "        text-align: right;\n",
       "    }\n",
       "</style>\n",
       "<table border=\"1\" class=\"dataframe\">\n",
       "  <thead>\n",
       "    <tr style=\"text-align: right;\">\n",
       "      <th></th>\n",
       "      <th>latitude</th>\n",
       "      <th>longitude</th>\n",
       "      <th>band1</th>\n",
       "      <th>band2</th>\n",
       "      <th>band3</th>\n",
       "      <th>band4</th>\n",
       "      <th>band5</th>\n",
       "      <th>band6</th>\n",
       "      <th>band7</th>\n",
       "      <th>value</th>\n",
       "    </tr>\n",
       "  </thead>\n",
       "  <tbody>\n",
       "    <tr>\n",
       "      <td>count</td>\n",
       "      <td>4.340000e+02</td>\n",
       "      <td>434.000000</td>\n",
       "      <td>434.000000</td>\n",
       "      <td>434.000000</td>\n",
       "      <td>434.000000</td>\n",
       "      <td>434.000000</td>\n",
       "      <td>434.000000</td>\n",
       "      <td>434.000000</td>\n",
       "      <td>434.000000</td>\n",
       "      <td>434.000000</td>\n",
       "    </tr>\n",
       "    <tr>\n",
       "      <td>mean</td>\n",
       "      <td>-8.670245e+06</td>\n",
       "      <td>172098.041475</td>\n",
       "      <td>0.095376</td>\n",
       "      <td>0.080386</td>\n",
       "      <td>0.054044</td>\n",
       "      <td>0.288860</td>\n",
       "      <td>0.135047</td>\n",
       "      <td>295.471018</td>\n",
       "      <td>0.051166</td>\n",
       "      <td>209.868433</td>\n",
       "    </tr>\n",
       "    <tr>\n",
       "      <td>std</td>\n",
       "      <td>5.626119e+04</td>\n",
       "      <td>52784.257417</td>\n",
       "      <td>0.011721</td>\n",
       "      <td>0.010171</td>\n",
       "      <td>0.007789</td>\n",
       "      <td>0.047973</td>\n",
       "      <td>0.032967</td>\n",
       "      <td>2.297145</td>\n",
       "      <td>0.016631</td>\n",
       "      <td>17.256207</td>\n",
       "    </tr>\n",
       "    <tr>\n",
       "      <td>min</td>\n",
       "      <td>-8.789850e+06</td>\n",
       "      <td>45000.000000</td>\n",
       "      <td>0.063235</td>\n",
       "      <td>0.047407</td>\n",
       "      <td>0.031073</td>\n",
       "      <td>0.156130</td>\n",
       "      <td>0.054468</td>\n",
       "      <td>286.148731</td>\n",
       "      <td>0.017712</td>\n",
       "      <td>188.500000</td>\n",
       "    </tr>\n",
       "    <tr>\n",
       "      <td>25%</td>\n",
       "      <td>-8.714700e+06</td>\n",
       "      <td>135000.000000</td>\n",
       "      <td>0.086230</td>\n",
       "      <td>0.074270</td>\n",
       "      <td>0.048675</td>\n",
       "      <td>0.251009</td>\n",
       "      <td>0.110964</td>\n",
       "      <td>294.942072</td>\n",
       "      <td>0.039720</td>\n",
       "      <td>196.300000</td>\n",
       "    </tr>\n",
       "    <tr>\n",
       "      <td>50%</td>\n",
       "      <td>-8.669700e+06</td>\n",
       "      <td>169650.000000</td>\n",
       "      <td>0.096480</td>\n",
       "      <td>0.081608</td>\n",
       "      <td>0.054207</td>\n",
       "      <td>0.289106</td>\n",
       "      <td>0.132989</td>\n",
       "      <td>296.092889</td>\n",
       "      <td>0.047931</td>\n",
       "      <td>199.100000</td>\n",
       "    </tr>\n",
       "    <tr>\n",
       "      <td>75%</td>\n",
       "      <td>-8.624700e+06</td>\n",
       "      <td>204750.000000</td>\n",
       "      <td>0.105443</td>\n",
       "      <td>0.087312</td>\n",
       "      <td>0.059060</td>\n",
       "      <td>0.326728</td>\n",
       "      <td>0.156795</td>\n",
       "      <td>296.653680</td>\n",
       "      <td>0.060120</td>\n",
       "      <td>228.300000</td>\n",
       "    </tr>\n",
       "    <tr>\n",
       "      <td>max</td>\n",
       "      <td>-8.554950e+06</td>\n",
       "      <td>294750.000000</td>\n",
       "      <td>0.121408</td>\n",
       "      <td>0.102283</td>\n",
       "      <td>0.078589</td>\n",
       "      <td>0.409502</td>\n",
       "      <td>0.262650</td>\n",
       "      <td>302.222216</td>\n",
       "      <td>0.117926</td>\n",
       "      <td>247.300000</td>\n",
       "    </tr>\n",
       "  </tbody>\n",
       "</table>\n",
       "</div>"
      ],
      "text/plain": [
       "           latitude      longitude       band1       band2       band3  \\\n",
       "count  4.340000e+02     434.000000  434.000000  434.000000  434.000000   \n",
       "mean  -8.670245e+06  172098.041475    0.095376    0.080386    0.054044   \n",
       "std    5.626119e+04   52784.257417    0.011721    0.010171    0.007789   \n",
       "min   -8.789850e+06   45000.000000    0.063235    0.047407    0.031073   \n",
       "25%   -8.714700e+06  135000.000000    0.086230    0.074270    0.048675   \n",
       "50%   -8.669700e+06  169650.000000    0.096480    0.081608    0.054207   \n",
       "75%   -8.624700e+06  204750.000000    0.105443    0.087312    0.059060   \n",
       "max   -8.554950e+06  294750.000000    0.121408    0.102283    0.078589   \n",
       "\n",
       "            band4       band5       band6       band7       value  \n",
       "count  434.000000  434.000000  434.000000  434.000000  434.000000  \n",
       "mean     0.288860    0.135047  295.471018    0.051166  209.868433  \n",
       "std      0.047973    0.032967    2.297145    0.016631   17.256207  \n",
       "min      0.156130    0.054468  286.148731    0.017712  188.500000  \n",
       "25%      0.251009    0.110964  294.942072    0.039720  196.300000  \n",
       "50%      0.289106    0.132989  296.092889    0.047931  199.100000  \n",
       "75%      0.326728    0.156795  296.653680    0.060120  228.300000  \n",
       "max      0.409502    0.262650  302.222216    0.117926  247.300000  "
      ]
     },
     "execution_count": 5,
     "metadata": {},
     "output_type": "execute_result"
    }
   ],
   "source": [
    "df.describe()"
   ]
  },
  {
   "cell_type": "markdown",
   "metadata": {},
   "source": [
    "## Correlación de variables\n"
   ]
  },
  {
   "cell_type": "code",
   "execution_count": 6,
   "metadata": {},
   "outputs": [
    {
     "data": {
      "text/html": [
       "<div>\n",
       "<style scoped>\n",
       "    .dataframe tbody tr th:only-of-type {\n",
       "        vertical-align: middle;\n",
       "    }\n",
       "\n",
       "    .dataframe tbody tr th {\n",
       "        vertical-align: top;\n",
       "    }\n",
       "\n",
       "    .dataframe thead th {\n",
       "        text-align: right;\n",
       "    }\n",
       "</style>\n",
       "<table border=\"1\" class=\"dataframe\">\n",
       "  <thead>\n",
       "    <tr style=\"text-align: right;\">\n",
       "      <th></th>\n",
       "      <th>latitude</th>\n",
       "      <th>longitude</th>\n",
       "      <th>band1</th>\n",
       "      <th>band2</th>\n",
       "      <th>band3</th>\n",
       "      <th>band4</th>\n",
       "      <th>band5</th>\n",
       "      <th>band6</th>\n",
       "      <th>band7</th>\n",
       "      <th>value</th>\n",
       "    </tr>\n",
       "  </thead>\n",
       "  <tbody>\n",
       "    <tr>\n",
       "      <td>latitude</td>\n",
       "      <td>1.00</td>\n",
       "      <td>-0.39</td>\n",
       "      <td>-0.78</td>\n",
       "      <td>-0.50</td>\n",
       "      <td>-0.15</td>\n",
       "      <td>-0.21</td>\n",
       "      <td>0.05</td>\n",
       "      <td>-0.34</td>\n",
       "      <td>0.28</td>\n",
       "      <td>0.72</td>\n",
       "    </tr>\n",
       "    <tr>\n",
       "      <td>longitude</td>\n",
       "      <td>-0.39</td>\n",
       "      <td>1.00</td>\n",
       "      <td>0.61</td>\n",
       "      <td>0.37</td>\n",
       "      <td>0.10</td>\n",
       "      <td>0.05</td>\n",
       "      <td>-0.09</td>\n",
       "      <td>0.40</td>\n",
       "      <td>-0.26</td>\n",
       "      <td>-0.50</td>\n",
       "    </tr>\n",
       "    <tr>\n",
       "      <td>band1</td>\n",
       "      <td>-0.78</td>\n",
       "      <td>0.61</td>\n",
       "      <td>1.00</td>\n",
       "      <td>0.80</td>\n",
       "      <td>0.44</td>\n",
       "      <td>0.45</td>\n",
       "      <td>0.22</td>\n",
       "      <td>0.64</td>\n",
       "      <td>-0.06</td>\n",
       "      <td>-0.76</td>\n",
       "    </tr>\n",
       "    <tr>\n",
       "      <td>band2</td>\n",
       "      <td>-0.50</td>\n",
       "      <td>0.37</td>\n",
       "      <td>0.80</td>\n",
       "      <td>1.00</td>\n",
       "      <td>0.86</td>\n",
       "      <td>0.78</td>\n",
       "      <td>0.68</td>\n",
       "      <td>0.77</td>\n",
       "      <td>0.48</td>\n",
       "      <td>-0.32</td>\n",
       "    </tr>\n",
       "    <tr>\n",
       "      <td>band3</td>\n",
       "      <td>-0.15</td>\n",
       "      <td>0.10</td>\n",
       "      <td>0.44</td>\n",
       "      <td>0.86</td>\n",
       "      <td>1.00</td>\n",
       "      <td>0.78</td>\n",
       "      <td>0.85</td>\n",
       "      <td>0.64</td>\n",
       "      <td>0.79</td>\n",
       "      <td>0.12</td>\n",
       "    </tr>\n",
       "    <tr>\n",
       "      <td>band4</td>\n",
       "      <td>-0.21</td>\n",
       "      <td>0.05</td>\n",
       "      <td>0.45</td>\n",
       "      <td>0.78</td>\n",
       "      <td>0.78</td>\n",
       "      <td>1.00</td>\n",
       "      <td>0.82</td>\n",
       "      <td>0.47</td>\n",
       "      <td>0.67</td>\n",
       "      <td>-0.02</td>\n",
       "    </tr>\n",
       "    <tr>\n",
       "      <td>band5</td>\n",
       "      <td>0.05</td>\n",
       "      <td>-0.09</td>\n",
       "      <td>0.22</td>\n",
       "      <td>0.68</td>\n",
       "      <td>0.85</td>\n",
       "      <td>0.82</td>\n",
       "      <td>1.00</td>\n",
       "      <td>0.56</td>\n",
       "      <td>0.94</td>\n",
       "      <td>0.21</td>\n",
       "    </tr>\n",
       "    <tr>\n",
       "      <td>band6</td>\n",
       "      <td>-0.34</td>\n",
       "      <td>0.40</td>\n",
       "      <td>0.64</td>\n",
       "      <td>0.77</td>\n",
       "      <td>0.64</td>\n",
       "      <td>0.47</td>\n",
       "      <td>0.56</td>\n",
       "      <td>1.00</td>\n",
       "      <td>0.41</td>\n",
       "      <td>-0.33</td>\n",
       "    </tr>\n",
       "    <tr>\n",
       "      <td>band7</td>\n",
       "      <td>0.28</td>\n",
       "      <td>-0.26</td>\n",
       "      <td>-0.06</td>\n",
       "      <td>0.48</td>\n",
       "      <td>0.79</td>\n",
       "      <td>0.67</td>\n",
       "      <td>0.94</td>\n",
       "      <td>0.41</td>\n",
       "      <td>1.00</td>\n",
       "      <td>0.47</td>\n",
       "    </tr>\n",
       "    <tr>\n",
       "      <td>value</td>\n",
       "      <td>0.72</td>\n",
       "      <td>-0.50</td>\n",
       "      <td>-0.76</td>\n",
       "      <td>-0.32</td>\n",
       "      <td>0.12</td>\n",
       "      <td>-0.02</td>\n",
       "      <td>0.21</td>\n",
       "      <td>-0.33</td>\n",
       "      <td>0.47</td>\n",
       "      <td>1.00</td>\n",
       "    </tr>\n",
       "  </tbody>\n",
       "</table>\n",
       "</div>"
      ],
      "text/plain": [
       "           latitude  longitude  band1  band2  band3  band4  band5  band6  \\\n",
       "latitude       1.00      -0.39  -0.78  -0.50  -0.15  -0.21   0.05  -0.34   \n",
       "longitude     -0.39       1.00   0.61   0.37   0.10   0.05  -0.09   0.40   \n",
       "band1         -0.78       0.61   1.00   0.80   0.44   0.45   0.22   0.64   \n",
       "band2         -0.50       0.37   0.80   1.00   0.86   0.78   0.68   0.77   \n",
       "band3         -0.15       0.10   0.44   0.86   1.00   0.78   0.85   0.64   \n",
       "band4         -0.21       0.05   0.45   0.78   0.78   1.00   0.82   0.47   \n",
       "band5          0.05      -0.09   0.22   0.68   0.85   0.82   1.00   0.56   \n",
       "band6         -0.34       0.40   0.64   0.77   0.64   0.47   0.56   1.00   \n",
       "band7          0.28      -0.26  -0.06   0.48   0.79   0.67   0.94   0.41   \n",
       "value          0.72      -0.50  -0.76  -0.32   0.12  -0.02   0.21  -0.33   \n",
       "\n",
       "           band7  value  \n",
       "latitude    0.28   0.72  \n",
       "longitude  -0.26  -0.50  \n",
       "band1      -0.06  -0.76  \n",
       "band2       0.48  -0.32  \n",
       "band3       0.79   0.12  \n",
       "band4       0.67  -0.02  \n",
       "band5       0.94   0.21  \n",
       "band6       0.41  -0.33  \n",
       "band7       1.00   0.47  \n",
       "value       0.47   1.00  "
      ]
     },
     "execution_count": 6,
     "metadata": {},
     "output_type": "execute_result"
    }
   ],
   "source": [
    "pd.set_option('precision',2)\n",
    "df.corr(method='pearson')"
   ]
  },
  {
   "cell_type": "code",
   "execution_count": 7,
   "metadata": {},
   "outputs": [
    {
     "data": {
      "image/png": "[encoded data removed]",
      "text/plain": [
       "<Figure size 720x720 with 2 Axes>"
      ]
     },
     "metadata": {
      "needs_background": "light"
     },
     "output_type": "display_data"
    }
   ],
   "source": [
    "# correlation matrix\n",
    "names=list(df)\n",
    "fig = plt.figure()\n",
    "ax = fig.add_subplot(111)\n",
    "cax = ax.matshow(df.corr(), vmin=-1, vmax=1, interpolation='none')\n",
    "fig.colorbar(cax)\n",
    "ticks = np.arange(0,10,1)\n",
    "ax.set_xticks(ticks)\n",
    "ax.set_yticks(ticks)\n",
    "ax.set_xticklabels(names)\n",
    "ax.set_yticklabels(names)\n",
    "fig.set_size_inches(10,10)\n",
    "plt.show()"
   ]
  },
  {
   "cell_type": "markdown",
   "metadata": {},
   "source": [
    "# Sensor Modis"
   ]
  },
  {
   "cell_type": "code",
   "execution_count": 8,
   "metadata": {},
   "outputs": [
    {
     "data": {
      "text/html": [
       "<div>\n",
       "<style scoped>\n",
       "    .dataframe tbody tr th:only-of-type {\n",
       "        vertical-align: middle;\n",
       "    }\n",
       "\n",
       "    .dataframe tbody tr th {\n",
       "        vertical-align: top;\n",
       "    }\n",
       "\n",
       "    .dataframe thead th {\n",
       "        text-align: right;\n",
       "    }\n",
       "</style>\n",
       "<table border=\"1\" class=\"dataframe\">\n",
       "  <thead>\n",
       "    <tr style=\"text-align: right;\">\n",
       "      <th></th>\n",
       "      <th>latitude</th>\n",
       "      <th>longitude</th>\n",
       "      <th>band1</th>\n",
       "      <th>band2</th>\n",
       "      <th>band3</th>\n",
       "      <th>band4</th>\n",
       "      <th>band5</th>\n",
       "      <th>band6</th>\n",
       "      <th>band7</th>\n",
       "      <th>value</th>\n",
       "    </tr>\n",
       "  </thead>\n",
       "  <tbody>\n",
       "    <tr>\n",
       "      <td>0</td>\n",
       "      <td>-8.79e+06</td>\n",
       "      <td>184950.0</td>\n",
       "      <td>3296.90</td>\n",
       "      <td>4486.12</td>\n",
       "      <td>3395.32</td>\n",
       "      <td>3448.01</td>\n",
       "      <td>4321.52</td>\n",
       "      <td>3236.02</td>\n",
       "      <td>2072.21</td>\n",
       "      <td>203.4</td>\n",
       "    </tr>\n",
       "    <tr>\n",
       "      <td>1</td>\n",
       "      <td>-8.78e+06</td>\n",
       "      <td>174600.0</td>\n",
       "      <td>2723.54</td>\n",
       "      <td>3882.38</td>\n",
       "      <td>2847.12</td>\n",
       "      <td>2902.17</td>\n",
       "      <td>3775.93</td>\n",
       "      <td>2743.97</td>\n",
       "      <td>1732.73</td>\n",
       "      <td>198.3</td>\n",
       "    </tr>\n",
       "    <tr>\n",
       "      <td>2</td>\n",
       "      <td>-8.78e+06</td>\n",
       "      <td>169650.0</td>\n",
       "      <td>3254.55</td>\n",
       "      <td>4358.61</td>\n",
       "      <td>3360.06</td>\n",
       "      <td>3400.07</td>\n",
       "      <td>4235.78</td>\n",
       "      <td>3224.04</td>\n",
       "      <td>2056.70</td>\n",
       "      <td>199.1</td>\n",
       "    </tr>\n",
       "    <tr>\n",
       "      <td>3</td>\n",
       "      <td>-8.78e+06</td>\n",
       "      <td>174600.0</td>\n",
       "      <td>3180.59</td>\n",
       "      <td>4523.59</td>\n",
       "      <td>3305.42</td>\n",
       "      <td>3344.58</td>\n",
       "      <td>4318.23</td>\n",
       "      <td>3244.02</td>\n",
       "      <td>2032.57</td>\n",
       "      <td>196.3</td>\n",
       "    </tr>\n",
       "    <tr>\n",
       "      <td>4</td>\n",
       "      <td>-8.78e+06</td>\n",
       "      <td>184950.0</td>\n",
       "      <td>3307.84</td>\n",
       "      <td>4718.30</td>\n",
       "      <td>3427.58</td>\n",
       "      <td>3472.93</td>\n",
       "      <td>4445.46</td>\n",
       "      <td>3319.96</td>\n",
       "      <td>2059.51</td>\n",
       "      <td>196.9</td>\n",
       "    </tr>\n",
       "  </tbody>\n",
       "</table>\n",
       "</div>"
      ],
      "text/plain": [
       "   latitude  longitude    band1    band2    band3    band4    band5    band6  \\\n",
       "0 -8.79e+06   184950.0  3296.90  4486.12  3395.32  3448.01  4321.52  3236.02   \n",
       "1 -8.78e+06   174600.0  2723.54  3882.38  2847.12  2902.17  3775.93  2743.97   \n",
       "2 -8.78e+06   169650.0  3254.55  4358.61  3360.06  3400.07  4235.78  3224.04   \n",
       "3 -8.78e+06   174600.0  3180.59  4523.59  3305.42  3344.58  4318.23  3244.02   \n",
       "4 -8.78e+06   184950.0  3307.84  4718.30  3427.58  3472.93  4445.46  3319.96   \n",
       "\n",
       "     band7  value  \n",
       "0  2072.21  203.4  \n",
       "1  1732.73  198.3  \n",
       "2  2056.70  199.1  \n",
       "3  2032.57  196.3  \n",
       "4  2059.51  196.9  "
      ]
     },
     "execution_count": 8,
     "metadata": {},
     "output_type": "execute_result"
    }
   ],
   "source": [
    "conexion = psycopg2.connect(host=\"localhost\", database=\"modis\", user=\"postgres\", password=\"1q2w3e4r\", port=5433)\n",
    "df = pd.read_sql_query(\"SELECT * FROM modis_model\", conexion)\n",
    "df.to_csv('modis_model.csv',index=False)\n",
    "df.head()"
   ]
  },
  {
   "cell_type": "markdown",
   "metadata": {},
   "source": [
    "## Descripción de variables"
   ]
  },
  {
   "cell_type": "code",
   "execution_count": 9,
   "metadata": {},
   "outputs": [
    {
     "data": {
      "text/html": [
       "<div>\n",
       "<style scoped>\n",
       "    .dataframe tbody tr th:only-of-type {\n",
       "        vertical-align: middle;\n",
       "    }\n",
       "\n",
       "    .dataframe tbody tr th {\n",
       "        vertical-align: top;\n",
       "    }\n",
       "\n",
       "    .dataframe thead th {\n",
       "        text-align: right;\n",
       "    }\n",
       "</style>\n",
       "<table border=\"1\" class=\"dataframe\">\n",
       "  <thead>\n",
       "    <tr style=\"text-align: right;\">\n",
       "      <th></th>\n",
       "      <th>latitude</th>\n",
       "      <th>longitude</th>\n",
       "      <th>band1</th>\n",
       "      <th>band2</th>\n",
       "      <th>band3</th>\n",
       "      <th>band4</th>\n",
       "      <th>band5</th>\n",
       "      <th>band6</th>\n",
       "      <th>band7</th>\n",
       "      <th>value</th>\n",
       "    </tr>\n",
       "  </thead>\n",
       "  <tbody>\n",
       "    <tr>\n",
       "      <td>count</td>\n",
       "      <td>4.45e+02</td>\n",
       "      <td>445.00</td>\n",
       "      <td>445.00</td>\n",
       "      <td>445.00</td>\n",
       "      <td>445.00</td>\n",
       "      <td>445.00</td>\n",
       "      <td>445.00</td>\n",
       "      <td>445.00</td>\n",
       "      <td>445.00</td>\n",
       "      <td>445.00</td>\n",
       "    </tr>\n",
       "    <tr>\n",
       "      <td>mean</td>\n",
       "      <td>-8.67e+06</td>\n",
       "      <td>173032.58</td>\n",
       "      <td>3278.96</td>\n",
       "      <td>4504.22</td>\n",
       "      <td>3383.80</td>\n",
       "      <td>3415.47</td>\n",
       "      <td>4397.34</td>\n",
       "      <td>3207.85</td>\n",
       "      <td>1970.02</td>\n",
       "      <td>210.18</td>\n",
       "    </tr>\n",
       "    <tr>\n",
       "      <td>std</td>\n",
       "      <td>5.66e+04</td>\n",
       "      <td>53040.04</td>\n",
       "      <td>395.71</td>\n",
       "      <td>349.15</td>\n",
       "      <td>420.19</td>\n",
       "      <td>395.12</td>\n",
       "      <td>291.64</td>\n",
       "      <td>215.47</td>\n",
       "      <td>144.10</td>\n",
       "      <td>17.34</td>\n",
       "    </tr>\n",
       "    <tr>\n",
       "      <td>min</td>\n",
       "      <td>-8.79e+06</td>\n",
       "      <td>45000.00</td>\n",
       "      <td>1934.56</td>\n",
       "      <td>3161.65</td>\n",
       "      <td>1897.33</td>\n",
       "      <td>2024.84</td>\n",
       "      <td>3086.36</td>\n",
       "      <td>2409.23</td>\n",
       "      <td>1582.52</td>\n",
       "      <td>188.50</td>\n",
       "    </tr>\n",
       "    <tr>\n",
       "      <td>25%</td>\n",
       "      <td>-8.71e+06</td>\n",
       "      <td>135000.00</td>\n",
       "      <td>3115.94</td>\n",
       "      <td>4339.87</td>\n",
       "      <td>3227.32</td>\n",
       "      <td>3267.77</td>\n",
       "      <td>4253.51</td>\n",
       "      <td>3099.44</td>\n",
       "      <td>1890.92</td>\n",
       "      <td>196.40</td>\n",
       "    </tr>\n",
       "    <tr>\n",
       "      <td>50%</td>\n",
       "      <td>-8.67e+06</td>\n",
       "      <td>169650.00</td>\n",
       "      <td>3305.41</td>\n",
       "      <td>4540.40</td>\n",
       "      <td>3425.99</td>\n",
       "      <td>3452.63</td>\n",
       "      <td>4431.10</td>\n",
       "      <td>3224.82</td>\n",
       "      <td>1966.49</td>\n",
       "      <td>199.20</td>\n",
       "    </tr>\n",
       "    <tr>\n",
       "      <td>75%</td>\n",
       "      <td>-8.62e+06</td>\n",
       "      <td>214650.00</td>\n",
       "      <td>3453.94</td>\n",
       "      <td>4730.22</td>\n",
       "      <td>3593.41</td>\n",
       "      <td>3598.34</td>\n",
       "      <td>4570.24</td>\n",
       "      <td>3345.01</td>\n",
       "      <td>2063.00</td>\n",
       "      <td>228.70</td>\n",
       "    </tr>\n",
       "    <tr>\n",
       "      <td>max</td>\n",
       "      <td>-8.55e+06</td>\n",
       "      <td>294750.00</td>\n",
       "      <td>4402.59</td>\n",
       "      <td>5296.90</td>\n",
       "      <td>4513.47</td>\n",
       "      <td>4525.71</td>\n",
       "      <td>5039.51</td>\n",
       "      <td>3700.45</td>\n",
       "      <td>2374.84</td>\n",
       "      <td>248.10</td>\n",
       "    </tr>\n",
       "  </tbody>\n",
       "</table>\n",
       "</div>"
      ],
      "text/plain": [
       "       latitude  longitude    band1    band2    band3    band4    band5  \\\n",
       "count  4.45e+02     445.00   445.00   445.00   445.00   445.00   445.00   \n",
       "mean  -8.67e+06  173032.58  3278.96  4504.22  3383.80  3415.47  4397.34   \n",
       "std    5.66e+04   53040.04   395.71   349.15   420.19   395.12   291.64   \n",
       "min   -8.79e+06   45000.00  1934.56  3161.65  1897.33  2024.84  3086.36   \n",
       "25%   -8.71e+06  135000.00  3115.94  4339.87  3227.32  3267.77  4253.51   \n",
       "50%   -8.67e+06  169650.00  3305.41  4540.40  3425.99  3452.63  4431.10   \n",
       "75%   -8.62e+06  214650.00  3453.94  4730.22  3593.41  3598.34  4570.24   \n",
       "max   -8.55e+06  294750.00  4402.59  5296.90  4513.47  4525.71  5039.51   \n",
       "\n",
       "         band6    band7   value  \n",
       "count   445.00   445.00  445.00  \n",
       "mean   3207.85  1970.02  210.18  \n",
       "std     215.47   144.10   17.34  \n",
       "min    2409.23  1582.52  188.50  \n",
       "25%    3099.44  1890.92  196.40  \n",
       "50%    3224.82  1966.49  199.20  \n",
       "75%    3345.01  2063.00  228.70  \n",
       "max    3700.45  2374.84  248.10  "
      ]
     },
     "execution_count": 9,
     "metadata": {},
     "output_type": "execute_result"
    }
   ],
   "source": [
    "df.describe()"
   ]
  },
  {
   "cell_type": "markdown",
   "metadata": {},
   "source": [
    "## Correlación de variables"
   ]
  },
  {
   "cell_type": "code",
   "execution_count": 10,
   "metadata": {},
   "outputs": [
    {
     "data": {
      "text/html": [
       "<div>\n",
       "<style scoped>\n",
       "    .dataframe tbody tr th:only-of-type {\n",
       "        vertical-align: middle;\n",
       "    }\n",
       "\n",
       "    .dataframe tbody tr th {\n",
       "        vertical-align: top;\n",
       "    }\n",
       "\n",
       "    .dataframe thead th {\n",
       "        text-align: right;\n",
       "    }\n",
       "</style>\n",
       "<table border=\"1\" class=\"dataframe\">\n",
       "  <thead>\n",
       "    <tr style=\"text-align: right;\">\n",
       "      <th></th>\n",
       "      <th>latitude</th>\n",
       "      <th>longitude</th>\n",
       "      <th>band1</th>\n",
       "      <th>band2</th>\n",
       "      <th>band3</th>\n",
       "      <th>band4</th>\n",
       "      <th>band5</th>\n",
       "      <th>band6</th>\n",
       "      <th>band7</th>\n",
       "      <th>value</th>\n",
       "    </tr>\n",
       "  </thead>\n",
       "  <tbody>\n",
       "    <tr>\n",
       "      <td>latitude</td>\n",
       "      <td>1.00</td>\n",
       "      <td>-0.41</td>\n",
       "      <td>-0.14</td>\n",
       "      <td>-0.21</td>\n",
       "      <td>-0.19</td>\n",
       "      <td>-0.19</td>\n",
       "      <td>-6.53e-02</td>\n",
       "      <td>-0.18</td>\n",
       "      <td>-0.16</td>\n",
       "      <td>7.22e-01</td>\n",
       "    </tr>\n",
       "    <tr>\n",
       "      <td>longitude</td>\n",
       "      <td>-0.41</td>\n",
       "      <td>1.00</td>\n",
       "      <td>-0.11</td>\n",
       "      <td>-0.17</td>\n",
       "      <td>-0.08</td>\n",
       "      <td>-0.08</td>\n",
       "      <td>-2.95e-01</td>\n",
       "      <td>-0.23</td>\n",
       "      <td>-0.28</td>\n",
       "      <td>-5.21e-01</td>\n",
       "    </tr>\n",
       "    <tr>\n",
       "      <td>band1</td>\n",
       "      <td>-0.14</td>\n",
       "      <td>-0.11</td>\n",
       "      <td>1.00</td>\n",
       "      <td>0.76</td>\n",
       "      <td>0.99</td>\n",
       "      <td>1.00</td>\n",
       "      <td>6.65e-01</td>\n",
       "      <td>0.67</td>\n",
       "      <td>0.70</td>\n",
       "      <td>-2.04e-01</td>\n",
       "    </tr>\n",
       "    <tr>\n",
       "      <td>band2</td>\n",
       "      <td>-0.21</td>\n",
       "      <td>-0.17</td>\n",
       "      <td>0.76</td>\n",
       "      <td>1.00</td>\n",
       "      <td>0.76</td>\n",
       "      <td>0.78</td>\n",
       "      <td>9.56e-01</td>\n",
       "      <td>0.87</td>\n",
       "      <td>0.78</td>\n",
       "      <td>-1.88e-01</td>\n",
       "    </tr>\n",
       "    <tr>\n",
       "      <td>band3</td>\n",
       "      <td>-0.19</td>\n",
       "      <td>-0.08</td>\n",
       "      <td>0.99</td>\n",
       "      <td>0.76</td>\n",
       "      <td>1.00</td>\n",
       "      <td>1.00</td>\n",
       "      <td>6.38e-01</td>\n",
       "      <td>0.63</td>\n",
       "      <td>0.65</td>\n",
       "      <td>-2.77e-01</td>\n",
       "    </tr>\n",
       "    <tr>\n",
       "      <td>band4</td>\n",
       "      <td>-0.19</td>\n",
       "      <td>-0.08</td>\n",
       "      <td>1.00</td>\n",
       "      <td>0.78</td>\n",
       "      <td>1.00</td>\n",
       "      <td>1.00</td>\n",
       "      <td>6.71e-01</td>\n",
       "      <td>0.67</td>\n",
       "      <td>0.69</td>\n",
       "      <td>-2.64e-01</td>\n",
       "    </tr>\n",
       "    <tr>\n",
       "      <td>band5</td>\n",
       "      <td>-0.07</td>\n",
       "      <td>-0.29</td>\n",
       "      <td>0.66</td>\n",
       "      <td>0.96</td>\n",
       "      <td>0.64</td>\n",
       "      <td>0.67</td>\n",
       "      <td>1.00e+00</td>\n",
       "      <td>0.93</td>\n",
       "      <td>0.83</td>\n",
       "      <td>-1.87e-03</td>\n",
       "    </tr>\n",
       "    <tr>\n",
       "      <td>band6</td>\n",
       "      <td>-0.18</td>\n",
       "      <td>-0.23</td>\n",
       "      <td>0.67</td>\n",
       "      <td>0.87</td>\n",
       "      <td>0.63</td>\n",
       "      <td>0.67</td>\n",
       "      <td>9.29e-01</td>\n",
       "      <td>1.00</td>\n",
       "      <td>0.95</td>\n",
       "      <td>-6.93e-02</td>\n",
       "    </tr>\n",
       "    <tr>\n",
       "      <td>band7</td>\n",
       "      <td>-0.16</td>\n",
       "      <td>-0.28</td>\n",
       "      <td>0.70</td>\n",
       "      <td>0.78</td>\n",
       "      <td>0.65</td>\n",
       "      <td>0.69</td>\n",
       "      <td>8.32e-01</td>\n",
       "      <td>0.95</td>\n",
       "      <td>1.00</td>\n",
       "      <td>3.22e-02</td>\n",
       "    </tr>\n",
       "    <tr>\n",
       "      <td>value</td>\n",
       "      <td>0.72</td>\n",
       "      <td>-0.52</td>\n",
       "      <td>-0.20</td>\n",
       "      <td>-0.19</td>\n",
       "      <td>-0.28</td>\n",
       "      <td>-0.26</td>\n",
       "      <td>-1.87e-03</td>\n",
       "      <td>-0.07</td>\n",
       "      <td>0.03</td>\n",
       "      <td>1.00e+00</td>\n",
       "    </tr>\n",
       "  </tbody>\n",
       "</table>\n",
       "</div>"
      ],
      "text/plain": [
       "           latitude  longitude  band1  band2  band3  band4     band5  band6  \\\n",
       "latitude       1.00      -0.41  -0.14  -0.21  -0.19  -0.19 -6.53e-02  -0.18   \n",
       "longitude     -0.41       1.00  -0.11  -0.17  -0.08  -0.08 -2.95e-01  -0.23   \n",
       "band1         -0.14      -0.11   1.00   0.76   0.99   1.00  6.65e-01   0.67   \n",
       "band2         -0.21      -0.17   0.76   1.00   0.76   0.78  9.56e-01   0.87   \n",
       "band3         -0.19      -0.08   0.99   0.76   1.00   1.00  6.38e-01   0.63   \n",
       "band4         -0.19      -0.08   1.00   0.78   1.00   1.00  6.71e-01   0.67   \n",
       "band5         -0.07      -0.29   0.66   0.96   0.64   0.67  1.00e+00   0.93   \n",
       "band6         -0.18      -0.23   0.67   0.87   0.63   0.67  9.29e-01   1.00   \n",
       "band7         -0.16      -0.28   0.70   0.78   0.65   0.69  8.32e-01   0.95   \n",
       "value          0.72      -0.52  -0.20  -0.19  -0.28  -0.26 -1.87e-03  -0.07   \n",
       "\n",
       "           band7     value  \n",
       "latitude   -0.16  7.22e-01  \n",
       "longitude  -0.28 -5.21e-01  \n",
       "band1       0.70 -2.04e-01  \n",
       "band2       0.78 -1.88e-01  \n",
       "band3       0.65 -2.77e-01  \n",
       "band4       0.69 -2.64e-01  \n",
       "band5       0.83 -1.87e-03  \n",
       "band6       0.95 -6.93e-02  \n",
       "band7       1.00  3.22e-02  \n",
       "value       0.03  1.00e+00  "
      ]
     },
     "execution_count": 10,
     "metadata": {},
     "output_type": "execute_result"
    }
   ],
   "source": [
    "pd.set_option('precision',2)\n",
    "df.corr(method='pearson')"
   ]
  },
  {
   "cell_type": "code",
   "execution_count": 11,
   "metadata": {},
   "outputs": [
    {
     "data": {
      "image/png": "[encoded data removed]",
      "text/plain": [
       "<Figure size 720x720 with 2 Axes>"
      ]
     },
     "metadata": {
      "needs_background": "light"
     },
     "output_type": "display_data"
    }
   ],
   "source": [
    "# correlation matrix\n",
    "names=list(df)\n",
    "fig = plt.figure()\n",
    "ax = fig.add_subplot(111)\n",
    "cax = ax.matshow(df.corr(), vmin=-1, vmax=1, interpolation='none')\n",
    "fig.colorbar(cax)\n",
    "ticks = np.arange(0,10,1)\n",
    "ax.set_xticks(ticks)\n",
    "ax.set_yticks(ticks)\n",
    "ax.set_xticklabels(names)\n",
    "ax.set_yticklabels(names)\n",
    "fig.set_size_inches(10,10)\n",
    "plt.show()"
   ]
  },
  {
   "cell_type": "markdown",
   "metadata": {},
   "source": [
    "# Test de carga de modelos generados"
   ]
  },
  {
   "cell_type": "code",
   "execution_count": 12,
   "metadata": {},
   "outputs": [
    {
     "name": "stdout",
     "output_type": "stream",
     "text": [
      "(434, 9) (434,)\n"
     ]
    },
    {
     "data": {
      "text/html": [
       "<div>\n",
       "<style scoped>\n",
       "    .dataframe tbody tr th:only-of-type {\n",
       "        vertical-align: middle;\n",
       "    }\n",
       "\n",
       "    .dataframe tbody tr th {\n",
       "        vertical-align: top;\n",
       "    }\n",
       "\n",
       "    .dataframe thead th {\n",
       "        text-align: right;\n",
       "    }\n",
       "</style>\n",
       "<table border=\"1\" class=\"dataframe\">\n",
       "  <thead>\n",
       "    <tr style=\"text-align: right;\">\n",
       "      <th></th>\n",
       "      <th>latitude</th>\n",
       "      <th>longitude</th>\n",
       "      <th>band1</th>\n",
       "      <th>band2</th>\n",
       "      <th>band3</th>\n",
       "      <th>band4</th>\n",
       "      <th>band5</th>\n",
       "      <th>band6</th>\n",
       "      <th>band7</th>\n",
       "      <th>value</th>\n",
       "    </tr>\n",
       "  </thead>\n",
       "  <tbody>\n",
       "    <tr>\n",
       "      <td>0</td>\n",
       "      <td>-8.79e+06</td>\n",
       "      <td>184950.0</td>\n",
       "      <td>0.11</td>\n",
       "      <td>0.08</td>\n",
       "      <td>0.05</td>\n",
       "      <td>0.32</td>\n",
       "      <td>0.13</td>\n",
       "      <td>296.18</td>\n",
       "      <td>0.04</td>\n",
       "      <td>203.4</td>\n",
       "    </tr>\n",
       "    <tr>\n",
       "      <td>1</td>\n",
       "      <td>-8.78e+06</td>\n",
       "      <td>174600.0</td>\n",
       "      <td>0.10</td>\n",
       "      <td>0.09</td>\n",
       "      <td>0.05</td>\n",
       "      <td>0.27</td>\n",
       "      <td>0.09</td>\n",
       "      <td>295.97</td>\n",
       "      <td>0.03</td>\n",
       "      <td>198.3</td>\n",
       "    </tr>\n",
       "    <tr>\n",
       "      <td>2</td>\n",
       "      <td>-8.78e+06</td>\n",
       "      <td>164700.0</td>\n",
       "      <td>0.10</td>\n",
       "      <td>0.08</td>\n",
       "      <td>0.05</td>\n",
       "      <td>0.25</td>\n",
       "      <td>0.08</td>\n",
       "      <td>296.84</td>\n",
       "      <td>0.02</td>\n",
       "      <td>203.1</td>\n",
       "    </tr>\n",
       "    <tr>\n",
       "      <td>3</td>\n",
       "      <td>-8.78e+06</td>\n",
       "      <td>169650.0</td>\n",
       "      <td>0.11</td>\n",
       "      <td>0.09</td>\n",
       "      <td>0.06</td>\n",
       "      <td>0.34</td>\n",
       "      <td>0.13</td>\n",
       "      <td>296.12</td>\n",
       "      <td>0.04</td>\n",
       "      <td>199.1</td>\n",
       "    </tr>\n",
       "    <tr>\n",
       "      <td>4</td>\n",
       "      <td>-8.78e+06</td>\n",
       "      <td>174600.0</td>\n",
       "      <td>0.10</td>\n",
       "      <td>0.07</td>\n",
       "      <td>0.04</td>\n",
       "      <td>0.19</td>\n",
       "      <td>0.05</td>\n",
       "      <td>294.41</td>\n",
       "      <td>0.02</td>\n",
       "      <td>196.3</td>\n",
       "    </tr>\n",
       "  </tbody>\n",
       "</table>\n",
       "</div>"
      ],
      "text/plain": [
       "   latitude  longitude  band1  band2  band3  band4  band5   band6  band7  \\\n",
       "0 -8.79e+06   184950.0   0.11   0.08   0.05   0.32   0.13  296.18   0.04   \n",
       "1 -8.78e+06   174600.0   0.10   0.09   0.05   0.27   0.09  295.97   0.03   \n",
       "2 -8.78e+06   164700.0   0.10   0.08   0.05   0.25   0.08  296.84   0.02   \n",
       "3 -8.78e+06   169650.0   0.11   0.09   0.06   0.34   0.13  296.12   0.04   \n",
       "4 -8.78e+06   174600.0   0.10   0.07   0.04   0.19   0.05  294.41   0.02   \n",
       "\n",
       "   value  \n",
       "0  203.4  \n",
       "1  198.3  \n",
       "2  203.1  \n",
       "3  199.1  \n",
       "4  196.3  "
      ]
     },
     "execution_count": 12,
     "metadata": {},
     "output_type": "execute_result"
    }
   ],
   "source": [
    "dff=pd.read_csv('landsat_model.csv')        \n",
    "nr=dff.shape[1]\n",
    "X=dff.iloc[:,0:nr-1]\n",
    "y=dff.iloc[:,nr-1:nr]    \n",
    "y=y.values.ravel()\n",
    "print(X.shape, y.shape)\n",
    "dff.head()"
   ]
  },
  {
   "cell_type": "markdown",
   "metadata": {},
   "source": [
    "# Bibliotecas relevantes"
   ]
  },
  {
   "cell_type": "markdown",
   "metadata": {},
   "source": [
    "A continuación se encuentran las bibliotecas creadas para el uso de las funciones kernel acompladas a la biblioteca sklearn"
   ]
  },
  {
   "cell_type": "code",
   "execution_count": 13,
   "metadata": {},
   "outputs": [],
   "source": [
    "from evolutionary_search import EvolutionaryAlgorithmSearchCV\n",
    "from sklearn.model_selection import  GridSearchCV, RandomizedSearchCV\n",
    "from KSVM import KSVC, KSVR\n",
    "from KANN import KANNC,KANNR\n",
    "from sklearn.model_selection import train_test_split,KFold, cross_val_score,ShuffleSplit\n",
    "from sklearn.preprocessing import MinMaxScaler\n",
    "from sklearn.preprocessing import Normalizer\n",
    "from sklearn.preprocessing import StandardScaler\n",
    "import numpy as np\n"
   ]
  },
  {
   "cell_type": "markdown",
   "metadata": {},
   "source": [
    "## Funciones para el entrenamiento de los modelos"
   ]
  },
  {
   "cell_type": "code",
   "execution_count": 14,
   "metadata": {},
   "outputs": [],
   "source": [
    "from time import time\n",
    "from multiprocessing.pool import Pool\n",
    "def numparams(params):                 \n",
    "    sparams=0\n",
    "    for key, value in params.items():\n",
    "        sparams+=len(value)\n",
    "        print(key, value)        \n",
    "    return sparams\n",
    "\n",
    "def normalizerTransform(x,nm):       \n",
    "    if(nm==\"Min_Max\"):#mix-max\n",
    "        scaler=MinMaxScaler()\n",
    "        scaler.fit(x)\n",
    "        return scaler.transform(x)\n",
    "    if(nm==\"Normalizer\"):#normalizer\n",
    "        scaler=Normalizer()\n",
    "        scaler.fit(x)\n",
    "        return scaler.transform(x)\n",
    "    \n",
    "    if(nm==\"Standard\"):#standard\n",
    "        scaler=StandardScaler()\n",
    "        scaler.fit(x)\n",
    "        return scaler.transform(x)    \n",
    "    return x\n",
    "\n",
    "def tune_in(model,paramgrid,Xn,y,tuner='genetic',per_iter=0.4, generations_number=10,n_jobs=1):  \n",
    "    \n",
    "    cv=ShuffleSplit(n_splits=5, test_size=0.2, random_state=7)\n",
    "    t=None \n",
    "    model=model['value']\n",
    "    if(tuner=='grid'):\n",
    "        t = GridSearchCV(estimator=model,\n",
    "          param_grid=paramgrid,\n",
    "          scoring=\"r2\",\n",
    "          cv=cv,\n",
    "          verbose=1,n_jobs=n_jobs)\n",
    "    if(tuner=='random'):\n",
    "        n_iter=int(numparams(paramgrid)*per_iter)\n",
    "        t = RandomizedSearchCV(estimator=model,\n",
    "                param_distributions=paramgrid,\n",
    "                n_iter=n_iter,\n",
    "                scoring=\"r2\",\n",
    "                cv=cv,\n",
    "                verbose=1,n_jobs=n_jobs)     \n",
    "    if(tuner=='genetic'):\n",
    "        cv3 = EvolutionaryAlgorithmSearchCV(estimator=model,\n",
    "                           params=paramgrid,\n",
    "                           scoring=\"r2\",\n",
    "                           cv=cv,\n",
    "                           verbose=True,\n",
    "                           population_size=50,\n",
    "                           gene_mutation_prob=0.10,\n",
    "                           tournament_size=3,\n",
    "                           generations_number=generations_number,n_jobs=n_jobs)\n",
    "    st=start_time = time()\n",
    "    t.fit(Xn, y)\n",
    "    elapsed_time = time() - st\n",
    "    print('Resultados',tuner,elapsed_time,t.best_score_, t.best_params_)        \n",
    "    \n",
    "    return t\n",
    "\n",
    "def evaluateModel(db,paramgrid, model):   \n",
    "        \n",
    "    print(\"Size \",model['name'],numparams(paramgrid))   \n",
    "    \n",
    "    print('DB:',db,'\\n')\n",
    "    dff=pd.read_csv(db)        \n",
    "    nr=dff.shape[1]\n",
    "    X=dff.iloc[:,0:nr-1]\n",
    "    y=dff.iloc[:,nr-1:nr]    \n",
    "    y=y.values.ravel()\n",
    "\n",
    "    print('dimentions',X.shape, y.shape)\n",
    "    dff.head()\n",
    "    normalizers=['Min_Max','Normalizer','Standard']\n",
    "    tuners=[]\n",
    "    for n in normalizers:\n",
    "        print(n,'\\n')            \n",
    "        Xn=normalizerTransform(X,n) \n",
    "        print(model['name'])   \n",
    "        t=tune_in(model=model,paramgrid=paramgrid,Xn=Xn,y=y,tuner='random',n_jobs=-1)\n",
    "        tuners.append(t)\n",
    "        df=pd.DataFrame(t.cv_results_)\n",
    "        filename=str(model['name'])+'_'+n+'.csv'\n",
    "        print('file',filename)\n",
    "        df.to_csv(filename,index=False)\n",
    "    return  tuners  "
   ]
  },
  {
   "cell_type": "markdown",
   "metadata": {},
   "source": [
    "# Prueba de los modelos KSVR y KANN para los datos de radiación sensores Landsat y Modis"
   ]
  },
  {
   "cell_type": "markdown",
   "metadata": {},
   "source": [
    "## Experimento 1"
   ]
  },
  {
   "cell_type": "markdown",
   "metadata": {},
   "source": [
    "Evaluar el desempeño de algoritmos, normalizadores frente a diferentes funciones kernel"
   ]
  },
  {
   "cell_type": "code",
   "execution_count": 15,
   "metadata": {},
   "outputs": [
    {
     "name": "stdout",
     "output_type": "stream",
     "text": [
      "Landsat Model\n",
      "kernel ['rquadratic']\n",
      "C [   10.   100.  1000. 10000.]\n",
      "coef0 [1.e-03 1.e-02 1.e-01 1.e+00 1.e+01 1.e+02 1.e+03]\n",
      "Size  L_KSVR0 12\n",
      "DB: landsat_model.csv \n",
      "\n",
      "dimentions (434, 9) (434,)\n",
      "Min_Max \n",
      "\n",
      "L_KSVR0\n",
      "kernel ['rquadratic']\n",
      "C [   10.   100.  1000. 10000.]\n",
      "coef0 [1.e-03 1.e-02 1.e-01 1.e+00 1.e+01 1.e+02 1.e+03]\n",
      "Fitting 5 folds for each of 4 candidates, totalling 20 fits\n"
     ]
    },
    {
     "name": "stderr",
     "output_type": "stream",
     "text": [
      "[Parallel(n_jobs=-1)]: Using backend LokyBackend with 4 concurrent workers.\n",
      "[Parallel(n_jobs=-1)]: Done  20 out of  20 | elapsed:   16.8s finished\n"
     ]
    },
    {
     "name": "stdout",
     "output_type": "stream",
     "text": [
      "Resultados random 18.57041096687317 0.931269281933427 {'kernel': 'rquadratic', 'coef0': 1.0, 'C': 1000.0}\n",
      "file L_KSVR0_Min_Max.csv\n",
      "Normalizer \n",
      "\n",
      "L_KSVR0\n",
      "kernel ['rquadratic']\n",
      "C [   10.   100.  1000. 10000.]\n",
      "coef0 [1.e-03 1.e-02 1.e-01 1.e+00 1.e+01 1.e+02 1.e+03]\n",
      "Fitting 5 folds for each of 4 candidates, totalling 20 fits\n"
     ]
    },
    {
     "name": "stderr",
     "output_type": "stream",
     "text": [
      "[Parallel(n_jobs=-1)]: Using backend LokyBackend with 4 concurrent workers.\n",
      "[Parallel(n_jobs=-1)]: Done  20 out of  20 | elapsed:   14.8s finished\n"
     ]
    },
    {
     "name": "stdout",
     "output_type": "stream",
     "text": [
      "Resultados random 16.671374082565308 0.260926828001123 {'kernel': 'rquadratic', 'coef0': 0.001, 'C': 100.0}\n",
      "file L_KSVR0_Normalizer.csv\n",
      "Standard \n",
      "\n",
      "L_KSVR0\n",
      "kernel ['rquadratic']\n",
      "C [   10.   100.  1000. 10000.]\n",
      "coef0 [1.e-03 1.e-02 1.e-01 1.e+00 1.e+01 1.e+02 1.e+03]\n",
      "Fitting 5 folds for each of 4 candidates, totalling 20 fits\n"
     ]
    },
    {
     "name": "stderr",
     "output_type": "stream",
     "text": [
      "[Parallel(n_jobs=-1)]: Using backend LokyBackend with 4 concurrent workers.\n",
      "[Parallel(n_jobs=-1)]: Done  20 out of  20 | elapsed:   14.9s finished\n"
     ]
    },
    {
     "name": "stdout",
     "output_type": "stream",
     "text": [
      "Resultados random 16.734506607055664 0.7481664527116892 {'kernel': 'rquadratic', 'coef0': 0.1, 'C': 10000.0}\n",
      "file L_KSVR0_Standard.csv\n",
      "kernel ['rbf', 'tru', 'can', 'radial_basic', 'triangle', 'hyperbolic']\n",
      "C [   10.   100.  1000. 10000.]\n",
      "gamma [1.e-03 1.e-02 1.e-01 1.e+00 1.e+01 1.e+02 1.e+03]\n",
      "Size  L_KSVR1 17\n",
      "DB: landsat_model.csv \n",
      "\n",
      "dimentions (434, 9) (434,)\n",
      "Min_Max \n",
      "\n",
      "L_KSVR1\n",
      "kernel ['rbf', 'tru', 'can', 'radial_basic', 'triangle', 'hyperbolic']\n",
      "C [   10.   100.  1000. 10000.]\n",
      "gamma [1.e-03 1.e-02 1.e-01 1.e+00 1.e+01 1.e+02 1.e+03]\n",
      "Fitting 5 folds for each of 6 candidates, totalling 30 fits\n"
     ]
    },
    {
     "name": "stderr",
     "output_type": "stream",
     "text": [
      "[Parallel(n_jobs=-1)]: Using backend LokyBackend with 4 concurrent workers.\n",
      "[Parallel(n_jobs=-1)]: Done  30 out of  30 | elapsed:   20.5s finished\n"
     ]
    },
    {
     "name": "stdout",
     "output_type": "stream",
     "text": [
      "Resultados random 22.09527325630188 0.910089572303516 {'kernel': 'triangle', 'gamma': 1000.0, 'C': 10000.0}\n",
      "file L_KSVR1_Min_Max.csv\n",
      "Normalizer \n",
      "\n",
      "L_KSVR1\n",
      "kernel ['rbf', 'tru', 'can', 'radial_basic', 'triangle', 'hyperbolic']\n",
      "C [   10.   100.  1000. 10000.]\n",
      "gamma [1.e-03 1.e-02 1.e-01 1.e+00 1.e+01 1.e+02 1.e+03]\n",
      "Fitting 5 folds for each of 6 candidates, totalling 30 fits\n"
     ]
    },
    {
     "name": "stderr",
     "output_type": "stream",
     "text": [
      "[Parallel(n_jobs=-1)]: Using backend LokyBackend with 4 concurrent workers.\n",
      "[Parallel(n_jobs=-1)]: Done  30 out of  30 | elapsed:   27.6s finished\n"
     ]
    },
    {
     "name": "stdout",
     "output_type": "stream",
     "text": [
      "Resultados random 29.92070984840393 0.28053510911118124 {'kernel': 'radial_basic', 'gamma': 1000.0, 'C': 1000.0}\n",
      "file L_KSVR1_Normalizer.csv\n",
      "Standard \n",
      "\n",
      "L_KSVR1\n",
      "kernel ['rbf', 'tru', 'can', 'radial_basic', 'triangle', 'hyperbolic']\n",
      "C [   10.   100.  1000. 10000.]\n",
      "gamma [1.e-03 1.e-02 1.e-01 1.e+00 1.e+01 1.e+02 1.e+03]\n",
      "Fitting 5 folds for each of 6 candidates, totalling 30 fits\n"
     ]
    },
    {
     "name": "stderr",
     "output_type": "stream",
     "text": [
      "[Parallel(n_jobs=-1)]: Using backend LokyBackend with 4 concurrent workers.\n",
      "[Parallel(n_jobs=-1)]: Done  30 out of  30 | elapsed:   28.7s finished\n",
      "[Parallel(n_jobs=-1)]: Using backend LokyBackend with 4 concurrent workers.\n"
     ]
    },
    {
     "name": "stdout",
     "output_type": "stream",
     "text": [
      "Resultados random 28.827707529067993 0.8953230133339803 {'kernel': 'rbf', 'gamma': 0.001, 'C': 10000.0}\n",
      "file L_KSVR1_Standard.csv\n",
      "kernel ['rquadratic']\n",
      "C [   10.   100.  1000. 10000.]\n",
      "coef0 [1.e-03 1.e-02 1.e-01 1.e+00 1.e+01 1.e+02 1.e+03]\n",
      "Size  L_KANNR2 12\n",
      "DB: landsat_model.csv \n",
      "\n",
      "dimentions (434, 9) (434,)\n",
      "Min_Max \n",
      "\n",
      "L_KANNR2\n",
      "kernel ['rquadratic']\n",
      "C [   10.   100.  1000. 10000.]\n",
      "coef0 [1.e-03 1.e-02 1.e-01 1.e+00 1.e+01 1.e+02 1.e+03]\n",
      "Fitting 5 folds for each of 4 candidates, totalling 20 fits\n"
     ]
    },
    {
     "name": "stderr",
     "output_type": "stream",
     "text": [
      "[Parallel(n_jobs=-1)]: Done  20 out of  20 | elapsed:   55.6s finished\n"
     ]
    },
    {
     "name": "stdout",
     "output_type": "stream",
     "text": [
      "Resultados random 62.62627840042114 0.6150425879066477 {'kernel': 'rquadratic', 'coef0': 0.001, 'C': 10.0}\n",
      "file L_KANNR2_Min_Max.csv\n",
      "Normalizer \n",
      "\n",
      "L_KANNR2\n",
      "kernel ['rquadratic']\n",
      "C [   10.   100.  1000. 10000.]\n",
      "coef0 [1.e-03 1.e-02 1.e-01 1.e+00 1.e+01 1.e+02 1.e+03]\n",
      "Fitting 5 folds for each of 4 candidates, totalling 20 fits\n"
     ]
    },
    {
     "name": "stderr",
     "output_type": "stream",
     "text": [
      "[Parallel(n_jobs=-1)]: Using backend LokyBackend with 4 concurrent workers.\n",
      "[Parallel(n_jobs=-1)]: Done  20 out of  20 | elapsed:   12.0s finished\n"
     ]
    },
    {
     "name": "stdout",
     "output_type": "stream",
     "text": [
      "Resultados random 13.494500160217285 -0.0030375751424077673 {'kernel': 'rquadratic', 'coef0': 0.01, 'C': 100.0}\n",
      "file L_KANNR2_Normalizer.csv\n",
      "Standard \n",
      "\n",
      "L_KANNR2\n",
      "kernel ['rquadratic']\n",
      "C [   10.   100.  1000. 10000.]\n",
      "coef0 [1.e-03 1.e-02 1.e-01 1.e+00 1.e+01 1.e+02 1.e+03]\n",
      "Fitting 5 folds for each of 4 candidates, totalling 20 fits\n"
     ]
    },
    {
     "name": "stderr",
     "output_type": "stream",
     "text": [
      "[Parallel(n_jobs=-1)]: Using backend LokyBackend with 4 concurrent workers.\n",
      "[Parallel(n_jobs=-1)]: Done  20 out of  20 | elapsed:   22.9s finished\n"
     ]
    },
    {
     "name": "stdout",
     "output_type": "stream",
     "text": [
      "Resultados random 25.655994415283203 -3.574991260191916 {'kernel': 'rquadratic', 'coef0': 100.0, 'C': 10.0}\n",
      "file L_KANNR2_Standard.csv\n",
      "kernel ['rbf', 'tru', 'can', 'radial_basic', 'triangle', 'hyperbolic']\n",
      "C [   10.   100.  1000. 10000.]\n",
      "gamma [1.e-03 1.e-02 1.e-01 1.e+00 1.e+01 1.e+02 1.e+03]\n",
      "Size  L_KANNR3 17\n",
      "DB: landsat_model.csv \n",
      "\n",
      "dimentions (434, 9) (434,)\n",
      "Min_Max \n",
      "\n",
      "L_KANNR3\n",
      "kernel ['rbf', 'tru', 'can', 'radial_basic', 'triangle', 'hyperbolic']\n",
      "C [   10.   100.  1000. 10000.]\n",
      "gamma [1.e-03 1.e-02 1.e-01 1.e+00 1.e+01 1.e+02 1.e+03]\n",
      "Fitting 5 folds for each of 6 candidates, totalling 30 fits\n"
     ]
    },
    {
     "name": "stderr",
     "output_type": "stream",
     "text": [
      "[Parallel(n_jobs=-1)]: Using backend LokyBackend with 4 concurrent workers.\n",
      "[Parallel(n_jobs=-1)]: Done  30 out of  30 | elapsed:   50.4s finished\n"
     ]
    },
    {
     "name": "stdout",
     "output_type": "stream",
     "text": [
      "Resultados random 62.185473918914795 0.7018740745744444 {'kernel': 'hyperbolic', 'gamma': 1000.0, 'C': 100.0}\n",
      "file L_KANNR3_Min_Max.csv\n",
      "Normalizer \n",
      "\n",
      "L_KANNR3\n",
      "kernel ['rbf', 'tru', 'can', 'radial_basic', 'triangle', 'hyperbolic']\n",
      "C [   10.   100.  1000. 10000.]\n",
      "gamma [1.e-03 1.e-02 1.e-01 1.e+00 1.e+01 1.e+02 1.e+03]\n",
      "Fitting 5 folds for each of 6 candidates, totalling 30 fits\n"
     ]
    },
    {
     "name": "stderr",
     "output_type": "stream",
     "text": [
      "[Parallel(n_jobs=-1)]: Using backend LokyBackend with 4 concurrent workers.\n",
      "[Parallel(n_jobs=-1)]: Done  30 out of  30 | elapsed:   23.2s finished\n"
     ]
    },
    {
     "name": "stdout",
     "output_type": "stream",
     "text": [
      "Resultados random 26.812039136886597 0.1983480957846908 {'kernel': 'can', 'gamma': 1000.0, 'C': 10000.0}\n",
      "file L_KANNR3_Normalizer.csv\n",
      "Standard \n",
      "\n",
      "L_KANNR3\n",
      "kernel ['rbf', 'tru', 'can', 'radial_basic', 'triangle', 'hyperbolic']\n",
      "C [   10.   100.  1000. 10000.]\n",
      "gamma [1.e-03 1.e-02 1.e-01 1.e+00 1.e+01 1.e+02 1.e+03]\n",
      "Fitting 5 folds for each of 6 candidates, totalling 30 fits\n"
     ]
    },
    {
     "name": "stderr",
     "output_type": "stream",
     "text": [
      "[Parallel(n_jobs=-1)]: Using backend LokyBackend with 4 concurrent workers.\n",
      "[Parallel(n_jobs=-1)]: Done  30 out of  30 | elapsed:   42.8s finished\n"
     ]
    },
    {
     "name": "stdout",
     "output_type": "stream",
     "text": [
      "Resultados random 45.6739559173584 0.8437665890184496 {'kernel': 'hyperbolic', 'gamma': 0.001, 'C': 1000.0}\n",
      "file L_KANNR3_Standard.csv\n",
      "Modis Model\n",
      "kernel ['rquadratic']\n",
      "C [   10.   100.  1000. 10000.]\n",
      "coef0 [1.e-03 1.e-02 1.e-01 1.e+00 1.e+01 1.e+02 1.e+03]\n",
      "Size  M_KSVR0 12\n",
      "DB: modis_model.csv \n",
      "\n",
      "dimentions (445, 9) (445,)\n",
      "Min_Max \n",
      "\n",
      "M_KSVR0\n",
      "kernel ['rquadratic']\n",
      "C [   10.   100.  1000. 10000.]\n",
      "coef0 [1.e-03 1.e-02 1.e-01 1.e+00 1.e+01 1.e+02 1.e+03]\n",
      "Fitting 5 folds for each of 4 candidates, totalling 20 fits\n"
     ]
    },
    {
     "name": "stderr",
     "output_type": "stream",
     "text": [
      "[Parallel(n_jobs=-1)]: Using backend LokyBackend with 4 concurrent workers.\n",
      "[Parallel(n_jobs=-1)]: Done  20 out of  20 | elapsed:   16.8s finished\n"
     ]
    },
    {
     "name": "stdout",
     "output_type": "stream",
     "text": [
      "Resultados random 18.85760998725891 0.8955528138238817 {'kernel': 'rquadratic', 'coef0': 0.1, 'C': 1000.0}\n",
      "file M_KSVR0_Min_Max.csv\n",
      "Normalizer \n",
      "\n",
      "M_KSVR0\n",
      "kernel ['rquadratic']\n",
      "C [   10.   100.  1000. 10000.]\n",
      "coef0 [1.e-03 1.e-02 1.e-01 1.e+00 1.e+01 1.e+02 1.e+03]\n",
      "Fitting 5 folds for each of 4 candidates, totalling 20 fits\n"
     ]
    },
    {
     "name": "stderr",
     "output_type": "stream",
     "text": [
      "[Parallel(n_jobs=-1)]: Using backend LokyBackend with 4 concurrent workers.\n",
      "[Parallel(n_jobs=-1)]: Done  20 out of  20 | elapsed:   15.7s finished\n"
     ]
    },
    {
     "name": "stdout",
     "output_type": "stream",
     "text": [
      "Resultados random 17.65389585494995 0.22392881486710603 {'kernel': 'rquadratic', 'coef0': 0.1, 'C': 1000.0}\n",
      "file M_KSVR0_Normalizer.csv\n",
      "Standard \n",
      "\n",
      "M_KSVR0\n",
      "kernel ['rquadratic']\n",
      "C [   10.   100.  1000. 10000.]\n",
      "coef0 [1.e-03 1.e-02 1.e-01 1.e+00 1.e+01 1.e+02 1.e+03]\n",
      "Fitting 5 folds for each of 4 candidates, totalling 20 fits\n"
     ]
    },
    {
     "name": "stderr",
     "output_type": "stream",
     "text": [
      "[Parallel(n_jobs=-1)]: Using backend LokyBackend with 4 concurrent workers.\n",
      "[Parallel(n_jobs=-1)]: Done  20 out of  20 | elapsed:   16.0s finished\n"
     ]
    },
    {
     "name": "stdout",
     "output_type": "stream",
     "text": [
      "Resultados random 17.834972620010376 0.895021626040627 {'kernel': 'rquadratic', 'coef0': 1.0, 'C': 1000.0}\n",
      "file M_KSVR0_Standard.csv\n",
      "kernel ['rbf', 'tru', 'can', 'radial_basic', 'triangle', 'hyperbolic']\n",
      "C [   10.   100.  1000. 10000.]\n",
      "gamma [1.e-03 1.e-02 1.e-01 1.e+00 1.e+01 1.e+02 1.e+03]\n",
      "Size  M_KSVR1 17\n",
      "DB: modis_model.csv \n",
      "\n",
      "dimentions (445, 9) (445,)\n",
      "Min_Max \n",
      "\n",
      "M_KSVR1\n",
      "kernel ['rbf', 'tru', 'can', 'radial_basic', 'triangle', 'hyperbolic']\n",
      "C [   10.   100.  1000. 10000.]\n",
      "gamma [1.e-03 1.e-02 1.e-01 1.e+00 1.e+01 1.e+02 1.e+03]\n",
      "Fitting 5 folds for each of 6 candidates, totalling 30 fits\n"
     ]
    },
    {
     "name": "stderr",
     "output_type": "stream",
     "text": [
      "[Parallel(n_jobs=-1)]: Using backend LokyBackend with 4 concurrent workers.\n",
      "[Parallel(n_jobs=-1)]: Done  30 out of  30 | elapsed:   36.3s finished\n"
     ]
    },
    {
     "name": "stdout",
     "output_type": "stream",
     "text": [
      "Resultados random 39.38340616226196 0.8074254056335254 {'kernel': 'can', 'gamma': 0.1, 'C': 10000.0}\n",
      "file M_KSVR1_Min_Max.csv\n",
      "Normalizer \n",
      "\n",
      "M_KSVR1\n",
      "kernel ['rbf', 'tru', 'can', 'radial_basic', 'triangle', 'hyperbolic']\n",
      "C [   10.   100.  1000. 10000.]\n",
      "gamma [1.e-03 1.e-02 1.e-01 1.e+00 1.e+01 1.e+02 1.e+03]\n",
      "Fitting 5 folds for each of 6 candidates, totalling 30 fits\n"
     ]
    },
    {
     "name": "stderr",
     "output_type": "stream",
     "text": [
      "[Parallel(n_jobs=-1)]: Using backend LokyBackend with 4 concurrent workers.\n",
      "[Parallel(n_jobs=-1)]: Done  30 out of  30 | elapsed:   23.9s finished\n"
     ]
    },
    {
     "name": "stdout",
     "output_type": "stream",
     "text": [
      "Resultados random 25.483118295669556 0.7573447283121305 {'kernel': 'triangle', 'gamma': 0.1, 'C': 10000.0}\n",
      "file M_KSVR1_Normalizer.csv\n",
      "Standard \n",
      "\n",
      "M_KSVR1\n",
      "kernel ['rbf', 'tru', 'can', 'radial_basic', 'triangle', 'hyperbolic']\n",
      "C [   10.   100.  1000. 10000.]\n",
      "gamma [1.e-03 1.e-02 1.e-01 1.e+00 1.e+01 1.e+02 1.e+03]\n",
      "Fitting 5 folds for each of 6 candidates, totalling 30 fits\n"
     ]
    },
    {
     "name": "stderr",
     "output_type": "stream",
     "text": [
      "[Parallel(n_jobs=-1)]: Using backend LokyBackend with 4 concurrent workers.\n",
      "[Parallel(n_jobs=-1)]: Done  30 out of  30 | elapsed:   31.0s finished\n",
      "[Parallel(n_jobs=-1)]: Using backend LokyBackend with 4 concurrent workers.\n"
     ]
    },
    {
     "name": "stdout",
     "output_type": "stream",
     "text": [
      "Resultados random 31.16411828994751 0.8598678516413999 {'kernel': 'rbf', 'gamma': 1.0, 'C': 100.0}\n",
      "file M_KSVR1_Standard.csv\n",
      "kernel ['rquadratic']\n",
      "C [   10.   100.  1000. 10000.]\n",
      "coef0 [1.e-03 1.e-02 1.e-01 1.e+00 1.e+01 1.e+02 1.e+03]\n",
      "Size  M_KSVR2 12\n",
      "DB: modis_model.csv \n",
      "\n",
      "dimentions (445, 9) (445,)\n",
      "Min_Max \n",
      "\n",
      "M_KSVR2\n",
      "kernel ['rquadratic']\n",
      "C [   10.   100.  1000. 10000.]\n",
      "coef0 [1.e-03 1.e-02 1.e-01 1.e+00 1.e+01 1.e+02 1.e+03]\n",
      "Fitting 5 folds for each of 4 candidates, totalling 20 fits\n"
     ]
    },
    {
     "name": "stderr",
     "output_type": "stream",
     "text": [
      "[Parallel(n_jobs=-1)]: Done  20 out of  20 | elapsed:   47.7s finished\n"
     ]
    },
    {
     "name": "stdout",
     "output_type": "stream",
     "text": [
      "Resultados random 52.87395668029785 0.5547584292965341 {'kernel': 'rquadratic', 'coef0': 100.0, 'C': 10000.0}\n",
      "file M_KSVR2_Min_Max.csv\n",
      "Normalizer \n",
      "\n",
      "M_KSVR2\n",
      "kernel ['rquadratic']\n",
      "C [   10.   100.  1000. 10000.]\n",
      "coef0 [1.e-03 1.e-02 1.e-01 1.e+00 1.e+01 1.e+02 1.e+03]\n",
      "Fitting 5 folds for each of 4 candidates, totalling 20 fits\n"
     ]
    },
    {
     "name": "stderr",
     "output_type": "stream",
     "text": [
      "[Parallel(n_jobs=-1)]: Using backend LokyBackend with 4 concurrent workers.\n",
      "[Parallel(n_jobs=-1)]: Done  20 out of  20 | elapsed:   12.6s finished\n"
     ]
    },
    {
     "name": "stdout",
     "output_type": "stream",
     "text": [
      "Resultados random 14.173575639724731 -0.009850422737991683 {'kernel': 'rquadratic', 'coef0': 0.01, 'C': 1000.0}\n",
      "file M_KSVR2_Normalizer.csv\n",
      "Standard \n",
      "\n",
      "M_KSVR2\n",
      "kernel ['rquadratic']\n",
      "C [   10.   100.  1000. 10000.]\n",
      "coef0 [1.e-03 1.e-02 1.e-01 1.e+00 1.e+01 1.e+02 1.e+03]\n",
      "Fitting 5 folds for each of 4 candidates, totalling 20 fits\n"
     ]
    },
    {
     "name": "stderr",
     "output_type": "stream",
     "text": [
      "[Parallel(n_jobs=-1)]: Using backend LokyBackend with 4 concurrent workers.\n",
      "[Parallel(n_jobs=-1)]: Done  20 out of  20 | elapsed:   24.0s finished\n"
     ]
    },
    {
     "name": "stdout",
     "output_type": "stream",
     "text": [
      "Resultados random 27.4771568775177 -4.061090585092432 {'kernel': 'rquadratic', 'coef0': 0.01, 'C': 10.0}\n",
      "file M_KSVR2_Standard.csv\n",
      "kernel ['rbf', 'tru', 'can', 'radial_basic', 'triangle', 'hyperbolic']\n",
      "C [   10.   100.  1000. 10000.]\n",
      "gamma [1.e-03 1.e-02 1.e-01 1.e+00 1.e+01 1.e+02 1.e+03]\n",
      "Size  M_KSVR3 17\n",
      "DB: modis_model.csv \n",
      "\n",
      "dimentions (445, 9) (445,)\n",
      "Min_Max \n",
      "\n",
      "M_KSVR3\n",
      "kernel ['rbf', 'tru', 'can', 'radial_basic', 'triangle', 'hyperbolic']\n",
      "C [   10.   100.  1000. 10000.]\n",
      "gamma [1.e-03 1.e-02 1.e-01 1.e+00 1.e+01 1.e+02 1.e+03]\n",
      "Fitting 5 folds for each of 6 candidates, totalling 30 fits\n"
     ]
    },
    {
     "name": "stderr",
     "output_type": "stream",
     "text": [
      "[Parallel(n_jobs=-1)]: Using backend LokyBackend with 4 concurrent workers.\n",
      "[Parallel(n_jobs=-1)]: Done  30 out of  30 | elapsed:   51.1s finished\n"
     ]
    },
    {
     "name": "stdout",
     "output_type": "stream",
     "text": [
      "Resultados random 52.58987355232239 0.6485476464418805 {'kernel': 'tru', 'gamma': 1.0, 'C': 1000.0}\n",
      "file M_KSVR3_Min_Max.csv\n",
      "Normalizer \n",
      "\n",
      "M_KSVR3\n",
      "kernel ['rbf', 'tru', 'can', 'radial_basic', 'triangle', 'hyperbolic']\n",
      "C [   10.   100.  1000. 10000.]\n",
      "gamma [1.e-03 1.e-02 1.e-01 1.e+00 1.e+01 1.e+02 1.e+03]\n",
      "Fitting 5 folds for each of 6 candidates, totalling 30 fits\n"
     ]
    },
    {
     "name": "stderr",
     "output_type": "stream",
     "text": [
      "[Parallel(n_jobs=-1)]: Using backend LokyBackend with 4 concurrent workers.\n",
      "[Parallel(n_jobs=-1)]: Done  30 out of  30 | elapsed:   22.4s finished\n"
     ]
    },
    {
     "name": "stdout",
     "output_type": "stream",
     "text": [
      "Resultados random 26.420297622680664 0.4579281800299183 {'kernel': 'can', 'gamma': 1000.0, 'C': 1000.0}\n",
      "file M_KSVR3_Normalizer.csv\n",
      "Standard \n",
      "\n",
      "M_KSVR3\n",
      "kernel ['rbf', 'tru', 'can', 'radial_basic', 'triangle', 'hyperbolic']\n",
      "C [   10.   100.  1000. 10000.]\n",
      "gamma [1.e-03 1.e-02 1.e-01 1.e+00 1.e+01 1.e+02 1.e+03]\n",
      "Fitting 5 folds for each of 6 candidates, totalling 30 fits\n"
     ]
    },
    {
     "name": "stderr",
     "output_type": "stream",
     "text": [
      "[Parallel(n_jobs=-1)]: Using backend LokyBackend with 4 concurrent workers.\n",
      "[Parallel(n_jobs=-1)]: Done  30 out of  30 | elapsed:   44.3s finished\n"
     ]
    },
    {
     "name": "stdout",
     "output_type": "stream",
     "text": [
      "Resultados random 49.400654792785645 0.7492336717118924 {'kernel': 'hyperbolic', 'gamma': 1000.0, 'C': 10.0}\n",
      "file M_KSVR3_Standard.csv\n"
     ]
    }
   ],
   "source": [
    "p1 ={\"kernel\": ['rquadratic'],\n",
    "     \"C\": np.array([10.,100.,1000.,10000.]),\n",
    "     \"coef0\" : np.array([1.0e-3,1.0e-2,1.0e-1,1.0,10.,100,1000])}\n",
    "p2={\"kernel\": ['rbf','tru','can','radial_basic','triangle','hyperbolic'],\n",
    "    \"C\": np.array([10.,100.,1000.,10000.]),\n",
    "    \"gamma\" : np.array([1.0e-3,1.0e-2,1.0e-1,1.0,10.,100.,1000.])}\n",
    "print('Landsat Model')\n",
    "r1=evaluateModel('landsat_model.csv', p1, {'name':'L_KSVR0', 'value': KSVR()}) \n",
    "r2=evaluateModel('landsat_model.csv', p2, {'name':'L_KSVR1', 'value': KSVR()})\n",
    "r3=evaluateModel('landsat_model.csv', p1, {'name':'L_KANNR2', 'value': KANNR(early_stopping=True, max_iter=5000)}) \n",
    "r4=evaluateModel('landsat_model.csv', p2, {'name':'L_KANNR3', 'value': KANNR(early_stopping=True, max_iter=5000)})\n",
    "print('Modis Model')\n",
    "r5=evaluateModel('modis_model.csv', p1, {'name':'M_KSVR0', 'value': KSVR()}) \n",
    "r6=evaluateModel('modis_model.csv', p2, {'name':'M_KSVR1', 'value': KSVR()})\n",
    "r7=evaluateModel('modis_model.csv', p1, {'name':'M_KSVR2', 'value': KANNR(early_stopping=True, max_iter=5000)}) \n",
    "r8=evaluateModel('modis_model.csv', p2, {'name':'M_KSVR3', 'value': KANNR(early_stopping=True, max_iter=5000)}) "
   ]
  },
  {
   "cell_type": "code",
   "execution_count": 16,
   "metadata": {},
   "outputs": [
    {
     "name": "stdout",
     "output_type": "stream",
     "text": [
      "Informe mejores resultados\n"
     ]
    },
    {
     "data": {
      "text/html": [
       "<div>\n",
       "<style scoped>\n",
       "    .dataframe tbody tr th:only-of-type {\n",
       "        vertical-align: middle;\n",
       "    }\n",
       "\n",
       "    .dataframe tbody tr th {\n",
       "        vertical-align: top;\n",
       "    }\n",
       "\n",
       "    .dataframe thead th {\n",
       "        text-align: right;\n",
       "    }\n",
       "</style>\n",
       "<table border=\"1\" class=\"dataframe\">\n",
       "  <thead>\n",
       "    <tr style=\"text-align: right;\">\n",
       "      <th></th>\n",
       "      <th>db</th>\n",
       "      <th>algoritmo</th>\n",
       "      <th>normalizer</th>\n",
       "      <th>bestscore</th>\n",
       "      <th>bestparams</th>\n",
       "    </tr>\n",
       "  </thead>\n",
       "  <tbody>\n",
       "    <tr>\n",
       "      <td>0</td>\n",
       "      <td>Landsat</td>\n",
       "      <td>KSVR</td>\n",
       "      <td>Min_Max</td>\n",
       "      <td>9.31e-01</td>\n",
       "      <td>{'kernel': 'rquadratic', 'coef0': 1.0, 'C': 10...</td>\n",
       "    </tr>\n",
       "    <tr>\n",
       "      <td>1</td>\n",
       "      <td>Landsat</td>\n",
       "      <td>KSVR</td>\n",
       "      <td>Normalizer</td>\n",
       "      <td>2.61e-01</td>\n",
       "      <td>{'kernel': 'rquadratic', 'coef0': 0.001, 'C': ...</td>\n",
       "    </tr>\n",
       "    <tr>\n",
       "      <td>2</td>\n",
       "      <td>Landsat</td>\n",
       "      <td>KSVR</td>\n",
       "      <td>Standard</td>\n",
       "      <td>7.48e-01</td>\n",
       "      <td>{'kernel': 'rquadratic', 'coef0': 0.1, 'C': 10...</td>\n",
       "    </tr>\n",
       "    <tr>\n",
       "      <td>3</td>\n",
       "      <td>Landsat</td>\n",
       "      <td>KSVR</td>\n",
       "      <td>Min_Max</td>\n",
       "      <td>9.10e-01</td>\n",
       "      <td>{'kernel': 'triangle', 'gamma': 1000.0, 'C': 1...</td>\n",
       "    </tr>\n",
       "    <tr>\n",
       "      <td>4</td>\n",
       "      <td>Landsat</td>\n",
       "      <td>KSVR</td>\n",
       "      <td>Normalizer</td>\n",
       "      <td>2.81e-01</td>\n",
       "      <td>{'kernel': 'radial_basic', 'gamma': 1000.0, 'C...</td>\n",
       "    </tr>\n",
       "    <tr>\n",
       "      <td>5</td>\n",
       "      <td>Landsat</td>\n",
       "      <td>KSVR</td>\n",
       "      <td>Standard</td>\n",
       "      <td>8.95e-01</td>\n",
       "      <td>{'kernel': 'rbf', 'gamma': 0.001, 'C': 10000.0}</td>\n",
       "    </tr>\n",
       "    <tr>\n",
       "      <td>6</td>\n",
       "      <td>Landsat</td>\n",
       "      <td>KANNR</td>\n",
       "      <td>Min_Max</td>\n",
       "      <td>6.15e-01</td>\n",
       "      <td>{'kernel': 'rquadratic', 'coef0': 0.001, 'C': ...</td>\n",
       "    </tr>\n",
       "    <tr>\n",
       "      <td>7</td>\n",
       "      <td>Landsat</td>\n",
       "      <td>KANNR</td>\n",
       "      <td>Normalizer</td>\n",
       "      <td>-3.04e-03</td>\n",
       "      <td>{'kernel': 'rquadratic', 'coef0': 0.01, 'C': 1...</td>\n",
       "    </tr>\n",
       "    <tr>\n",
       "      <td>8</td>\n",
       "      <td>Landsat</td>\n",
       "      <td>KANNR</td>\n",
       "      <td>Standard</td>\n",
       "      <td>-3.57e+00</td>\n",
       "      <td>{'kernel': 'rquadratic', 'coef0': 100.0, 'C': ...</td>\n",
       "    </tr>\n",
       "    <tr>\n",
       "      <td>9</td>\n",
       "      <td>Landsat</td>\n",
       "      <td>KANNR</td>\n",
       "      <td>Min_Max</td>\n",
       "      <td>7.02e-01</td>\n",
       "      <td>{'kernel': 'hyperbolic', 'gamma': 1000.0, 'C':...</td>\n",
       "    </tr>\n",
       "    <tr>\n",
       "      <td>10</td>\n",
       "      <td>Landsat</td>\n",
       "      <td>KANNR</td>\n",
       "      <td>Normalizer</td>\n",
       "      <td>1.98e-01</td>\n",
       "      <td>{'kernel': 'can', 'gamma': 1000.0, 'C': 10000.0}</td>\n",
       "    </tr>\n",
       "    <tr>\n",
       "      <td>11</td>\n",
       "      <td>Landsat</td>\n",
       "      <td>KANNR</td>\n",
       "      <td>Standard</td>\n",
       "      <td>8.44e-01</td>\n",
       "      <td>{'kernel': 'hyperbolic', 'gamma': 0.001, 'C': ...</td>\n",
       "    </tr>\n",
       "    <tr>\n",
       "      <td>12</td>\n",
       "      <td>Modis</td>\n",
       "      <td>KSVR</td>\n",
       "      <td>Min_Max</td>\n",
       "      <td>8.96e-01</td>\n",
       "      <td>{'kernel': 'rquadratic', 'coef0': 0.1, 'C': 10...</td>\n",
       "    </tr>\n",
       "    <tr>\n",
       "      <td>13</td>\n",
       "      <td>Modis</td>\n",
       "      <td>KSVR</td>\n",
       "      <td>Normalizer</td>\n",
       "      <td>2.24e-01</td>\n",
       "      <td>{'kernel': 'rquadratic', 'coef0': 0.1, 'C': 10...</td>\n",
       "    </tr>\n",
       "    <tr>\n",
       "      <td>14</td>\n",
       "      <td>Modis</td>\n",
       "      <td>KSVR</td>\n",
       "      <td>Standard</td>\n",
       "      <td>8.95e-01</td>\n",
       "      <td>{'kernel': 'rquadratic', 'coef0': 1.0, 'C': 10...</td>\n",
       "    </tr>\n",
       "    <tr>\n",
       "      <td>15</td>\n",
       "      <td>Modis</td>\n",
       "      <td>KSVR</td>\n",
       "      <td>Min_Max</td>\n",
       "      <td>8.07e-01</td>\n",
       "      <td>{'kernel': 'can', 'gamma': 0.1, 'C': 10000.0}</td>\n",
       "    </tr>\n",
       "    <tr>\n",
       "      <td>16</td>\n",
       "      <td>Modis</td>\n",
       "      <td>KSVR</td>\n",
       "      <td>Normalizer</td>\n",
       "      <td>7.57e-01</td>\n",
       "      <td>{'kernel': 'triangle', 'gamma': 0.1, 'C': 1000...</td>\n",
       "    </tr>\n",
       "    <tr>\n",
       "      <td>17</td>\n",
       "      <td>Modis</td>\n",
       "      <td>KSVR</td>\n",
       "      <td>Standard</td>\n",
       "      <td>8.60e-01</td>\n",
       "      <td>{'kernel': 'rbf', 'gamma': 1.0, 'C': 100.0}</td>\n",
       "    </tr>\n",
       "    <tr>\n",
       "      <td>18</td>\n",
       "      <td>Modis</td>\n",
       "      <td>KANNR</td>\n",
       "      <td>Min_Max</td>\n",
       "      <td>5.55e-01</td>\n",
       "      <td>{'kernel': 'rquadratic', 'coef0': 100.0, 'C': ...</td>\n",
       "    </tr>\n",
       "    <tr>\n",
       "      <td>19</td>\n",
       "      <td>Modis</td>\n",
       "      <td>KANNR</td>\n",
       "      <td>Normalizer</td>\n",
       "      <td>-9.85e-03</td>\n",
       "      <td>{'kernel': 'rquadratic', 'coef0': 0.01, 'C': 1...</td>\n",
       "    </tr>\n",
       "    <tr>\n",
       "      <td>20</td>\n",
       "      <td>Modis</td>\n",
       "      <td>KANNR</td>\n",
       "      <td>Standard</td>\n",
       "      <td>-4.06e+00</td>\n",
       "      <td>{'kernel': 'rquadratic', 'coef0': 0.01, 'C': 1...</td>\n",
       "    </tr>\n",
       "    <tr>\n",
       "      <td>21</td>\n",
       "      <td>Modis</td>\n",
       "      <td>KANNR</td>\n",
       "      <td>Min_Max</td>\n",
       "      <td>6.49e-01</td>\n",
       "      <td>{'kernel': 'tru', 'gamma': 1.0, 'C': 1000.0}</td>\n",
       "    </tr>\n",
       "    <tr>\n",
       "      <td>22</td>\n",
       "      <td>Modis</td>\n",
       "      <td>KANNR</td>\n",
       "      <td>Normalizer</td>\n",
       "      <td>4.58e-01</td>\n",
       "      <td>{'kernel': 'can', 'gamma': 1000.0, 'C': 1000.0}</td>\n",
       "    </tr>\n",
       "    <tr>\n",
       "      <td>23</td>\n",
       "      <td>Modis</td>\n",
       "      <td>KANNR</td>\n",
       "      <td>Standard</td>\n",
       "      <td>7.49e-01</td>\n",
       "      <td>{'kernel': 'hyperbolic', 'gamma': 1000.0, 'C':...</td>\n",
       "    </tr>\n",
       "  </tbody>\n",
       "</table>\n",
       "</div>"
      ],
      "text/plain": [
       "         db algoritmo  normalizer  bestscore  \\\n",
       "0   Landsat      KSVR     Min_Max   9.31e-01   \n",
       "1   Landsat      KSVR  Normalizer   2.61e-01   \n",
       "2   Landsat      KSVR    Standard   7.48e-01   \n",
       "3   Landsat      KSVR     Min_Max   9.10e-01   \n",
       "4   Landsat      KSVR  Normalizer   2.81e-01   \n",
       "5   Landsat      KSVR    Standard   8.95e-01   \n",
       "6   Landsat     KANNR     Min_Max   6.15e-01   \n",
       "7   Landsat     KANNR  Normalizer  -3.04e-03   \n",
       "8   Landsat     KANNR    Standard  -3.57e+00   \n",
       "9   Landsat     KANNR     Min_Max   7.02e-01   \n",
       "10  Landsat     KANNR  Normalizer   1.98e-01   \n",
       "11  Landsat     KANNR    Standard   8.44e-01   \n",
       "12    Modis      KSVR     Min_Max   8.96e-01   \n",
       "13    Modis      KSVR  Normalizer   2.24e-01   \n",
       "14    Modis      KSVR    Standard   8.95e-01   \n",
       "15    Modis      KSVR     Min_Max   8.07e-01   \n",
       "16    Modis      KSVR  Normalizer   7.57e-01   \n",
       "17    Modis      KSVR    Standard   8.60e-01   \n",
       "18    Modis     KANNR     Min_Max   5.55e-01   \n",
       "19    Modis     KANNR  Normalizer  -9.85e-03   \n",
       "20    Modis     KANNR    Standard  -4.06e+00   \n",
       "21    Modis     KANNR     Min_Max   6.49e-01   \n",
       "22    Modis     KANNR  Normalizer   4.58e-01   \n",
       "23    Modis     KANNR    Standard   7.49e-01   \n",
       "\n",
       "                                           bestparams  \n",
       "0   {'kernel': 'rquadratic', 'coef0': 1.0, 'C': 10...  \n",
       "1   {'kernel': 'rquadratic', 'coef0': 0.001, 'C': ...  \n",
       "2   {'kernel': 'rquadratic', 'coef0': 0.1, 'C': 10...  \n",
       "3   {'kernel': 'triangle', 'gamma': 1000.0, 'C': 1...  \n",
       "4   {'kernel': 'radial_basic', 'gamma': 1000.0, 'C...  \n",
       "5     {'kernel': 'rbf', 'gamma': 0.001, 'C': 10000.0}  \n",
       "6   {'kernel': 'rquadratic', 'coef0': 0.001, 'C': ...  \n",
       "7   {'kernel': 'rquadratic', 'coef0': 0.01, 'C': 1...  \n",
       "8   {'kernel': 'rquadratic', 'coef0': 100.0, 'C': ...  \n",
       "9   {'kernel': 'hyperbolic', 'gamma': 1000.0, 'C':...  \n",
       "10   {'kernel': 'can', 'gamma': 1000.0, 'C': 10000.0}  \n",
       "11  {'kernel': 'hyperbolic', 'gamma': 0.001, 'C': ...  \n",
       "12  {'kernel': 'rquadratic', 'coef0': 0.1, 'C': 10...  \n",
       "13  {'kernel': 'rquadratic', 'coef0': 0.1, 'C': 10...  \n",
       "14  {'kernel': 'rquadratic', 'coef0': 1.0, 'C': 10...  \n",
       "15      {'kernel': 'can', 'gamma': 0.1, 'C': 10000.0}  \n",
       "16  {'kernel': 'triangle', 'gamma': 0.1, 'C': 1000...  \n",
       "17        {'kernel': 'rbf', 'gamma': 1.0, 'C': 100.0}  \n",
       "18  {'kernel': 'rquadratic', 'coef0': 100.0, 'C': ...  \n",
       "19  {'kernel': 'rquadratic', 'coef0': 0.01, 'C': 1...  \n",
       "20  {'kernel': 'rquadratic', 'coef0': 0.01, 'C': 1...  \n",
       "21       {'kernel': 'tru', 'gamma': 1.0, 'C': 1000.0}  \n",
       "22    {'kernel': 'can', 'gamma': 1000.0, 'C': 1000.0}  \n",
       "23  {'kernel': 'hyperbolic', 'gamma': 1000.0, 'C':...  "
      ]
     },
     "metadata": {},
     "output_type": "display_data"
    }
   ],
   "source": [
    "results=[r1,r2,r3,r4,r5,r6,r7,r8]\n",
    "normalizers=['Min_Max','Normalizer', 'Standard'] \n",
    "print('Informe mejores resultados')\n",
    "db='Landsat'\n",
    "informe_mejores=[]\n",
    "algoritmo='KSVR'\n",
    "for i,item in enumerate(results): \n",
    "    if(i==0 or i==1 or i==4 or i==5):\n",
    "        algoritmo='KSVR'\n",
    "    else:\n",
    "        algoritmo='KANNR'\n",
    "    if(i>3):\n",
    "        db='Modis'\n",
    "    for j,r in enumerate(item):        \n",
    "        dicresult={'db':db,'algoritmo':algoritmo,'normalizer':normalizers[j],'bestscore':r.best_score_,'bestparams': r.best_params_}\n",
    "        informe_mejores.append(dicresult)\n",
    "df_informe=pd.DataFrame(informe_mejores)    \n",
    "display(df_informe)\n",
    "df_informe.to_csv('informe_mejores.csv')"
   ]
  },
  {
   "cell_type": "markdown",
   "metadata": {},
   "source": [
    "## Experimento 2"
   ]
  },
  {
   "cell_type": "markdown",
   "metadata": {},
   "source": [
    "Encontrar la mejor configuración de hiperparametros para cada kernel"
   ]
  },
  {
   "cell_type": "code",
   "execution_count": 17,
   "metadata": {},
   "outputs": [
    {
     "name": "stdout",
     "output_type": "stream",
     "text": [
      "Landsat Sensor\n",
      "kernel ['rbf']\n",
      "C [   10.   100.  1000. 10000.]\n",
      "gamma [1.e-03 1.e-02 1.e-01 1.e+00 1.e+01 1.e+02 1.e+03]\n",
      "Size  L_KSVR_rbf 12\n",
      "DB: landsat_model.csv \n",
      "\n",
      "dimentions (434, 9) (434,)\n",
      "Min_Max \n",
      "\n",
      "L_KSVR_rbf\n",
      "kernel ['rbf']\n",
      "C [   10.   100.  1000. 10000.]\n",
      "gamma [1.e-03 1.e-02 1.e-01 1.e+00 1.e+01 1.e+02 1.e+03]\n",
      "Fitting 5 folds for each of 4 candidates, totalling 20 fits\n"
     ]
    },
    {
     "name": "stderr",
     "output_type": "stream",
     "text": [
      "[Parallel(n_jobs=-1)]: Using backend LokyBackend with 4 concurrent workers.\n",
      "[Parallel(n_jobs=-1)]: Done  20 out of  20 | elapsed:    0.2s finished\n",
      "[Parallel(n_jobs=-1)]: Using backend LokyBackend with 4 concurrent workers.\n",
      "[Parallel(n_jobs=-1)]: Done  20 out of  20 | elapsed:    0.0s finished\n"
     ]
    },
    {
     "name": "stdout",
     "output_type": "stream",
     "text": [
      "Resultados random 0.3101694583892822 0.9129779935688744 {'kernel': 'rbf', 'gamma': 10.0, 'C': 10.0}\n",
      "file L_KSVR_rbf_Min_Max.csv\n",
      "Normalizer \n",
      "\n",
      "L_KSVR_rbf\n",
      "kernel ['rbf']\n",
      "C [   10.   100.  1000. 10000.]\n",
      "gamma [1.e-03 1.e-02 1.e-01 1.e+00 1.e+01 1.e+02 1.e+03]\n",
      "Fitting 5 folds for each of 4 candidates, totalling 20 fits\n",
      "Resultados random 0.1520378589630127 0.1885694484308928 {'kernel': 'rbf', 'gamma': 100.0, 'C': 1000.0}\n",
      "file L_KSVR_rbf_Normalizer.csv\n",
      "Standard \n",
      "\n",
      "L_KSVR_rbf\n",
      "kernel ['rbf']\n",
      "C [   10.   100.  1000. 10000.]\n",
      "gamma [1.e-03 1.e-02 1.e-01 1.e+00 1.e+01 1.e+02 1.e+03]\n",
      "Fitting 5 folds for each of 4 candidates, totalling 20 fits\n"
     ]
    },
    {
     "name": "stderr",
     "output_type": "stream",
     "text": [
      "[Parallel(n_jobs=-1)]: Using backend LokyBackend with 4 concurrent workers.\n",
      "[Parallel(n_jobs=-1)]: Done  20 out of  20 | elapsed:    1.1s finished\n"
     ]
    },
    {
     "name": "stdout",
     "output_type": "stream",
     "text": [
      "Resultados random 1.777719259262085 0.9079125987609065 {'kernel': 'rbf', 'gamma': 0.01, 'C': 10000.0}\n",
      "file L_KSVR_rbf_Standard.csv\n",
      "kernel ['rbf']\n",
      "C [   10.   100.  1000. 10000.]\n",
      "gamma [1.e-03 1.e-02 1.e-01 1.e+00 1.e+01 1.e+02 1.e+03]\n",
      "Size  L_KANNR_rbf 12\n",
      "DB: landsat_model.csv \n",
      "\n",
      "dimentions (434, 9) (434,)\n",
      "Min_Max \n",
      "\n",
      "L_KANNR_rbf\n",
      "kernel ['rbf']\n",
      "C [   10.   100.  1000. 10000.]\n",
      "gamma [1.e-03 1.e-02 1.e-01 1.e+00 1.e+01 1.e+02 1.e+03]\n",
      "Fitting 5 folds for each of 4 candidates, totalling 20 fits\n"
     ]
    },
    {
     "name": "stderr",
     "output_type": "stream",
     "text": [
      "[Parallel(n_jobs=-1)]: Using backend LokyBackend with 4 concurrent workers.\n",
      "[Parallel(n_jobs=-1)]: Done  20 out of  20 | elapsed:   45.8s finished\n"
     ]
    },
    {
     "name": "stdout",
     "output_type": "stream",
     "text": [
      "Resultados random 57.310861587524414 0.7012680770170832 {'kernel': 'rbf', 'gamma': 1.0, 'C': 10000.0}\n",
      "file L_KANNR_rbf_Min_Max.csv\n",
      "Normalizer \n",
      "\n",
      "L_KANNR_rbf\n",
      "kernel ['rbf']\n",
      "C [   10.   100.  1000. 10000.]\n",
      "gamma [1.e-03 1.e-02 1.e-01 1.e+00 1.e+01 1.e+02 1.e+03]\n",
      "Fitting 5 folds for each of 4 candidates, totalling 20 fits\n"
     ]
    },
    {
     "name": "stderr",
     "output_type": "stream",
     "text": [
      "[Parallel(n_jobs=-1)]: Using backend LokyBackend with 4 concurrent workers.\n",
      "[Parallel(n_jobs=-1)]: Done  20 out of  20 | elapsed:   13.4s finished\n"
     ]
    },
    {
     "name": "stdout",
     "output_type": "stream",
     "text": [
      "Resultados random 14.74616527557373 -0.003206617349285423 {'kernel': 'rbf', 'gamma': 0.01, 'C': 10.0}\n",
      "file L_KANNR_rbf_Normalizer.csv\n",
      "Standard \n",
      "\n",
      "L_KANNR_rbf\n",
      "kernel ['rbf']\n",
      "C [   10.   100.  1000. 10000.]\n",
      "gamma [1.e-03 1.e-02 1.e-01 1.e+00 1.e+01 1.e+02 1.e+03]\n",
      "Fitting 5 folds for each of 4 candidates, totalling 20 fits\n"
     ]
    },
    {
     "name": "stderr",
     "output_type": "stream",
     "text": [
      "[Parallel(n_jobs=-1)]: Using backend LokyBackend with 4 concurrent workers.\n",
      "[Parallel(n_jobs=-1)]: Done  20 out of  20 | elapsed:   54.3s finished\n"
     ]
    },
    {
     "name": "stdout",
     "output_type": "stream",
     "text": [
      "Resultados random 64.39558362960815 0.716954252359334 {'kernel': 'rbf', 'gamma': 0.01, 'C': 10.0}\n",
      "file L_KANNR_rbf_Standard.csv\n",
      "kernel ['tru']\n",
      "C [   10.   100.  1000. 10000.]\n",
      "gamma [1.e-03 1.e-02 1.e-01 1.e+00 1.e+01 1.e+02 1.e+03]\n",
      "Size  L_KSVR_tru 12\n",
      "DB: landsat_model.csv \n",
      "\n",
      "dimentions (434, 9) (434,)\n",
      "Min_Max \n",
      "\n",
      "L_KSVR_tru\n",
      "kernel ['tru']\n",
      "C [   10.   100.  1000. 10000.]\n",
      "gamma [1.e-03 1.e-02 1.e-01 1.e+00 1.e+01 1.e+02 1.e+03]\n",
      "Fitting 5 folds for each of 4 candidates, totalling 20 fits\n"
     ]
    },
    {
     "name": "stderr",
     "output_type": "stream",
     "text": [
      "[Parallel(n_jobs=-1)]: Using backend LokyBackend with 4 concurrent workers.\n",
      "[Parallel(n_jobs=-1)]: Done  20 out of  20 | elapsed:   23.8s finished\n"
     ]
    },
    {
     "name": "stdout",
     "output_type": "stream",
     "text": [
      "Resultados random 26.8053081035614 0.8838001643009364 {'kernel': 'tru', 'gamma': 100.0, 'C': 10000.0}\n",
      "file L_KSVR_tru_Min_Max.csv\n",
      "Normalizer \n",
      "\n",
      "L_KSVR_tru\n",
      "kernel ['tru']\n",
      "C [   10.   100.  1000. 10000.]\n",
      "gamma [1.e-03 1.e-02 1.e-01 1.e+00 1.e+01 1.e+02 1.e+03]\n",
      "Fitting 5 folds for each of 4 candidates, totalling 20 fits\n"
     ]
    },
    {
     "name": "stderr",
     "output_type": "stream",
     "text": [
      "[Parallel(n_jobs=-1)]: Using backend LokyBackend with 4 concurrent workers.\n",
      "[Parallel(n_jobs=-1)]: Done  20 out of  20 | elapsed:   24.2s finished\n"
     ]
    },
    {
     "name": "stdout",
     "output_type": "stream",
     "text": [
      "Resultados random 27.248314380645752 0.7856202104399588 {'kernel': 'tru', 'gamma': 0.01, 'C': 10000.0}\n",
      "file L_KSVR_tru_Normalizer.csv\n",
      "Standard \n",
      "\n",
      "L_KSVR_tru\n",
      "kernel ['tru']\n",
      "C [   10.   100.  1000. 10000.]\n",
      "gamma [1.e-03 1.e-02 1.e-01 1.e+00 1.e+01 1.e+02 1.e+03]\n",
      "Fitting 5 folds for each of 4 candidates, totalling 20 fits\n"
     ]
    },
    {
     "name": "stderr",
     "output_type": "stream",
     "text": [
      "[Parallel(n_jobs=-1)]: Using backend LokyBackend with 4 concurrent workers.\n",
      "[Parallel(n_jobs=-1)]: Done  20 out of  20 | elapsed:   22.4s finished\n"
     ]
    },
    {
     "name": "stdout",
     "output_type": "stream",
     "text": [
      "Resultados random 25.155985832214355 0.683304761268049 {'kernel': 'tru', 'gamma': 0.1, 'C': 100.0}\n",
      "file L_KSVR_tru_Standard.csv\n",
      "kernel ['tru']\n",
      "C [   10.   100.  1000. 10000.]\n",
      "gamma [1.e-03 1.e-02 1.e-01 1.e+00 1.e+01 1.e+02 1.e+03]\n",
      "Size  L_KANNR_tru 12\n",
      "DB: landsat_model.csv \n",
      "\n",
      "dimentions (434, 9) (434,)\n",
      "Min_Max \n",
      "\n",
      "L_KANNR_tru\n",
      "kernel ['tru']\n",
      "C [   10.   100.  1000. 10000.]\n",
      "gamma [1.e-03 1.e-02 1.e-01 1.e+00 1.e+01 1.e+02 1.e+03]\n",
      "Fitting 5 folds for each of 4 candidates, totalling 20 fits\n"
     ]
    },
    {
     "name": "stderr",
     "output_type": "stream",
     "text": [
      "[Parallel(n_jobs=-1)]: Using backend LokyBackend with 4 concurrent workers.\n",
      "[Parallel(n_jobs=-1)]: Done  20 out of  20 | elapsed:   26.4s finished\n"
     ]
    },
    {
     "name": "stdout",
     "output_type": "stream",
     "text": [
      "Resultados random 28.028489351272583 -0.007983860871723269 {'kernel': 'tru', 'gamma': 1000.0, 'C': 10.0}\n",
      "file L_KANNR_tru_Min_Max.csv\n",
      "Normalizer \n",
      "\n",
      "L_KANNR_tru\n",
      "kernel ['tru']\n",
      "C [   10.   100.  1000. 10000.]\n",
      "gamma [1.e-03 1.e-02 1.e-01 1.e+00 1.e+01 1.e+02 1.e+03]\n",
      "Fitting 5 folds for each of 4 candidates, totalling 20 fits\n"
     ]
    },
    {
     "name": "stderr",
     "output_type": "stream",
     "text": [
      "[Parallel(n_jobs=-1)]: Using backend LokyBackend with 4 concurrent workers.\n",
      "[Parallel(n_jobs=-1)]: Done  20 out of  20 | elapsed:   21.2s finished\n"
     ]
    },
    {
     "name": "stdout",
     "output_type": "stream",
     "text": [
      "Resultados random 27.660846948623657 0.2134341865390665 {'kernel': 'tru', 'gamma': 0.01, 'C': 10.0}\n",
      "file L_KANNR_tru_Normalizer.csv\n",
      "Standard \n",
      "\n",
      "L_KANNR_tru\n",
      "kernel ['tru']\n",
      "C [   10.   100.  1000. 10000.]\n",
      "gamma [1.e-03 1.e-02 1.e-01 1.e+00 1.e+01 1.e+02 1.e+03]\n",
      "Fitting 5 folds for each of 4 candidates, totalling 20 fits\n"
     ]
    },
    {
     "name": "stderr",
     "output_type": "stream",
     "text": [
      "[Parallel(n_jobs=-1)]: Using backend LokyBackend with 4 concurrent workers.\n",
      "[Parallel(n_jobs=-1)]: Done  20 out of  20 | elapsed:   34.9s finished\n"
     ]
    },
    {
     "name": "stdout",
     "output_type": "stream",
     "text": [
      "Resultados random 42.266714572906494 0.5079828991778067 {'kernel': 'tru', 'gamma': 10.0, 'C': 100.0}\n",
      "file L_KANNR_tru_Standard.csv\n",
      "kernel ['can']\n",
      "C [   10.   100.  1000. 10000.]\n",
      "gamma [1.e-03 1.e-02 1.e-01 1.e+00 1.e+01 1.e+02 1.e+03]\n",
      "Size  L_KSVR_can 12\n",
      "DB: landsat_model.csv \n",
      "\n",
      "dimentions (434, 9) (434,)\n",
      "Min_Max \n",
      "\n",
      "L_KSVR_can\n",
      "kernel ['can']\n",
      "C [   10.   100.  1000. 10000.]\n",
      "gamma [1.e-03 1.e-02 1.e-01 1.e+00 1.e+01 1.e+02 1.e+03]\n",
      "Fitting 5 folds for each of 4 candidates, totalling 20 fits\n"
     ]
    },
    {
     "name": "stderr",
     "output_type": "stream",
     "text": [
      "[Parallel(n_jobs=-1)]: Using backend LokyBackend with 4 concurrent workers.\n",
      "[Parallel(n_jobs=-1)]: Done  20 out of  20 | elapsed:   27.6s finished\n"
     ]
    },
    {
     "name": "stdout",
     "output_type": "stream",
     "text": [
      "Resultados random 30.89946460723877 0.8761179672364553 {'kernel': 'can', 'gamma': 1.0, 'C': 100.0}\n",
      "file L_KSVR_can_Min_Max.csv\n",
      "Normalizer \n",
      "\n",
      "L_KSVR_can\n",
      "kernel ['can']\n",
      "C [   10.   100.  1000. 10000.]\n",
      "gamma [1.e-03 1.e-02 1.e-01 1.e+00 1.e+01 1.e+02 1.e+03]\n",
      "Fitting 5 folds for each of 4 candidates, totalling 20 fits\n"
     ]
    },
    {
     "name": "stderr",
     "output_type": "stream",
     "text": [
      "[Parallel(n_jobs=-1)]: Using backend LokyBackend with 4 concurrent workers.\n",
      "[Parallel(n_jobs=-1)]: Done  20 out of  20 | elapsed:   27.8s finished\n"
     ]
    },
    {
     "name": "stdout",
     "output_type": "stream",
     "text": [
      "Resultados random 31.288740158081055 0.8357597428447638 {'kernel': 'can', 'gamma': 0.01, 'C': 10000.0}\n",
      "file L_KSVR_can_Normalizer.csv\n",
      "Standard \n",
      "\n",
      "L_KSVR_can\n",
      "kernel ['can']\n",
      "C [   10.   100.  1000. 10000.]\n",
      "gamma [1.e-03 1.e-02 1.e-01 1.e+00 1.e+01 1.e+02 1.e+03]\n",
      "Fitting 5 folds for each of 4 candidates, totalling 20 fits\n"
     ]
    },
    {
     "name": "stderr",
     "output_type": "stream",
     "text": [
      "[Parallel(n_jobs=-1)]: Using backend LokyBackend with 4 concurrent workers.\n",
      "[Parallel(n_jobs=-1)]: Done  20 out of  20 | elapsed:   27.8s finished\n"
     ]
    },
    {
     "name": "stdout",
     "output_type": "stream",
     "text": [
      "Resultados random 31.18629765510559 0.8473406359197327 {'kernel': 'can', 'gamma': 10.0, 'C': 1000.0}\n",
      "file L_KSVR_can_Standard.csv\n",
      "kernel ['can']\n",
      "C [   10.   100.  1000. 10000.]\n",
      "gamma [1.e-03 1.e-02 1.e-01 1.e+00 1.e+01 1.e+02 1.e+03]\n",
      "Size  L_KANNR_can 12\n",
      "DB: landsat_model.csv \n",
      "\n",
      "dimentions (434, 9) (434,)\n",
      "Min_Max \n",
      "\n",
      "L_KANNR_can\n",
      "kernel ['can']\n",
      "C [   10.   100.  1000. 10000.]\n",
      "gamma [1.e-03 1.e-02 1.e-01 1.e+00 1.e+01 1.e+02 1.e+03]\n",
      "Fitting 5 folds for each of 4 candidates, totalling 20 fits\n"
     ]
    },
    {
     "name": "stderr",
     "output_type": "stream",
     "text": [
      "[Parallel(n_jobs=-1)]: Using backend LokyBackend with 4 concurrent workers.\n",
      "[Parallel(n_jobs=-1)]: Done  20 out of  20 | elapsed:   37.0s finished\n"
     ]
    },
    {
     "name": "stdout",
     "output_type": "stream",
     "text": [
      "Resultados random 44.903520822525024 0.44528908037603027 {'kernel': 'can', 'gamma': 10.0, 'C': 10000.0}\n",
      "file L_KANNR_can_Min_Max.csv\n",
      "Normalizer \n",
      "\n",
      "L_KANNR_can\n",
      "kernel ['can']\n",
      "C [   10.   100.  1000. 10000.]\n",
      "gamma [1.e-03 1.e-02 1.e-01 1.e+00 1.e+01 1.e+02 1.e+03]\n",
      "Fitting 5 folds for each of 4 candidates, totalling 20 fits\n"
     ]
    },
    {
     "name": "stderr",
     "output_type": "stream",
     "text": [
      "[Parallel(n_jobs=-1)]: Using backend LokyBackend with 4 concurrent workers.\n",
      "[Parallel(n_jobs=-1)]: Done  20 out of  20 | elapsed:   29.8s finished\n"
     ]
    },
    {
     "name": "stdout",
     "output_type": "stream",
     "text": [
      "Resultados random 35.53245949745178 0.7278920533220165 {'kernel': 'can', 'gamma': 10.0, 'C': 10.0}\n",
      "file L_KANNR_can_Normalizer.csv\n",
      "Standard \n",
      "\n",
      "L_KANNR_can\n",
      "kernel ['can']\n",
      "C [   10.   100.  1000. 10000.]\n",
      "gamma [1.e-03 1.e-02 1.e-01 1.e+00 1.e+01 1.e+02 1.e+03]\n",
      "Fitting 5 folds for each of 4 candidates, totalling 20 fits\n"
     ]
    },
    {
     "name": "stderr",
     "output_type": "stream",
     "text": [
      "[Parallel(n_jobs=-1)]: Using backend LokyBackend with 4 concurrent workers.\n",
      "[Parallel(n_jobs=-1)]: Done  20 out of  20 | elapsed:   20.6s finished\n"
     ]
    },
    {
     "name": "stdout",
     "output_type": "stream",
     "text": [
      "Resultados random 25.018043518066406 0.7221197000128469 {'kernel': 'can', 'gamma': 100.0, 'C': 1000.0}\n",
      "file L_KANNR_can_Standard.csv\n",
      "kernel ['radial_basic']\n",
      "C [   10.   100.  1000. 10000.]\n",
      "gamma [1.e-03 1.e-02 1.e-01 1.e+00 1.e+01 1.e+02 1.e+03]\n",
      "Size  L_KSVR_radial_basic 12\n",
      "DB: landsat_model.csv \n",
      "\n",
      "dimentions (434, 9) (434,)\n",
      "Min_Max \n",
      "\n",
      "L_KSVR_radial_basic\n",
      "kernel ['radial_basic']\n",
      "C [   10.   100.  1000. 10000.]\n",
      "gamma [1.e-03 1.e-02 1.e-01 1.e+00 1.e+01 1.e+02 1.e+03]\n",
      "Fitting 5 folds for each of 4 candidates, totalling 20 fits\n"
     ]
    },
    {
     "name": "stderr",
     "output_type": "stream",
     "text": [
      "[Parallel(n_jobs=-1)]: Using backend LokyBackend with 4 concurrent workers.\n",
      "[Parallel(n_jobs=-1)]: Done  20 out of  20 | elapsed:   21.5s finished\n"
     ]
    },
    {
     "name": "stdout",
     "output_type": "stream",
     "text": [
      "Resultados random 24.46940803527832 0.9044704687713742 {'kernel': 'radial_basic', 'gamma': 0.1, 'C': 1000.0}\n",
      "file L_KSVR_radial_basic_Min_Max.csv\n",
      "Normalizer \n",
      "\n",
      "L_KSVR_radial_basic\n",
      "kernel ['radial_basic']\n",
      "C [   10.   100.  1000. 10000.]\n",
      "gamma [1.e-03 1.e-02 1.e-01 1.e+00 1.e+01 1.e+02 1.e+03]\n",
      "Fitting 5 folds for each of 4 candidates, totalling 20 fits\n"
     ]
    },
    {
     "name": "stderr",
     "output_type": "stream",
     "text": [
      "[Parallel(n_jobs=-1)]: Using backend LokyBackend with 4 concurrent workers.\n",
      "[Parallel(n_jobs=-1)]: Done  20 out of  20 | elapsed:   18.4s finished\n"
     ]
    },
    {
     "name": "stdout",
     "output_type": "stream",
     "text": [
      "Resultados random 21.267838716506958 0.2937345125906028 {'kernel': 'radial_basic', 'gamma': 1000.0, 'C': 100.0}\n",
      "file L_KSVR_radial_basic_Normalizer.csv\n",
      "Standard \n",
      "\n",
      "L_KSVR_radial_basic\n",
      "kernel ['radial_basic']\n",
      "C [   10.   100.  1000. 10000.]\n",
      "gamma [1.e-03 1.e-02 1.e-01 1.e+00 1.e+01 1.e+02 1.e+03]\n",
      "Fitting 5 folds for each of 4 candidates, totalling 20 fits\n"
     ]
    },
    {
     "name": "stderr",
     "output_type": "stream",
     "text": [
      "[Parallel(n_jobs=-1)]: Using backend LokyBackend with 4 concurrent workers.\n",
      "[Parallel(n_jobs=-1)]: Done  20 out of  20 | elapsed:  5.9min finished\n"
     ]
    },
    {
     "name": "stdout",
     "output_type": "stream",
     "text": [
      "Resultados random 369.1142518520355 0.8992882606564394 {'kernel': 'radial_basic', 'gamma': 0.01, 'C': 10000.0}\n",
      "file L_KSVR_radial_basic_Standard.csv\n",
      "kernel ['radial_basic']\n",
      "C [   10.   100.  1000. 10000.]\n",
      "gamma [1.e-03 1.e-02 1.e-01 1.e+00 1.e+01 1.e+02 1.e+03]\n",
      "Size  L_KANNR_radial_basic 12\n",
      "DB: landsat_model.csv \n",
      "\n",
      "dimentions (434, 9) (434,)\n",
      "Min_Max \n",
      "\n",
      "L_KANNR_radial_basic\n",
      "kernel ['radial_basic']\n",
      "C [   10.   100.  1000. 10000.]\n",
      "gamma [1.e-03 1.e-02 1.e-01 1.e+00 1.e+01 1.e+02 1.e+03]\n",
      "Fitting 5 folds for each of 4 candidates, totalling 20 fits\n"
     ]
    },
    {
     "name": "stderr",
     "output_type": "stream",
     "text": [
      "[Parallel(n_jobs=-1)]: Using backend LokyBackend with 4 concurrent workers.\n",
      "[Parallel(n_jobs=-1)]: Done  20 out of  20 | elapsed:   12.7s finished\n"
     ]
    },
    {
     "name": "stdout",
     "output_type": "stream",
     "text": [
      "Resultados random 14.340200424194336 -0.010662042180472175 {'kernel': 'radial_basic', 'gamma': 0.001, 'C': 100.0}\n",
      "file L_KANNR_radial_basic_Min_Max.csv\n",
      "Normalizer \n",
      "\n",
      "L_KANNR_radial_basic\n",
      "kernel ['radial_basic']\n",
      "C [   10.   100.  1000. 10000.]\n",
      "gamma [1.e-03 1.e-02 1.e-01 1.e+00 1.e+01 1.e+02 1.e+03]\n",
      "Fitting 5 folds for each of 4 candidates, totalling 20 fits\n"
     ]
    },
    {
     "name": "stderr",
     "output_type": "stream",
     "text": [
      "[Parallel(n_jobs=-1)]: Using backend LokyBackend with 4 concurrent workers.\n",
      "[Parallel(n_jobs=-1)]: Done  20 out of  20 | elapsed:    8.0s finished\n"
     ]
    },
    {
     "name": "stdout",
     "output_type": "stream",
     "text": [
      "Resultados random 9.778440952301025 -0.010262621537180517 {'kernel': 'radial_basic', 'gamma': 0.1, 'C': 100.0}\n",
      "file L_KANNR_radial_basic_Normalizer.csv\n",
      "Standard \n",
      "\n",
      "L_KANNR_radial_basic\n",
      "kernel ['radial_basic']\n",
      "C [   10.   100.  1000. 10000.]\n",
      "gamma [1.e-03 1.e-02 1.e-01 1.e+00 1.e+01 1.e+02 1.e+03]\n",
      "Fitting 5 folds for each of 4 candidates, totalling 20 fits\n"
     ]
    },
    {
     "name": "stderr",
     "output_type": "stream",
     "text": [
      "[Parallel(n_jobs=-1)]: Using backend LokyBackend with 4 concurrent workers.\n",
      "[Parallel(n_jobs=-1)]: Done  20 out of  20 | elapsed:   19.0s finished\n"
     ]
    },
    {
     "name": "stdout",
     "output_type": "stream",
     "text": [
      "Resultados random 25.265971899032593 0.18527804241583015 {'kernel': 'radial_basic', 'gamma': 1.0, 'C': 100.0}\n",
      "file L_KANNR_radial_basic_Standard.csv\n",
      "kernel ['triangle']\n",
      "C [   10.   100.  1000. 10000.]\n",
      "gamma [1.e-03 1.e-02 1.e-01 1.e+00 1.e+01 1.e+02 1.e+03]\n",
      "Size  L_KSVR_triangle 12\n",
      "DB: landsat_model.csv \n",
      "\n",
      "dimentions (434, 9) (434,)\n",
      "Min_Max \n",
      "\n",
      "L_KSVR_triangle\n",
      "kernel ['triangle']\n",
      "C [   10.   100.  1000. 10000.]\n",
      "gamma [1.e-03 1.e-02 1.e-01 1.e+00 1.e+01 1.e+02 1.e+03]\n",
      "Fitting 5 folds for each of 4 candidates, totalling 20 fits\n"
     ]
    },
    {
     "name": "stderr",
     "output_type": "stream",
     "text": [
      "[Parallel(n_jobs=-1)]: Using backend LokyBackend with 4 concurrent workers.\n",
      "[Parallel(n_jobs=-1)]: Done  20 out of  20 | elapsed:   12.7s finished\n"
     ]
    },
    {
     "name": "stdout",
     "output_type": "stream",
     "text": [
      "Resultados random 14.926387548446655 0.7904294190938833 {'kernel': 'triangle', 'gamma': 1000.0, 'C': 1000.0}\n",
      "file L_KSVR_triangle_Min_Max.csv\n",
      "Normalizer \n",
      "\n",
      "L_KSVR_triangle\n",
      "kernel ['triangle']\n",
      "C [   10.   100.  1000. 10000.]\n",
      "gamma [1.e-03 1.e-02 1.e-01 1.e+00 1.e+01 1.e+02 1.e+03]\n",
      "Fitting 5 folds for each of 4 candidates, totalling 20 fits\n"
     ]
    },
    {
     "name": "stderr",
     "output_type": "stream",
     "text": [
      "[Parallel(n_jobs=-1)]: Using backend LokyBackend with 4 concurrent workers.\n",
      "[Parallel(n_jobs=-1)]: Done  20 out of  20 | elapsed:   13.3s finished\n"
     ]
    },
    {
     "name": "stdout",
     "output_type": "stream",
     "text": [
      "Resultados random 15.599289655685425 0.4491665740031102 {'kernel': 'triangle', 'gamma': 1.0, 'C': 10000.0}\n",
      "file L_KSVR_triangle_Normalizer.csv\n",
      "Standard \n",
      "\n",
      "L_KSVR_triangle\n",
      "kernel ['triangle']\n",
      "C [   10.   100.  1000. 10000.]\n",
      "gamma [1.e-03 1.e-02 1.e-01 1.e+00 1.e+01 1.e+02 1.e+03]\n",
      "Fitting 5 folds for each of 4 candidates, totalling 20 fits\n"
     ]
    },
    {
     "name": "stderr",
     "output_type": "stream",
     "text": [
      "[Parallel(n_jobs=-1)]: Using backend LokyBackend with 4 concurrent workers.\n",
      "[Parallel(n_jobs=-1)]: Done  20 out of  20 | elapsed:   12.9s finished\n"
     ]
    },
    {
     "name": "stdout",
     "output_type": "stream",
     "text": [
      "Resultados random 14.987207174301147 0.930183220877671 {'kernel': 'triangle', 'gamma': 100.0, 'C': 1000.0}\n",
      "file L_KSVR_triangle_Standard.csv\n",
      "kernel ['triangle']\n",
      "C [   10.   100.  1000. 10000.]\n",
      "gamma [1.e-03 1.e-02 1.e-01 1.e+00 1.e+01 1.e+02 1.e+03]\n",
      "Size  L_KANNR_triangle 12\n",
      "DB: landsat_model.csv \n",
      "\n",
      "dimentions (434, 9) (434,)\n",
      "Min_Max \n",
      "\n",
      "L_KANNR_triangle\n",
      "kernel ['triangle']\n",
      "C [   10.   100.  1000. 10000.]\n",
      "gamma [1.e-03 1.e-02 1.e-01 1.e+00 1.e+01 1.e+02 1.e+03]\n",
      "Fitting 5 folds for each of 4 candidates, totalling 20 fits\n"
     ]
    },
    {
     "name": "stderr",
     "output_type": "stream",
     "text": [
      "[Parallel(n_jobs=-1)]: Using backend LokyBackend with 4 concurrent workers.\n",
      "[Parallel(n_jobs=-1)]: Done  20 out of  20 | elapsed:   28.5s finished\n"
     ]
    },
    {
     "name": "stdout",
     "output_type": "stream",
     "text": [
      "Resultados random 36.81065249443054 0.012720346644950474 {'kernel': 'triangle', 'gamma': 0.1, 'C': 10000.0}\n",
      "file L_KANNR_triangle_Min_Max.csv\n",
      "Normalizer \n",
      "\n",
      "L_KANNR_triangle\n",
      "kernel ['triangle']\n",
      "C [   10.   100.  1000. 10000.]\n",
      "gamma [1.e-03 1.e-02 1.e-01 1.e+00 1.e+01 1.e+02 1.e+03]\n",
      "Fitting 5 folds for each of 4 candidates, totalling 20 fits\n"
     ]
    },
    {
     "name": "stderr",
     "output_type": "stream",
     "text": [
      "[Parallel(n_jobs=-1)]: Using backend LokyBackend with 4 concurrent workers.\n",
      "[Parallel(n_jobs=-1)]: Done  20 out of  20 | elapsed:   33.4s finished\n"
     ]
    },
    {
     "name": "stdout",
     "output_type": "stream",
     "text": [
      "Resultados random 35.065277099609375 -0.010809706168882948 {'kernel': 'triangle', 'gamma': 100.0, 'C': 1000.0}\n",
      "file L_KANNR_triangle_Normalizer.csv\n",
      "Standard \n",
      "\n",
      "L_KANNR_triangle\n",
      "kernel ['triangle']\n",
      "C [   10.   100.  1000. 10000.]\n",
      "gamma [1.e-03 1.e-02 1.e-01 1.e+00 1.e+01 1.e+02 1.e+03]\n",
      "Fitting 5 folds for each of 4 candidates, totalling 20 fits\n"
     ]
    },
    {
     "name": "stderr",
     "output_type": "stream",
     "text": [
      "[Parallel(n_jobs=-1)]: Using backend LokyBackend with 4 concurrent workers.\n",
      "[Parallel(n_jobs=-1)]: Done  20 out of  20 | elapsed:   44.9s finished\n"
     ]
    },
    {
     "name": "stdout",
     "output_type": "stream",
     "text": [
      "Resultados random 55.900716066360474 0.5698142735805266 {'kernel': 'triangle', 'gamma': 100.0, 'C': 10000.0}\n",
      "file L_KANNR_triangle_Standard.csv\n",
      "kernel ['hyperbolic']\n",
      "C [   10.   100.  1000. 10000.]\n",
      "gamma [1.e-03 1.e-02 1.e-01 1.e+00 1.e+01 1.e+02 1.e+03]\n",
      "Size  L_KSVR_hyperbolic 12\n",
      "DB: landsat_model.csv \n",
      "\n",
      "dimentions (434, 9) (434,)\n",
      "Min_Max \n",
      "\n",
      "L_KSVR_hyperbolic\n",
      "kernel ['hyperbolic']\n",
      "C [   10.   100.  1000. 10000.]\n",
      "gamma [1.e-03 1.e-02 1.e-01 1.e+00 1.e+01 1.e+02 1.e+03]\n",
      "Fitting 5 folds for each of 4 candidates, totalling 20 fits\n"
     ]
    },
    {
     "name": "stderr",
     "output_type": "stream",
     "text": [
      "[Parallel(n_jobs=-1)]: Using backend LokyBackend with 4 concurrent workers.\n",
      "[Parallel(n_jobs=-1)]: Done  20 out of  20 | elapsed:    6.7s finished\n"
     ]
    },
    {
     "name": "stdout",
     "output_type": "stream",
     "text": [
      "Resultados random 7.890129566192627 0.8563214611821496 {'kernel': 'hyperbolic', 'gamma': 0.01, 'C': 10000.0}\n",
      "file L_KSVR_hyperbolic_Min_Max.csv\n",
      "Normalizer \n",
      "\n",
      "L_KSVR_hyperbolic\n",
      "kernel ['hyperbolic']\n",
      "C [   10.   100.  1000. 10000.]\n",
      "gamma [1.e-03 1.e-02 1.e-01 1.e+00 1.e+01 1.e+02 1.e+03]\n",
      "Fitting 5 folds for each of 4 candidates, totalling 20 fits\n"
     ]
    },
    {
     "name": "stderr",
     "output_type": "stream",
     "text": [
      "[Parallel(n_jobs=-1)]: Using backend LokyBackend with 4 concurrent workers.\n",
      "[Parallel(n_jobs=-1)]: Done  20 out of  20 | elapsed:    7.5s finished\n"
     ]
    },
    {
     "name": "stdout",
     "output_type": "stream",
     "text": [
      "Resultados random 8.598719120025635 -0.3162825657281368 {'kernel': 'hyperbolic', 'gamma': 0.1, 'C': 1000.0}\n",
      "file L_KSVR_hyperbolic_Normalizer.csv\n",
      "Standard \n",
      "\n",
      "L_KSVR_hyperbolic\n",
      "kernel ['hyperbolic']\n",
      "C [   10.   100.  1000. 10000.]\n",
      "gamma [1.e-03 1.e-02 1.e-01 1.e+00 1.e+01 1.e+02 1.e+03]\n",
      "Fitting 5 folds for each of 4 candidates, totalling 20 fits\n"
     ]
    },
    {
     "name": "stderr",
     "output_type": "stream",
     "text": [
      "[Parallel(n_jobs=-1)]: Using backend LokyBackend with 4 concurrent workers.\n",
      "[Parallel(n_jobs=-1)]: Done  20 out of  20 | elapsed:    7.2s finished\n"
     ]
    },
    {
     "name": "stdout",
     "output_type": "stream",
     "text": [
      "Resultados random 8.20961594581604 0.8305189979451012 {'kernel': 'hyperbolic', 'gamma': 0.01, 'C': 100.0}\n",
      "file L_KSVR_hyperbolic_Standard.csv\n",
      "kernel ['hyperbolic']\n",
      "C [   10.   100.  1000. 10000.]\n",
      "gamma [1.e-03 1.e-02 1.e-01 1.e+00 1.e+01 1.e+02 1.e+03]\n",
      "Size  L_KANNR_hyperbolic 12\n",
      "DB: landsat_model.csv \n",
      "\n",
      "dimentions (434, 9) (434,)\n",
      "Min_Max \n",
      "\n",
      "L_KANNR_hyperbolic\n",
      "kernel ['hyperbolic']\n",
      "C [   10.   100.  1000. 10000.]\n",
      "gamma [1.e-03 1.e-02 1.e-01 1.e+00 1.e+01 1.e+02 1.e+03]\n",
      "Fitting 5 folds for each of 4 candidates, totalling 20 fits\n"
     ]
    },
    {
     "name": "stderr",
     "output_type": "stream",
     "text": [
      "[Parallel(n_jobs=-1)]: Using backend LokyBackend with 4 concurrent workers.\n",
      "[Parallel(n_jobs=-1)]: Done  20 out of  20 | elapsed:  1.4min finished\n"
     ]
    },
    {
     "name": "stdout",
     "output_type": "stream",
     "text": [
      "Resultados random 100.42558813095093 0.5165187128263332 {'kernel': 'hyperbolic', 'gamma': 10.0, 'C': 1000.0}\n",
      "file L_KANNR_hyperbolic_Min_Max.csv\n",
      "Normalizer \n",
      "\n",
      "L_KANNR_hyperbolic\n",
      "kernel ['hyperbolic']\n",
      "C [   10.   100.  1000. 10000.]\n",
      "gamma [1.e-03 1.e-02 1.e-01 1.e+00 1.e+01 1.e+02 1.e+03]\n",
      "Fitting 5 folds for each of 4 candidates, totalling 20 fits\n"
     ]
    },
    {
     "name": "stderr",
     "output_type": "stream",
     "text": [
      "[Parallel(n_jobs=-1)]: Using backend LokyBackend with 4 concurrent workers.\n",
      "[Parallel(n_jobs=-1)]: Done  20 out of  20 | elapsed:   18.4s finished\n"
     ]
    },
    {
     "name": "stdout",
     "output_type": "stream",
     "text": [
      "Resultados random 20.43293833732605 -0.004158554781385026 {'kernel': 'hyperbolic', 'gamma': 1.0, 'C': 10.0}\n",
      "file L_KANNR_hyperbolic_Normalizer.csv\n",
      "Standard \n",
      "\n",
      "L_KANNR_hyperbolic\n",
      "kernel ['hyperbolic']\n",
      "C [   10.   100.  1000. 10000.]\n",
      "gamma [1.e-03 1.e-02 1.e-01 1.e+00 1.e+01 1.e+02 1.e+03]\n",
      "Fitting 5 folds for each of 4 candidates, totalling 20 fits\n"
     ]
    },
    {
     "name": "stderr",
     "output_type": "stream",
     "text": [
      "[Parallel(n_jobs=-1)]: Using backend LokyBackend with 4 concurrent workers.\n",
      "[Parallel(n_jobs=-1)]: Done  20 out of  20 | elapsed:   28.2s finished\n"
     ]
    },
    {
     "name": "stdout",
     "output_type": "stream",
     "text": [
      "Resultados random 31.1833016872406 0.8455007048963976 {'kernel': 'hyperbolic', 'gamma': 1.0, 'C': 100.0}\n",
      "file L_KANNR_hyperbolic_Standard.csv\n",
      "Modis Sensor\n",
      "kernel ['rbf']\n",
      "C [   10.   100.  1000. 10000.]\n",
      "gamma [1.e-03 1.e-02 1.e-01 1.e+00 1.e+01 1.e+02 1.e+03]\n",
      "Size  M_KSVR_rbf 12\n",
      "DB: modis_model.csv \n",
      "\n",
      "dimentions (445, 9) (445,)\n",
      "Min_Max \n",
      "\n",
      "M_KSVR_rbf\n",
      "kernel ['rbf']\n",
      "C [   10.   100.  1000. 10000.]\n",
      "gamma [1.e-03 1.e-02 1.e-01 1.e+00 1.e+01 1.e+02 1.e+03]\n",
      "Fitting 5 folds for each of 4 candidates, totalling 20 fits\n"
     ]
    },
    {
     "name": "stderr",
     "output_type": "stream",
     "text": [
      "[Parallel(n_jobs=-1)]: Using backend LokyBackend with 4 concurrent workers.\n",
      "[Parallel(n_jobs=-1)]: Done  20 out of  20 | elapsed:    3.6s finished\n",
      "[Parallel(n_jobs=-1)]: Using backend LokyBackend with 4 concurrent workers.\n"
     ]
    },
    {
     "name": "stdout",
     "output_type": "stream",
     "text": [
      "Resultados random 3.8322784900665283 0.9025538359332266 {'kernel': 'rbf', 'gamma': 10.0, 'C': 100.0}\n",
      "file M_KSVR_rbf_Min_Max.csv\n",
      "Normalizer \n",
      "\n",
      "M_KSVR_rbf\n",
      "kernel ['rbf']\n",
      "C [   10.   100.  1000. 10000.]\n",
      "gamma [1.e-03 1.e-02 1.e-01 1.e+00 1.e+01 1.e+02 1.e+03]\n",
      "Fitting 5 folds for each of 4 candidates, totalling 20 fits\n"
     ]
    },
    {
     "name": "stderr",
     "output_type": "stream",
     "text": [
      "[Parallel(n_jobs=-1)]: Done  20 out of  20 | elapsed:    0.1s finished\n",
      "[Parallel(n_jobs=-1)]: Using backend LokyBackend with 4 concurrent workers.\n"
     ]
    },
    {
     "name": "stdout",
     "output_type": "stream",
     "text": [
      "Resultados random 0.19615721702575684 0.22250797722369717 {'kernel': 'rbf', 'gamma': 100.0, 'C': 100.0}\n",
      "file M_KSVR_rbf_Normalizer.csv\n",
      "Standard \n",
      "\n",
      "M_KSVR_rbf\n",
      "kernel ['rbf']\n",
      "C [   10.   100.  1000. 10000.]\n",
      "gamma [1.e-03 1.e-02 1.e-01 1.e+00 1.e+01 1.e+02 1.e+03]\n",
      "Fitting 5 folds for each of 4 candidates, totalling 20 fits\n"
     ]
    },
    {
     "name": "stderr",
     "output_type": "stream",
     "text": [
      "[Parallel(n_jobs=-1)]: Done  20 out of  20 | elapsed:   14.2s finished\n",
      "[Parallel(n_jobs=-1)]: Using backend LokyBackend with 4 concurrent workers.\n"
     ]
    },
    {
     "name": "stdout",
     "output_type": "stream",
     "text": [
      "Resultados random 14.374040603637695 0.8598678516413999 {'kernel': 'rbf', 'gamma': 1.0, 'C': 100.0}\n",
      "file M_KSVR_rbf_Standard.csv\n",
      "kernel ['rbf']\n",
      "C [   10.   100.  1000. 10000.]\n",
      "gamma [1.e-03 1.e-02 1.e-01 1.e+00 1.e+01 1.e+02 1.e+03]\n",
      "Size  M_KANNR_rbf 12\n",
      "DB: modis_model.csv \n",
      "\n",
      "dimentions (445, 9) (445,)\n",
      "Min_Max \n",
      "\n",
      "M_KANNR_rbf\n",
      "kernel ['rbf']\n",
      "C [   10.   100.  1000. 10000.]\n",
      "gamma [1.e-03 1.e-02 1.e-01 1.e+00 1.e+01 1.e+02 1.e+03]\n",
      "Fitting 5 folds for each of 4 candidates, totalling 20 fits\n"
     ]
    },
    {
     "name": "stderr",
     "output_type": "stream",
     "text": [
      "[Parallel(n_jobs=-1)]: Done  20 out of  20 | elapsed:  1.0min finished\n"
     ]
    },
    {
     "name": "stdout",
     "output_type": "stream",
     "text": [
      "Resultados random 69.60408687591553 0.5696807991771108 {'kernel': 'rbf', 'gamma': 0.1, 'C': 10.0}\n",
      "file M_KANNR_rbf_Min_Max.csv\n",
      "Normalizer \n",
      "\n",
      "M_KANNR_rbf\n",
      "kernel ['rbf']\n",
      "C [   10.   100.  1000. 10000.]\n",
      "gamma [1.e-03 1.e-02 1.e-01 1.e+00 1.e+01 1.e+02 1.e+03]\n",
      "Fitting 5 folds for each of 4 candidates, totalling 20 fits\n"
     ]
    },
    {
     "name": "stderr",
     "output_type": "stream",
     "text": [
      "[Parallel(n_jobs=-1)]: Using backend LokyBackend with 4 concurrent workers.\n",
      "[Parallel(n_jobs=-1)]: Done  20 out of  20 | elapsed:   17.1s finished\n"
     ]
    },
    {
     "name": "stdout",
     "output_type": "stream",
     "text": [
      "Resultados random 19.87014865875244 0.03508897378492604 {'kernel': 'rbf', 'gamma': 1000.0, 'C': 10000.0}\n",
      "file M_KANNR_rbf_Normalizer.csv\n",
      "Standard \n",
      "\n",
      "M_KANNR_rbf\n",
      "kernel ['rbf']\n",
      "C [   10.   100.  1000. 10000.]\n",
      "gamma [1.e-03 1.e-02 1.e-01 1.e+00 1.e+01 1.e+02 1.e+03]\n",
      "Fitting 5 folds for each of 4 candidates, totalling 20 fits\n"
     ]
    },
    {
     "name": "stderr",
     "output_type": "stream",
     "text": [
      "[Parallel(n_jobs=-1)]: Using backend LokyBackend with 4 concurrent workers.\n",
      "[Parallel(n_jobs=-1)]: Done  20 out of  20 | elapsed:  1.0min finished\n"
     ]
    },
    {
     "name": "stdout",
     "output_type": "stream",
     "text": [
      "Resultados random 74.27298069000244 0.5261274909176437 {'kernel': 'rbf', 'gamma': 0.1, 'C': 100.0}\n",
      "file M_KANNR_rbf_Standard.csv\n",
      "kernel ['tru']\n",
      "C [   10.   100.  1000. 10000.]\n",
      "gamma [1.e-03 1.e-02 1.e-01 1.e+00 1.e+01 1.e+02 1.e+03]\n",
      "Size  M_KSVR_tru 12\n",
      "DB: modis_model.csv \n",
      "\n",
      "dimentions (445, 9) (445,)\n",
      "Min_Max \n",
      "\n",
      "M_KSVR_tru\n",
      "kernel ['tru']\n",
      "C [   10.   100.  1000. 10000.]\n",
      "gamma [1.e-03 1.e-02 1.e-01 1.e+00 1.e+01 1.e+02 1.e+03]\n",
      "Fitting 5 folds for each of 4 candidates, totalling 20 fits\n"
     ]
    },
    {
     "name": "stderr",
     "output_type": "stream",
     "text": [
      "[Parallel(n_jobs=-1)]: Using backend LokyBackend with 4 concurrent workers.\n",
      "[Parallel(n_jobs=-1)]: Done  20 out of  20 | elapsed:   25.4s finished\n"
     ]
    },
    {
     "name": "stdout",
     "output_type": "stream",
     "text": [
      "Resultados random 28.154518365859985 0.8187025976532287 {'kernel': 'tru', 'gamma': 100.0, 'C': 10000.0}\n",
      "file M_KSVR_tru_Min_Max.csv\n",
      "Normalizer \n",
      "\n",
      "M_KSVR_tru\n",
      "kernel ['tru']\n",
      "C [   10.   100.  1000. 10000.]\n",
      "gamma [1.e-03 1.e-02 1.e-01 1.e+00 1.e+01 1.e+02 1.e+03]\n",
      "Fitting 5 folds for each of 4 candidates, totalling 20 fits\n"
     ]
    },
    {
     "name": "stderr",
     "output_type": "stream",
     "text": [
      "[Parallel(n_jobs=-1)]: Using backend LokyBackend with 4 concurrent workers.\n",
      "[Parallel(n_jobs=-1)]: Done  20 out of  20 | elapsed:   25.5s finished\n"
     ]
    },
    {
     "name": "stdout",
     "output_type": "stream",
     "text": [
      "Resultados random 28.376864910125732 0.8464350015141694 {'kernel': 'tru', 'gamma': 0.001, 'C': 10000.0}\n",
      "file M_KSVR_tru_Normalizer.csv\n",
      "Standard \n",
      "\n",
      "M_KSVR_tru\n",
      "kernel ['tru']\n",
      "C [   10.   100.  1000. 10000.]\n",
      "gamma [1.e-03 1.e-02 1.e-01 1.e+00 1.e+01 1.e+02 1.e+03]\n",
      "Fitting 5 folds for each of 4 candidates, totalling 20 fits\n"
     ]
    },
    {
     "name": "stderr",
     "output_type": "stream",
     "text": [
      "[Parallel(n_jobs=-1)]: Using backend LokyBackend with 4 concurrent workers.\n",
      "[Parallel(n_jobs=-1)]: Done  20 out of  20 | elapsed:   25.1s finished\n"
     ]
    },
    {
     "name": "stdout",
     "output_type": "stream",
     "text": [
      "Resultados random 27.789941549301147 0.8113291353543581 {'kernel': 'tru', 'gamma': 1.0, 'C': 100.0}\n",
      "file M_KSVR_tru_Standard.csv\n",
      "kernel ['tru']\n",
      "C [   10.   100.  1000. 10000.]\n",
      "gamma [1.e-03 1.e-02 1.e-01 1.e+00 1.e+01 1.e+02 1.e+03]\n",
      "Size  M_KANNR_tru 12\n",
      "DB: modis_model.csv \n",
      "\n",
      "dimentions (445, 9) (445,)\n",
      "Min_Max \n",
      "\n",
      "M_KANNR_tru\n",
      "kernel ['tru']\n",
      "C [   10.   100.  1000. 10000.]\n",
      "gamma [1.e-03 1.e-02 1.e-01 1.e+00 1.e+01 1.e+02 1.e+03]\n",
      "Fitting 5 folds for each of 4 candidates, totalling 20 fits\n"
     ]
    },
    {
     "name": "stderr",
     "output_type": "stream",
     "text": [
      "[Parallel(n_jobs=-1)]: Using backend LokyBackend with 4 concurrent workers.\n",
      "[Parallel(n_jobs=-1)]: Done  20 out of  20 | elapsed:   37.6s finished\n"
     ]
    },
    {
     "name": "stdout",
     "output_type": "stream",
     "text": [
      "Resultados random 45.76029825210571 0.6640288694707059 {'kernel': 'tru', 'gamma': 1.0, 'C': 10.0}\n",
      "file M_KANNR_tru_Min_Max.csv\n",
      "Normalizer \n",
      "\n",
      "M_KANNR_tru\n",
      "kernel ['tru']\n",
      "C [   10.   100.  1000. 10000.]\n",
      "gamma [1.e-03 1.e-02 1.e-01 1.e+00 1.e+01 1.e+02 1.e+03]\n",
      "Fitting 5 folds for each of 4 candidates, totalling 20 fits\n"
     ]
    },
    {
     "name": "stderr",
     "output_type": "stream",
     "text": [
      "[Parallel(n_jobs=-1)]: Using backend LokyBackend with 4 concurrent workers.\n",
      "[Parallel(n_jobs=-1)]: Done  20 out of  20 | elapsed:   26.0s finished\n"
     ]
    },
    {
     "name": "stdout",
     "output_type": "stream",
     "text": [
      "Resultados random 27.66964316368103 0.17962205423372346 {'kernel': 'tru', 'gamma': 0.01, 'C': 10.0}\n",
      "file M_KANNR_tru_Normalizer.csv\n",
      "Standard \n",
      "\n",
      "M_KANNR_tru\n",
      "kernel ['tru']\n",
      "C [   10.   100.  1000. 10000.]\n",
      "gamma [1.e-03 1.e-02 1.e-01 1.e+00 1.e+01 1.e+02 1.e+03]\n",
      "Fitting 5 folds for each of 4 candidates, totalling 20 fits\n"
     ]
    },
    {
     "name": "stderr",
     "output_type": "stream",
     "text": [
      "[Parallel(n_jobs=-1)]: Using backend LokyBackend with 4 concurrent workers.\n",
      "[Parallel(n_jobs=-1)]: Done  20 out of  20 | elapsed:   39.9s finished\n"
     ]
    },
    {
     "name": "stdout",
     "output_type": "stream",
     "text": [
      "Resultados random 50.72211694717407 0.47475680860710545 {'kernel': 'tru', 'gamma': 10.0, 'C': 10000.0}\n",
      "file M_KANNR_tru_Standard.csv\n",
      "kernel ['can']\n",
      "C [   10.   100.  1000. 10000.]\n",
      "gamma [1.e-03 1.e-02 1.e-01 1.e+00 1.e+01 1.e+02 1.e+03]\n",
      "Size  M_KSVR_can 12\n",
      "DB: modis_model.csv \n",
      "\n",
      "dimentions (445, 9) (445,)\n",
      "Min_Max \n",
      "\n",
      "M_KSVR_can\n",
      "kernel ['can']\n",
      "C [   10.   100.  1000. 10000.]\n",
      "gamma [1.e-03 1.e-02 1.e-01 1.e+00 1.e+01 1.e+02 1.e+03]\n",
      "Fitting 5 folds for each of 4 candidates, totalling 20 fits\n"
     ]
    },
    {
     "name": "stderr",
     "output_type": "stream",
     "text": [
      "[Parallel(n_jobs=-1)]: Using backend LokyBackend with 4 concurrent workers.\n",
      "[Parallel(n_jobs=-1)]: Done  20 out of  20 | elapsed:   29.6s finished\n"
     ]
    },
    {
     "name": "stdout",
     "output_type": "stream",
     "text": [
      "Resultados random 33.08483028411865 0.8074136046029472 {'kernel': 'can', 'gamma': 1.0, 'C': 1000.0}\n",
      "file M_KSVR_can_Min_Max.csv\n",
      "Normalizer \n",
      "\n",
      "M_KSVR_can\n",
      "kernel ['can']\n",
      "C [   10.   100.  1000. 10000.]\n",
      "gamma [1.e-03 1.e-02 1.e-01 1.e+00 1.e+01 1.e+02 1.e+03]\n",
      "Fitting 5 folds for each of 4 candidates, totalling 20 fits\n"
     ]
    },
    {
     "name": "stderr",
     "output_type": "stream",
     "text": [
      "[Parallel(n_jobs=-1)]: Using backend LokyBackend with 4 concurrent workers.\n",
      "[Parallel(n_jobs=-1)]: Done  20 out of  20 | elapsed:   30.6s finished\n"
     ]
    },
    {
     "name": "stdout",
     "output_type": "stream",
     "text": [
      "Resultados random 34.13413405418396 0.7719617026814956 {'kernel': 'can', 'gamma': 10.0, 'C': 1000.0}\n",
      "file M_KSVR_can_Normalizer.csv\n",
      "Standard \n",
      "\n",
      "M_KSVR_can\n",
      "kernel ['can']\n",
      "C [   10.   100.  1000. 10000.]\n",
      "gamma [1.e-03 1.e-02 1.e-01 1.e+00 1.e+01 1.e+02 1.e+03]\n",
      "Fitting 5 folds for each of 4 candidates, totalling 20 fits\n"
     ]
    },
    {
     "name": "stderr",
     "output_type": "stream",
     "text": [
      "[Parallel(n_jobs=-1)]: Using backend LokyBackend with 4 concurrent workers.\n",
      "[Parallel(n_jobs=-1)]: Done  20 out of  20 | elapsed:   29.3s finished\n"
     ]
    },
    {
     "name": "stdout",
     "output_type": "stream",
     "text": [
      "Resultados random 32.69219183921814 0.785861544152872 {'kernel': 'can', 'gamma': 0.01, 'C': 10000.0}\n",
      "file M_KSVR_can_Standard.csv\n",
      "kernel ['can']\n",
      "C [   10.   100.  1000. 10000.]\n",
      "gamma [1.e-03 1.e-02 1.e-01 1.e+00 1.e+01 1.e+02 1.e+03]\n",
      "Size  M_KANNR_can 12\n",
      "DB: modis_model.csv \n",
      "\n",
      "dimentions (445, 9) (445,)\n",
      "Min_Max \n",
      "\n",
      "M_KANNR_can\n",
      "kernel ['can']\n",
      "C [   10.   100.  1000. 10000.]\n",
      "gamma [1.e-03 1.e-02 1.e-01 1.e+00 1.e+01 1.e+02 1.e+03]\n",
      "Fitting 5 folds for each of 4 candidates, totalling 20 fits\n"
     ]
    },
    {
     "name": "stderr",
     "output_type": "stream",
     "text": [
      "[Parallel(n_jobs=-1)]: Using backend LokyBackend with 4 concurrent workers.\n",
      "[Parallel(n_jobs=-1)]: Done  20 out of  20 | elapsed:   40.2s finished\n"
     ]
    },
    {
     "name": "stdout",
     "output_type": "stream",
     "text": [
      "Resultados random 52.28008699417114 0.2515770874112521 {'kernel': 'can', 'gamma': 1.0, 'C': 10.0}\n",
      "file M_KANNR_can_Min_Max.csv\n",
      "Normalizer \n",
      "\n",
      "M_KANNR_can\n",
      "kernel ['can']\n",
      "C [   10.   100.  1000. 10000.]\n",
      "gamma [1.e-03 1.e-02 1.e-01 1.e+00 1.e+01 1.e+02 1.e+03]\n",
      "Fitting 5 folds for each of 4 candidates, totalling 20 fits\n"
     ]
    },
    {
     "name": "stderr",
     "output_type": "stream",
     "text": [
      "[Parallel(n_jobs=-1)]: Using backend LokyBackend with 4 concurrent workers.\n",
      "[Parallel(n_jobs=-1)]: Done  20 out of  20 | elapsed:   44.3s finished\n"
     ]
    },
    {
     "name": "stdout",
     "output_type": "stream",
     "text": [
      "Resultados random 51.40875720977783 0.39959719122002535 {'kernel': 'can', 'gamma': 100.0, 'C': 1000.0}\n",
      "file M_KANNR_can_Normalizer.csv\n",
      "Standard \n",
      "\n",
      "M_KANNR_can\n",
      "kernel ['can']\n",
      "C [   10.   100.  1000. 10000.]\n",
      "gamma [1.e-03 1.e-02 1.e-01 1.e+00 1.e+01 1.e+02 1.e+03]\n",
      "Fitting 5 folds for each of 4 candidates, totalling 20 fits\n"
     ]
    },
    {
     "name": "stderr",
     "output_type": "stream",
     "text": [
      "[Parallel(n_jobs=-1)]: Using backend LokyBackend with 4 concurrent workers.\n",
      "[Parallel(n_jobs=-1)]: Done  20 out of  20 | elapsed:   29.2s finished\n"
     ]
    },
    {
     "name": "stdout",
     "output_type": "stream",
     "text": [
      "Resultados random 37.50374913215637 0.4495948863044968 {'kernel': 'can', 'gamma': 0.1, 'C': 10.0}\n",
      "file M_KANNR_can_Standard.csv\n",
      "kernel ['radial_basic']\n",
      "C [   10.   100.  1000. 10000.]\n",
      "gamma [1.e-03 1.e-02 1.e-01 1.e+00 1.e+01 1.e+02 1.e+03]\n",
      "Size  M_KSVR_radial_basic 12\n",
      "DB: modis_model.csv \n",
      "\n",
      "dimentions (445, 9) (445,)\n",
      "Min_Max \n",
      "\n",
      "M_KSVR_radial_basic\n",
      "kernel ['radial_basic']\n",
      "C [   10.   100.  1000. 10000.]\n",
      "gamma [1.e-03 1.e-02 1.e-01 1.e+00 1.e+01 1.e+02 1.e+03]\n",
      "Fitting 5 folds for each of 4 candidates, totalling 20 fits\n"
     ]
    },
    {
     "name": "stderr",
     "output_type": "stream",
     "text": [
      "[Parallel(n_jobs=-1)]: Using backend LokyBackend with 4 concurrent workers.\n",
      "[Parallel(n_jobs=-1)]: Done  20 out of  20 | elapsed:   20.9s finished\n"
     ]
    },
    {
     "name": "stdout",
     "output_type": "stream",
     "text": [
      "Resultados random 23.513094663619995 0.8442173295015815 {'kernel': 'radial_basic', 'gamma': 1.0, 'C': 10.0}\n",
      "file M_KSVR_radial_basic_Min_Max.csv\n",
      "Normalizer \n",
      "\n",
      "M_KSVR_radial_basic\n",
      "kernel ['radial_basic']\n",
      "C [   10.   100.  1000. 10000.]\n",
      "gamma [1.e-03 1.e-02 1.e-01 1.e+00 1.e+01 1.e+02 1.e+03]\n",
      "Fitting 5 folds for each of 4 candidates, totalling 20 fits\n"
     ]
    },
    {
     "name": "stderr",
     "output_type": "stream",
     "text": [
      "[Parallel(n_jobs=-1)]: Using backend LokyBackend with 4 concurrent workers.\n",
      "[Parallel(n_jobs=-1)]: Done  20 out of  20 | elapsed:   21.2s finished\n"
     ]
    },
    {
     "name": "stdout",
     "output_type": "stream",
     "text": [
      "Resultados random 24.00706195831299 0.5220905539157396 {'kernel': 'radial_basic', 'gamma': 1000.0, 'C': 10000.0}\n",
      "file M_KSVR_radial_basic_Normalizer.csv\n",
      "Standard \n",
      "\n",
      "M_KSVR_radial_basic\n",
      "kernel ['radial_basic']\n",
      "C [   10.   100.  1000. 10000.]\n",
      "gamma [1.e-03 1.e-02 1.e-01 1.e+00 1.e+01 1.e+02 1.e+03]\n",
      "Fitting 5 folds for each of 4 candidates, totalling 20 fits\n"
     ]
    },
    {
     "name": "stderr",
     "output_type": "stream",
     "text": [
      "[Parallel(n_jobs=-1)]: Using backend LokyBackend with 4 concurrent workers.\n",
      "[Parallel(n_jobs=-1)]: Done  20 out of  20 | elapsed:  5.8min finished\n"
     ]
    },
    {
     "name": "stdout",
     "output_type": "stream",
     "text": [
      "Resultados random 352.3622281551361 0.8825866340989454 {'kernel': 'radial_basic', 'gamma': 0.001, 'C': 10000.0}\n",
      "file M_KSVR_radial_basic_Standard.csv\n",
      "kernel ['radial_basic']\n",
      "C [   10.   100.  1000. 10000.]\n",
      "gamma [1.e-03 1.e-02 1.e-01 1.e+00 1.e+01 1.e+02 1.e+03]\n",
      "Size  M_KANNR_radial_basic 12\n",
      "DB: modis_model.csv \n",
      "\n",
      "dimentions (445, 9) (445,)\n",
      "Min_Max \n",
      "\n",
      "M_KANNR_radial_basic\n",
      "kernel ['radial_basic']\n",
      "C [   10.   100.  1000. 10000.]\n",
      "gamma [1.e-03 1.e-02 1.e-01 1.e+00 1.e+01 1.e+02 1.e+03]\n",
      "Fitting 5 folds for each of 4 candidates, totalling 20 fits\n"
     ]
    },
    {
     "name": "stderr",
     "output_type": "stream",
     "text": [
      "[Parallel(n_jobs=-1)]: Using backend LokyBackend with 4 concurrent workers.\n",
      "[Parallel(n_jobs=-1)]: Done  20 out of  20 | elapsed:   24.6s finished\n"
     ]
    },
    {
     "name": "stdout",
     "output_type": "stream",
     "text": [
      "Resultados random 28.917187213897705 0.7658026992425249 {'kernel': 'radial_basic', 'gamma': 10.0, 'C': 10000.0}\n",
      "file M_KANNR_radial_basic_Min_Max.csv\n",
      "Normalizer \n",
      "\n",
      "M_KANNR_radial_basic\n",
      "kernel ['radial_basic']\n",
      "C [   10.   100.  1000. 10000.]\n",
      "gamma [1.e-03 1.e-02 1.e-01 1.e+00 1.e+01 1.e+02 1.e+03]\n",
      "Fitting 5 folds for each of 4 candidates, totalling 20 fits\n"
     ]
    },
    {
     "name": "stderr",
     "output_type": "stream",
     "text": [
      "[Parallel(n_jobs=-1)]: Using backend LokyBackend with 4 concurrent workers.\n",
      "[Parallel(n_jobs=-1)]: Done  20 out of  20 | elapsed:   10.2s finished\n"
     ]
    },
    {
     "name": "stdout",
     "output_type": "stream",
     "text": [
      "Resultados random 12.8695650100708 0.032747062804275466 {'kernel': 'radial_basic', 'gamma': 1000.0, 'C': 10000.0}\n",
      "file M_KANNR_radial_basic_Normalizer.csv\n",
      "Standard \n",
      "\n",
      "M_KANNR_radial_basic\n",
      "kernel ['radial_basic']\n",
      "C [   10.   100.  1000. 10000.]\n",
      "gamma [1.e-03 1.e-02 1.e-01 1.e+00 1.e+01 1.e+02 1.e+03]\n",
      "Fitting 5 folds for each of 4 candidates, totalling 20 fits\n"
     ]
    },
    {
     "name": "stderr",
     "output_type": "stream",
     "text": [
      "[Parallel(n_jobs=-1)]: Using backend LokyBackend with 4 concurrent workers.\n",
      "[Parallel(n_jobs=-1)]: Done  20 out of  20 | elapsed:   26.3s finished\n"
     ]
    },
    {
     "name": "stdout",
     "output_type": "stream",
     "text": [
      "Resultados random 33.20462155342102 0.7375034546379423 {'kernel': 'radial_basic', 'gamma': 0.1, 'C': 10000.0}\n",
      "file M_KANNR_radial_basic_Standard.csv\n",
      "kernel ['triangle']\n",
      "C [   10.   100.  1000. 10000.]\n",
      "gamma [1.e-03 1.e-02 1.e-01 1.e+00 1.e+01 1.e+02 1.e+03]\n",
      "Size  M_KSVR_triangle 12\n",
      "DB: modis_model.csv \n",
      "\n",
      "dimentions (445, 9) (445,)\n",
      "Min_Max \n",
      "\n",
      "M_KSVR_triangle\n",
      "kernel ['triangle']\n",
      "C [   10.   100.  1000. 10000.]\n",
      "gamma [1.e-03 1.e-02 1.e-01 1.e+00 1.e+01 1.e+02 1.e+03]\n",
      "Fitting 5 folds for each of 4 candidates, totalling 20 fits\n"
     ]
    },
    {
     "name": "stderr",
     "output_type": "stream",
     "text": [
      "[Parallel(n_jobs=-1)]: Using backend LokyBackend with 4 concurrent workers.\n",
      "[Parallel(n_jobs=-1)]: Done  20 out of  20 | elapsed:   13.6s finished\n"
     ]
    },
    {
     "name": "stdout",
     "output_type": "stream",
     "text": [
      "Resultados random 15.270468473434448 0.8454816905639313 {'kernel': 'triangle', 'gamma': 10.0, 'C': 100.0}\n",
      "file M_KSVR_triangle_Min_Max.csv\n",
      "Normalizer \n",
      "\n",
      "M_KSVR_triangle\n",
      "kernel ['triangle']\n",
      "C [   10.   100.  1000. 10000.]\n",
      "gamma [1.e-03 1.e-02 1.e-01 1.e+00 1.e+01 1.e+02 1.e+03]\n",
      "Fitting 5 folds for each of 4 candidates, totalling 20 fits\n"
     ]
    },
    {
     "name": "stderr",
     "output_type": "stream",
     "text": [
      "[Parallel(n_jobs=-1)]: Using backend LokyBackend with 4 concurrent workers.\n",
      "[Parallel(n_jobs=-1)]: Done  20 out of  20 | elapsed:   13.7s finished\n"
     ]
    },
    {
     "name": "stdout",
     "output_type": "stream",
     "text": [
      "Resultados random 15.305491209030151 0.0024443003342186124 {'kernel': 'triangle', 'gamma': 1.0, 'C': 10.0}\n",
      "file M_KSVR_triangle_Normalizer.csv\n",
      "Standard \n",
      "\n",
      "M_KSVR_triangle\n",
      "kernel ['triangle']\n",
      "C [   10.   100.  1000. 10000.]\n",
      "gamma [1.e-03 1.e-02 1.e-01 1.e+00 1.e+01 1.e+02 1.e+03]\n",
      "Fitting 5 folds for each of 4 candidates, totalling 20 fits\n"
     ]
    },
    {
     "name": "stderr",
     "output_type": "stream",
     "text": [
      "[Parallel(n_jobs=-1)]: Using backend LokyBackend with 4 concurrent workers.\n",
      "[Parallel(n_jobs=-1)]: Done  20 out of  20 | elapsed:   13.3s finished\n"
     ]
    },
    {
     "name": "stdout",
     "output_type": "stream",
     "text": [
      "Resultados random 14.804560422897339 0.8152031844451675 {'kernel': 'triangle', 'gamma': 10.0, 'C': 10.0}\n",
      "file M_KSVR_triangle_Standard.csv\n",
      "kernel ['triangle']\n",
      "C [   10.   100.  1000. 10000.]\n",
      "gamma [1.e-03 1.e-02 1.e-01 1.e+00 1.e+01 1.e+02 1.e+03]\n",
      "Size  M_KANNR_triangle 12\n",
      "DB: modis_model.csv \n",
      "\n",
      "dimentions (445, 9) (445,)\n",
      "Min_Max \n",
      "\n",
      "M_KANNR_triangle\n",
      "kernel ['triangle']\n",
      "C [   10.   100.  1000. 10000.]\n",
      "gamma [1.e-03 1.e-02 1.e-01 1.e+00 1.e+01 1.e+02 1.e+03]\n",
      "Fitting 5 folds for each of 4 candidates, totalling 20 fits\n"
     ]
    },
    {
     "name": "stderr",
     "output_type": "stream",
     "text": [
      "[Parallel(n_jobs=-1)]: Using backend LokyBackend with 4 concurrent workers.\n",
      "[Parallel(n_jobs=-1)]: Done  20 out of  20 | elapsed:   34.6s finished\n"
     ]
    },
    {
     "name": "stdout",
     "output_type": "stream",
     "text": [
      "Resultados random 41.55627393722534 0.6793951907772857 {'kernel': 'triangle', 'gamma': 10.0, 'C': 1000.0}\n",
      "file M_KANNR_triangle_Min_Max.csv\n",
      "Normalizer \n",
      "\n",
      "M_KANNR_triangle\n",
      "kernel ['triangle']\n",
      "C [   10.   100.  1000. 10000.]\n",
      "gamma [1.e-03 1.e-02 1.e-01 1.e+00 1.e+01 1.e+02 1.e+03]\n",
      "Fitting 5 folds for each of 4 candidates, totalling 20 fits\n"
     ]
    },
    {
     "name": "stderr",
     "output_type": "stream",
     "text": [
      "[Parallel(n_jobs=-1)]: Using backend LokyBackend with 4 concurrent workers.\n",
      "[Parallel(n_jobs=-1)]: Done  20 out of  20 | elapsed:   35.6s finished\n"
     ]
    },
    {
     "name": "stdout",
     "output_type": "stream",
     "text": [
      "Resultados random 44.32349157333374 -0.005814230715543609 {'kernel': 'triangle', 'gamma': 0.001, 'C': 10000.0}\n",
      "file M_KANNR_triangle_Normalizer.csv\n",
      "Standard \n",
      "\n",
      "M_KANNR_triangle\n",
      "kernel ['triangle']\n",
      "C [   10.   100.  1000. 10000.]\n",
      "gamma [1.e-03 1.e-02 1.e-01 1.e+00 1.e+01 1.e+02 1.e+03]\n",
      "Fitting 5 folds for each of 4 candidates, totalling 20 fits\n"
     ]
    },
    {
     "name": "stderr",
     "output_type": "stream",
     "text": [
      "[Parallel(n_jobs=-1)]: Using backend LokyBackend with 4 concurrent workers.\n",
      "[Parallel(n_jobs=-1)]: Done  20 out of  20 | elapsed:   33.3s finished\n"
     ]
    },
    {
     "name": "stdout",
     "output_type": "stream",
     "text": [
      "Resultados random 40.92450022697449 0.6334693659519869 {'kernel': 'triangle', 'gamma': 10.0, 'C': 10.0}\n",
      "file M_KANNR_triangle_Standard.csv\n",
      "kernel ['hyperbolic']\n",
      "C [   10.   100.  1000. 10000.]\n",
      "gamma [1.e-03 1.e-02 1.e-01 1.e+00 1.e+01 1.e+02 1.e+03]\n",
      "Size  M_KSVR_hyperbolic 12\n",
      "DB: modis_model.csv \n",
      "\n",
      "dimentions (445, 9) (445,)\n",
      "Min_Max \n",
      "\n",
      "M_KSVR_hyperbolic\n",
      "kernel ['hyperbolic']\n",
      "C [   10.   100.  1000. 10000.]\n",
      "gamma [1.e-03 1.e-02 1.e-01 1.e+00 1.e+01 1.e+02 1.e+03]\n",
      "Fitting 5 folds for each of 4 candidates, totalling 20 fits\n"
     ]
    },
    {
     "name": "stderr",
     "output_type": "stream",
     "text": [
      "[Parallel(n_jobs=-1)]: Using backend LokyBackend with 4 concurrent workers.\n",
      "[Parallel(n_jobs=-1)]: Done  20 out of  20 | elapsed:    7.7s finished\n"
     ]
    },
    {
     "name": "stdout",
     "output_type": "stream",
     "text": [
      "Resultados random 8.597851514816284 0.7779262465423259 {'kernel': 'hyperbolic', 'gamma': 0.01, 'C': 10000.0}\n",
      "file M_KSVR_hyperbolic_Min_Max.csv\n",
      "Normalizer \n",
      "\n",
      "M_KSVR_hyperbolic\n",
      "kernel ['hyperbolic']\n",
      "C [   10.   100.  1000. 10000.]\n",
      "gamma [1.e-03 1.e-02 1.e-01 1.e+00 1.e+01 1.e+02 1.e+03]\n",
      "Fitting 5 folds for each of 4 candidates, totalling 20 fits\n"
     ]
    },
    {
     "name": "stderr",
     "output_type": "stream",
     "text": [
      "[Parallel(n_jobs=-1)]: Using backend LokyBackend with 4 concurrent workers.\n",
      "[Parallel(n_jobs=-1)]: Done  20 out of  20 | elapsed:    8.1s finished\n"
     ]
    },
    {
     "name": "stdout",
     "output_type": "stream",
     "text": [
      "Resultados random 9.089077234268188 0.14403937629788666 {'kernel': 'hyperbolic', 'gamma': 1.0, 'C': 10000.0}\n",
      "file M_KSVR_hyperbolic_Normalizer.csv\n",
      "Standard \n",
      "\n",
      "M_KSVR_hyperbolic\n",
      "kernel ['hyperbolic']\n",
      "C [   10.   100.  1000. 10000.]\n",
      "gamma [1.e-03 1.e-02 1.e-01 1.e+00 1.e+01 1.e+02 1.e+03]\n",
      "Fitting 5 folds for each of 4 candidates, totalling 20 fits\n"
     ]
    },
    {
     "name": "stderr",
     "output_type": "stream",
     "text": [
      "[Parallel(n_jobs=-1)]: Using backend LokyBackend with 4 concurrent workers.\n",
      "[Parallel(n_jobs=-1)]: Done  20 out of  20 | elapsed:    7.6s finished\n"
     ]
    },
    {
     "name": "stdout",
     "output_type": "stream",
     "text": [
      "Resultados random 8.44412612915039 -30.887612565997927 {'kernel': 'hyperbolic', 'gamma': 0.01, 'C': 1000.0}\n",
      "file M_KSVR_hyperbolic_Standard.csv\n",
      "kernel ['hyperbolic']\n",
      "C [   10.   100.  1000. 10000.]\n",
      "gamma [1.e-03 1.e-02 1.e-01 1.e+00 1.e+01 1.e+02 1.e+03]\n",
      "Size  M_KANNR_hyperbolic 12\n",
      "DB: modis_model.csv \n",
      "\n",
      "dimentions (445, 9) (445,)\n",
      "Min_Max \n",
      "\n",
      "M_KANNR_hyperbolic\n",
      "kernel ['hyperbolic']\n",
      "C [   10.   100.  1000. 10000.]\n",
      "gamma [1.e-03 1.e-02 1.e-01 1.e+00 1.e+01 1.e+02 1.e+03]\n",
      "Fitting 5 folds for each of 4 candidates, totalling 20 fits\n"
     ]
    },
    {
     "name": "stderr",
     "output_type": "stream",
     "text": [
      "[Parallel(n_jobs=-1)]: Using backend LokyBackend with 4 concurrent workers.\n",
      "[Parallel(n_jobs=-1)]: Done  20 out of  20 | elapsed:  1.2min finished\n"
     ]
    },
    {
     "name": "stdout",
     "output_type": "stream",
     "text": [
      "Resultados random 73.06162810325623 0.04079698976387497 {'kernel': 'hyperbolic', 'gamma': 1.0, 'C': 10.0}\n",
      "file M_KANNR_hyperbolic_Min_Max.csv\n",
      "Normalizer \n",
      "\n",
      "M_KANNR_hyperbolic\n",
      "kernel ['hyperbolic']\n",
      "C [   10.   100.  1000. 10000.]\n",
      "gamma [1.e-03 1.e-02 1.e-01 1.e+00 1.e+01 1.e+02 1.e+03]\n",
      "Fitting 5 folds for each of 4 candidates, totalling 20 fits\n"
     ]
    },
    {
     "name": "stderr",
     "output_type": "stream",
     "text": [
      "[Parallel(n_jobs=-1)]: Using backend LokyBackend with 4 concurrent workers.\n",
      "[Parallel(n_jobs=-1)]: Done  20 out of  20 | elapsed:   19.3s finished\n"
     ]
    },
    {
     "name": "stdout",
     "output_type": "stream",
     "text": [
      "Resultados random 21.449402809143066 -0.01051440754787849 {'kernel': 'hyperbolic', 'gamma': 1000.0, 'C': 1000.0}\n",
      "file M_KANNR_hyperbolic_Normalizer.csv\n",
      "Standard \n",
      "\n",
      "M_KANNR_hyperbolic\n",
      "kernel ['hyperbolic']\n",
      "C [   10.   100.  1000. 10000.]\n",
      "gamma [1.e-03 1.e-02 1.e-01 1.e+00 1.e+01 1.e+02 1.e+03]\n",
      "Fitting 5 folds for each of 4 candidates, totalling 20 fits\n"
     ]
    },
    {
     "name": "stderr",
     "output_type": "stream",
     "text": [
      "[Parallel(n_jobs=-1)]: Using backend LokyBackend with 4 concurrent workers.\n",
      "[Parallel(n_jobs=-1)]: Done  20 out of  20 | elapsed:   31.2s finished\n"
     ]
    },
    {
     "name": "stdout",
     "output_type": "stream",
     "text": [
      "Resultados random 37.01323676109314 0.7547003440108363 {'kernel': 'hyperbolic', 'gamma': 0.001, 'C': 1000.0}\n",
      "file M_KANNR_hyperbolic_Standard.csv\n"
     ]
    }
   ],
   "source": [
    "C_param=np.array([10.,100.,1000.,10000.])\n",
    "gamma_param=np.array([1.0e-3,1.0e-2,1.0e-1,1.0,10.,100.,1000.])\n",
    "kernels_param=['rbf','tru','can','radial_basic','triangle','hyperbolic']\n",
    "print('Landsat Sensor')\n",
    "kresultsls=[r1]\n",
    "kresultsla=[r3]\n",
    "for k in kernels_param:\n",
    "    params={\"kernel\": [k],\"C\":C_param,\"gamma\" : gamma_param}\n",
    "    ksvr=evaluateModel('landsat_model.csv', params, {'name':'L_KSVR_'+k, 'value': KSVR()})\n",
    "    anvr=evaluateModel('landsat_model.csv', params, {'name':'L_KANNR_'+k, 'value': KANNR(early_stopping=True, max_iter=5000)}) \n",
    "    kresultsls.append(ksvr)\n",
    "    kresultsla.append(anvr)\n",
    "    \n",
    "print('Modis Sensor')\n",
    "kresultsms=[r5]\n",
    "kresultsma=[r7]\n",
    "for k in kernels_param:\n",
    "    params={\"kernel\": [k],\"C\":C_param,\"gamma\" : gamma_param}\n",
    "    ksvr=evaluateModel('modis_model.csv', params, {'name':'M_KSVR_'+k, 'value': KSVR()})\n",
    "    anvr=evaluateModel('modis_model.csv', params, {'name':'M_KANNR_'+k, 'value': KANNR(early_stopping=True, max_iter=5000)}) \n",
    "    kresultsms.append(ksvr)\n",
    "    kresultsma.append(anvr)\n",
    "    "
   ]
  },
  {
   "cell_type": "code",
   "execution_count": 112,
   "metadata": {},
   "outputs": [],
   "source": [
    "def get_metrics(result):\n",
    "    \n",
    "    i=np.argmax(result['mean_test_score'])\n",
    "    vec=[]\n",
    "    for j in range(5):\n",
    "        vec.append(result['split'+str(j)+'_test_score'][i])\n",
    "    return vec\n",
    "\n",
    "def plot_boxplot(title,results,names):\n",
    "    fig = plt.figure()\n",
    "    fig.suptitle(title)\n",
    "    ax = fig.add_subplot(111)\n",
    "    plt.boxplot(results)\n",
    "    ax.set_xticklabels(names)\n",
    "    fig.set_size_inches(8,6)\n",
    "    plt.show()\n",
    "\n",
    "def plot_boxplots(cvresults,db):\n",
    "    mkernels=['rq','rbf','tru','can','rb','tri','hyp']\n",
    "    mnormalizers=['Min_Max','Normalizer', 'Standard'] \n",
    "    \n",
    "    for j,norm in enumerate(mnormalizers):\n",
    "        results=[]\n",
    "        title=db+' '+norm\n",
    "        for i,kern in enumerate(mkernels):\n",
    "            \n",
    "            results.append(get_metrics(cvresults[i][j].cv_results_))\n",
    "        plot_boxplot(title, results,mkernels)\n",
    "        \n",
    "def plot_boxplots_best(cvresults,db, score):\n",
    "    mkernels=['rq','rbf','tru','can','rb','tri','hyp']\n",
    "    mnormalizers=['Min_Max','Normalizer', 'Standard'] \n",
    "    results=[]\n",
    "    results_names=[]\n",
    "    for j,norm in enumerate(mnormalizers):       \n",
    "        \n",
    "        for i,kern in enumerate(mkernels):\n",
    "            cvr=cvresults[i][j]\n",
    "            bs=cvr.best_score_\n",
    "            vcv=np.array(get_metrics(cvr.cv_results_))\n",
    "            \n",
    "            if(bs-vcv.std()>=score and bs+vcv.std()>=score):\n",
    "                results.append(vcv)\n",
    "                results_names.append(kern+' '+norm+ \" mean {0:.2f}\".format(vcv.mean()))\n",
    "    plot_boxplot(db, results,results_names)\n",
    "#get_metrics(kresultsls[0][0].cv_results_)"
   ]
  },
  {
   "cell_type": "code",
   "execution_count": 113,
   "metadata": {},
   "outputs": [
    {
     "data": {
      "image/png": "[encoded data removed]",
      "text/plain": [
       "<Figure size 576x432 with 1 Axes>"
      ]
     },
     "metadata": {
      "needs_background": "light"
     },
     "output_type": "display_data"
    },
    {
     "data": {
      "text/plain": [
       "'5.12'"
      ]
     },
     "execution_count": 113,
     "metadata": {},
     "output_type": "execute_result"
    }
   ],
   "source": [
    "\n",
    "plot_boxplots_best(kresultsls,'Landsat KSVR', score=0.9)\n",
    "\n",
    "\"{0:.2f}\".format(5.1234554321)"
   ]
  },
  {
   "cell_type": "code",
   "execution_count": 115,
   "metadata": {},
   "outputs": [
    {
     "data": {
      "image/png": "[encoded data removed]",
      "text/plain": [
       "<Figure size 576x432 with 1 Axes>"
      ]
     },
     "metadata": {
      "needs_background": "light"
     },
     "output_type": "display_data"
    }
   ],
   "source": [
    "plot_boxplots_best(kresultsla,'Landsat KANNR',score=0.8)\n",
    "\n"
   ]
  },
  {
   "cell_type": "code",
   "execution_count": 134,
   "metadata": {},
   "outputs": [
    {
     "data": {
      "image/png": "[encoded data removed]",
      "text/plain": [
       "<Figure size 576x432 with 1 Axes>"
      ]
     },
     "metadata": {
      "needs_background": "light"
     },
     "output_type": "display_data"
    }
   ],
   "source": [
    "plot_boxplots_best(kresultsms,'Modis KSVR', score=0.87)\n"
   ]
  },
  {
   "cell_type": "code",
   "execution_count": 127,
   "metadata": {},
   "outputs": [
    {
     "data": {
      "image/png": "[encoded data removed]",
      "text/plain": [
       "<Figure size 576x432 with 1 Axes>"
      ]
     },
     "metadata": {
      "needs_background": "light"
     },
     "output_type": "display_data"
    }
   ],
   "source": [
    "plot_boxplots_best(kresultsma,'Modis ANNR', 0.7)"
   ]
  },
  {
   "cell_type": "code",
   "execution_count": 25,
   "metadata": {},
   "outputs": [
    {
     "name": "stderr",
     "output_type": "stream",
     "text": [
      "C:\\Users\\Aula_info\\Anaconda3\\lib\\site-packages\\ipykernel_launcher.py:33: UserWarning: Boolean Series key will be reindexed to match DataFrame index.\n"
     ]
    },
    {
     "data": {
      "text/html": [
       "<div>\n",
       "<style scoped>\n",
       "    .dataframe tbody tr th:only-of-type {\n",
       "        vertical-align: middle;\n",
       "    }\n",
       "\n",
       "    .dataframe tbody tr th {\n",
       "        vertical-align: top;\n",
       "    }\n",
       "\n",
       "    .dataframe thead th {\n",
       "        text-align: right;\n",
       "    }\n",
       "</style>\n",
       "<table border=\"1\" class=\"dataframe\">\n",
       "  <thead>\n",
       "    <tr style=\"text-align: right;\">\n",
       "      <th></th>\n",
       "      <th>db</th>\n",
       "      <th>algoritm</th>\n",
       "      <th>normalizer</th>\n",
       "      <th>kernel</th>\n",
       "      <th>best_score</th>\n",
       "      <th>std_best_score</th>\n",
       "      <th>fit_time</th>\n",
       "      <th>std_fit_time</th>\n",
       "      <th>best_params</th>\n",
       "    </tr>\n",
       "  </thead>\n",
       "  <tbody>\n",
       "    <tr>\n",
       "      <td>0</td>\n",
       "      <td>Landsat</td>\n",
       "      <td>KSVR</td>\n",
       "      <td>Min_Max</td>\n",
       "      <td>rquadratic</td>\n",
       "      <td>0.93</td>\n",
       "      <td>1.50e-02</td>\n",
       "      <td>2.28e+00</td>\n",
       "      <td>2.28e+00</td>\n",
       "      <td>{'kernel': 'rquadratic', 'coef0': 1.0, 'C': 10...</td>\n",
       "    </tr>\n",
       "    <tr>\n",
       "      <td>17</td>\n",
       "      <td>Landsat</td>\n",
       "      <td>KSVR</td>\n",
       "      <td>Standard</td>\n",
       "      <td>triangle</td>\n",
       "      <td>0.93</td>\n",
       "      <td>1.37e-02</td>\n",
       "      <td>2.06e+00</td>\n",
       "      <td>2.06e+00</td>\n",
       "      <td>{'kernel': 'triangle', 'gamma': 100.0, 'C': 10...</td>\n",
       "    </tr>\n",
       "    <tr>\n",
       "      <td>3</td>\n",
       "      <td>Landsat</td>\n",
       "      <td>KSVR</td>\n",
       "      <td>Min_Max</td>\n",
       "      <td>rbf</td>\n",
       "      <td>0.91</td>\n",
       "      <td>2.57e-02</td>\n",
       "      <td>2.97e-02</td>\n",
       "      <td>2.97e-02</td>\n",
       "      <td>{'kernel': 'rbf', 'gamma': 10.0, 'C': 10.0}</td>\n",
       "    </tr>\n",
       "    <tr>\n",
       "      <td>5</td>\n",
       "      <td>Landsat</td>\n",
       "      <td>KSVR</td>\n",
       "      <td>Standard</td>\n",
       "      <td>rbf</td>\n",
       "      <td>0.91</td>\n",
       "      <td>6.15e-03</td>\n",
       "      <td>5.06e-01</td>\n",
       "      <td>5.06e-01</td>\n",
       "      <td>{'kernel': 'rbf', 'gamma': 0.01, 'C': 10000.0}</td>\n",
       "    </tr>\n",
       "    <tr>\n",
       "      <td>12</td>\n",
       "      <td>Landsat</td>\n",
       "      <td>KSVR</td>\n",
       "      <td>Min_Max</td>\n",
       "      <td>radial_basic</td>\n",
       "      <td>0.90</td>\n",
       "      <td>1.27e-02</td>\n",
       "      <td>3.88e+00</td>\n",
       "      <td>3.88e+00</td>\n",
       "      <td>{'kernel': 'radial_basic', 'gamma': 0.1, 'C': ...</td>\n",
       "    </tr>\n",
       "    <tr>\n",
       "      <td>14</td>\n",
       "      <td>Landsat</td>\n",
       "      <td>KSVR</td>\n",
       "      <td>Standard</td>\n",
       "      <td>radial_basic</td>\n",
       "      <td>0.90</td>\n",
       "      <td>6.19e-03</td>\n",
       "      <td>2.35e+01</td>\n",
       "      <td>2.35e+01</td>\n",
       "      <td>{'kernel': 'radial_basic', 'gamma': 0.01, 'C':...</td>\n",
       "    </tr>\n",
       "    <tr>\n",
       "      <td>6</td>\n",
       "      <td>Landsat</td>\n",
       "      <td>KSVR</td>\n",
       "      <td>Min_Max</td>\n",
       "      <td>tru</td>\n",
       "      <td>0.88</td>\n",
       "      <td>1.69e-02</td>\n",
       "      <td>4.21e+00</td>\n",
       "      <td>4.21e+00</td>\n",
       "      <td>{'kernel': 'tru', 'gamma': 100.0, 'C': 10000.0}</td>\n",
       "    </tr>\n",
       "    <tr>\n",
       "      <td>9</td>\n",
       "      <td>Landsat</td>\n",
       "      <td>KSVR</td>\n",
       "      <td>Min_Max</td>\n",
       "      <td>can</td>\n",
       "      <td>0.88</td>\n",
       "      <td>1.86e-02</td>\n",
       "      <td>4.38e+00</td>\n",
       "      <td>4.38e+00</td>\n",
       "      <td>{'kernel': 'can', 'gamma': 1.0, 'C': 100.0}</td>\n",
       "    </tr>\n",
       "    <tr>\n",
       "      <td>18</td>\n",
       "      <td>Landsat</td>\n",
       "      <td>KSVR</td>\n",
       "      <td>Min_Max</td>\n",
       "      <td>hyperbolic</td>\n",
       "      <td>0.86</td>\n",
       "      <td>1.67e-02</td>\n",
       "      <td>1.11e+00</td>\n",
       "      <td>1.11e+00</td>\n",
       "      <td>{'kernel': 'hyperbolic', 'gamma': 0.01, 'C': 1...</td>\n",
       "    </tr>\n",
       "    <tr>\n",
       "      <td>11</td>\n",
       "      <td>Landsat</td>\n",
       "      <td>KSVR</td>\n",
       "      <td>Standard</td>\n",
       "      <td>can</td>\n",
       "      <td>0.85</td>\n",
       "      <td>1.17e-02</td>\n",
       "      <td>4.34e+00</td>\n",
       "      <td>4.34e+00</td>\n",
       "      <td>{'kernel': 'can', 'gamma': 10.0, 'C': 1000.0}</td>\n",
       "    </tr>\n",
       "    <tr>\n",
       "      <td>41</td>\n",
       "      <td>Landsat</td>\n",
       "      <td>KANNR</td>\n",
       "      <td>Standard</td>\n",
       "      <td>hyperbolic</td>\n",
       "      <td>0.85</td>\n",
       "      <td>2.61e-02</td>\n",
       "      <td>5.83e+00</td>\n",
       "      <td>5.83e+00</td>\n",
       "      <td>{'kernel': 'hyperbolic', 'gamma': 1.0, 'C': 10...</td>\n",
       "    </tr>\n",
       "    <tr>\n",
       "      <td>10</td>\n",
       "      <td>Landsat</td>\n",
       "      <td>KSVR</td>\n",
       "      <td>Normalizer</td>\n",
       "      <td>can</td>\n",
       "      <td>0.84</td>\n",
       "      <td>2.65e-02</td>\n",
       "      <td>4.48e+00</td>\n",
       "      <td>4.48e+00</td>\n",
       "      <td>{'kernel': 'can', 'gamma': 0.01, 'C': 10000.0}</td>\n",
       "    </tr>\n",
       "    <tr>\n",
       "      <td>20</td>\n",
       "      <td>Landsat</td>\n",
       "      <td>KSVR</td>\n",
       "      <td>Standard</td>\n",
       "      <td>hyperbolic</td>\n",
       "      <td>0.83</td>\n",
       "      <td>1.94e-02</td>\n",
       "      <td>1.12e+00</td>\n",
       "      <td>1.12e+00</td>\n",
       "      <td>{'kernel': 'hyperbolic', 'gamma': 0.01, 'C': 1...</td>\n",
       "    </tr>\n",
       "    <tr>\n",
       "      <td>15</td>\n",
       "      <td>Landsat</td>\n",
       "      <td>KSVR</td>\n",
       "      <td>Min_Max</td>\n",
       "      <td>triangle</td>\n",
       "      <td>0.79</td>\n",
       "      <td>3.06e-02</td>\n",
       "      <td>1.93e+00</td>\n",
       "      <td>1.93e+00</td>\n",
       "      <td>{'kernel': 'triangle', 'gamma': 1000.0, 'C': 1...</td>\n",
       "    </tr>\n",
       "    <tr>\n",
       "      <td>7</td>\n",
       "      <td>Landsat</td>\n",
       "      <td>KSVR</td>\n",
       "      <td>Normalizer</td>\n",
       "      <td>tru</td>\n",
       "      <td>0.79</td>\n",
       "      <td>4.91e-02</td>\n",
       "      <td>3.64e+00</td>\n",
       "      <td>3.64e+00</td>\n",
       "      <td>{'kernel': 'tru', 'gamma': 0.01, 'C': 10000.0}</td>\n",
       "    </tr>\n",
       "    <tr>\n",
       "      <td>2</td>\n",
       "      <td>Landsat</td>\n",
       "      <td>KSVR</td>\n",
       "      <td>Standard</td>\n",
       "      <td>rquadratic</td>\n",
       "      <td>0.75</td>\n",
       "      <td>2.68e-02</td>\n",
       "      <td>2.33e+00</td>\n",
       "      <td>2.33e+00</td>\n",
       "      <td>{'kernel': 'rquadratic', 'coef0': 0.1, 'C': 10...</td>\n",
       "    </tr>\n",
       "    <tr>\n",
       "      <td>31</td>\n",
       "      <td>Landsat</td>\n",
       "      <td>KANNR</td>\n",
       "      <td>Normalizer</td>\n",
       "      <td>can</td>\n",
       "      <td>0.73</td>\n",
       "      <td>4.49e-02</td>\n",
       "      <td>7.51e+00</td>\n",
       "      <td>7.51e+00</td>\n",
       "      <td>{'kernel': 'can', 'gamma': 10.0, 'C': 10.0}</td>\n",
       "    </tr>\n",
       "    <tr>\n",
       "      <td>32</td>\n",
       "      <td>Landsat</td>\n",
       "      <td>KANNR</td>\n",
       "      <td>Standard</td>\n",
       "      <td>can</td>\n",
       "      <td>0.72</td>\n",
       "      <td>3.72e-02</td>\n",
       "      <td>4.83e+00</td>\n",
       "      <td>4.83e+00</td>\n",
       "      <td>{'kernel': 'can', 'gamma': 100.0, 'C': 1000.0}</td>\n",
       "    </tr>\n",
       "    <tr>\n",
       "      <td>26</td>\n",
       "      <td>Landsat</td>\n",
       "      <td>KANNR</td>\n",
       "      <td>Standard</td>\n",
       "      <td>rbf</td>\n",
       "      <td>0.72</td>\n",
       "      <td>1.01e-01</td>\n",
       "      <td>1.17e+01</td>\n",
       "      <td>1.17e+01</td>\n",
       "      <td>{'kernel': 'rbf', 'gamma': 0.01, 'C': 10.0}</td>\n",
       "    </tr>\n",
       "    <tr>\n",
       "      <td>24</td>\n",
       "      <td>Landsat</td>\n",
       "      <td>KANNR</td>\n",
       "      <td>Min_Max</td>\n",
       "      <td>rbf</td>\n",
       "      <td>0.70</td>\n",
       "      <td>1.04e-01</td>\n",
       "      <td>1.06e+01</td>\n",
       "      <td>1.06e+01</td>\n",
       "      <td>{'kernel': 'rbf', 'gamma': 1.0, 'C': 10000.0}</td>\n",
       "    </tr>\n",
       "    <tr>\n",
       "      <td>8</td>\n",
       "      <td>Landsat</td>\n",
       "      <td>KSVR</td>\n",
       "      <td>Standard</td>\n",
       "      <td>tru</td>\n",
       "      <td>0.68</td>\n",
       "      <td>5.63e-02</td>\n",
       "      <td>3.51e+00</td>\n",
       "      <td>3.51e+00</td>\n",
       "      <td>{'kernel': 'tru', 'gamma': 0.1, 'C': 100.0}</td>\n",
       "    </tr>\n",
       "    <tr>\n",
       "      <td>21</td>\n",
       "      <td>Landsat</td>\n",
       "      <td>KANNR</td>\n",
       "      <td>Min_Max</td>\n",
       "      <td>rquadratic</td>\n",
       "      <td>0.62</td>\n",
       "      <td>1.61e-01</td>\n",
       "      <td>1.44e+01</td>\n",
       "      <td>1.44e+01</td>\n",
       "      <td>{'kernel': 'rquadratic', 'coef0': 0.001, 'C': ...</td>\n",
       "    </tr>\n",
       "    <tr>\n",
       "      <td>38</td>\n",
       "      <td>Landsat</td>\n",
       "      <td>KANNR</td>\n",
       "      <td>Standard</td>\n",
       "      <td>triangle</td>\n",
       "      <td>0.57</td>\n",
       "      <td>3.24e-01</td>\n",
       "      <td>1.01e+01</td>\n",
       "      <td>1.01e+01</td>\n",
       "      <td>{'kernel': 'triangle', 'gamma': 100.0, 'C': 10...</td>\n",
       "    </tr>\n",
       "    <tr>\n",
       "      <td>39</td>\n",
       "      <td>Landsat</td>\n",
       "      <td>KANNR</td>\n",
       "      <td>Min_Max</td>\n",
       "      <td>hyperbolic</td>\n",
       "      <td>0.52</td>\n",
       "      <td>1.75e-01</td>\n",
       "      <td>1.45e+01</td>\n",
       "      <td>1.45e+01</td>\n",
       "      <td>{'kernel': 'hyperbolic', 'gamma': 10.0, 'C': 1...</td>\n",
       "    </tr>\n",
       "    <tr>\n",
       "      <td>29</td>\n",
       "      <td>Landsat</td>\n",
       "      <td>KANNR</td>\n",
       "      <td>Standard</td>\n",
       "      <td>tru</td>\n",
       "      <td>0.51</td>\n",
       "      <td>4.28e-01</td>\n",
       "      <td>8.53e+00</td>\n",
       "      <td>8.53e+00</td>\n",
       "      <td>{'kernel': 'tru', 'gamma': 10.0, 'C': 100.0}</td>\n",
       "    </tr>\n",
       "    <tr>\n",
       "      <td>16</td>\n",
       "      <td>Landsat</td>\n",
       "      <td>KSVR</td>\n",
       "      <td>Normalizer</td>\n",
       "      <td>triangle</td>\n",
       "      <td>0.45</td>\n",
       "      <td>1.29e-01</td>\n",
       "      <td>2.51e+00</td>\n",
       "      <td>2.51e+00</td>\n",
       "      <td>{'kernel': 'triangle', 'gamma': 1.0, 'C': 1000...</td>\n",
       "    </tr>\n",
       "    <tr>\n",
       "      <td>30</td>\n",
       "      <td>Landsat</td>\n",
       "      <td>KANNR</td>\n",
       "      <td>Min_Max</td>\n",
       "      <td>can</td>\n",
       "      <td>0.45</td>\n",
       "      <td>3.61e-01</td>\n",
       "      <td>6.21e+00</td>\n",
       "      <td>6.21e+00</td>\n",
       "      <td>{'kernel': 'can', 'gamma': 10.0, 'C': 10000.0}</td>\n",
       "    </tr>\n",
       "    <tr>\n",
       "      <td>13</td>\n",
       "      <td>Landsat</td>\n",
       "      <td>KSVR</td>\n",
       "      <td>Normalizer</td>\n",
       "      <td>radial_basic</td>\n",
       "      <td>0.29</td>\n",
       "      <td>9.15e-02</td>\n",
       "      <td>3.01e+00</td>\n",
       "      <td>3.01e+00</td>\n",
       "      <td>{'kernel': 'radial_basic', 'gamma': 1000.0, 'C...</td>\n",
       "    </tr>\n",
       "    <tr>\n",
       "      <td>1</td>\n",
       "      <td>Landsat</td>\n",
       "      <td>KSVR</td>\n",
       "      <td>Normalizer</td>\n",
       "      <td>rquadratic</td>\n",
       "      <td>0.26</td>\n",
       "      <td>7.88e-02</td>\n",
       "      <td>2.33e+00</td>\n",
       "      <td>2.33e+00</td>\n",
       "      <td>{'kernel': 'rquadratic', 'coef0': 0.001, 'C': ...</td>\n",
       "    </tr>\n",
       "    <tr>\n",
       "      <td>28</td>\n",
       "      <td>Landsat</td>\n",
       "      <td>KANNR</td>\n",
       "      <td>Normalizer</td>\n",
       "      <td>tru</td>\n",
       "      <td>0.21</td>\n",
       "      <td>1.46e-01</td>\n",
       "      <td>6.12e+00</td>\n",
       "      <td>6.12e+00</td>\n",
       "      <td>{'kernel': 'tru', 'gamma': 0.01, 'C': 10.0}</td>\n",
       "    </tr>\n",
       "    <tr>\n",
       "      <td>4</td>\n",
       "      <td>Landsat</td>\n",
       "      <td>KSVR</td>\n",
       "      <td>Normalizer</td>\n",
       "      <td>rbf</td>\n",
       "      <td>0.19</td>\n",
       "      <td>8.04e-02</td>\n",
       "      <td>7.70e-03</td>\n",
       "      <td>7.70e-03</td>\n",
       "      <td>{'kernel': 'rbf', 'gamma': 100.0, 'C': 1000.0}</td>\n",
       "    </tr>\n",
       "    <tr>\n",
       "      <td>35</td>\n",
       "      <td>Landsat</td>\n",
       "      <td>KANNR</td>\n",
       "      <td>Standard</td>\n",
       "      <td>radial_basic</td>\n",
       "      <td>0.19</td>\n",
       "      <td>2.36e-01</td>\n",
       "      <td>4.50e+00</td>\n",
       "      <td>4.50e+00</td>\n",
       "      <td>{'kernel': 'radial_basic', 'gamma': 1.0, 'C': ...</td>\n",
       "    </tr>\n",
       "    <tr>\n",
       "      <td>36</td>\n",
       "      <td>Landsat</td>\n",
       "      <td>KANNR</td>\n",
       "      <td>Min_Max</td>\n",
       "      <td>triangle</td>\n",
       "      <td>0.01</td>\n",
       "      <td>1.33e-02</td>\n",
       "      <td>9.72e+00</td>\n",
       "      <td>9.72e+00</td>\n",
       "      <td>{'kernel': 'triangle', 'gamma': 0.1, 'C': 1000...</td>\n",
       "    </tr>\n",
       "  </tbody>\n",
       "</table>\n",
       "</div>"
      ],
      "text/plain": [
       "         db algoritm  normalizer        kernel  best_score  std_best_score  \\\n",
       "0   Landsat     KSVR     Min_Max    rquadratic        0.93        1.50e-02   \n",
       "17  Landsat     KSVR    Standard      triangle        0.93        1.37e-02   \n",
       "3   Landsat     KSVR     Min_Max           rbf        0.91        2.57e-02   \n",
       "5   Landsat     KSVR    Standard           rbf        0.91        6.15e-03   \n",
       "12  Landsat     KSVR     Min_Max  radial_basic        0.90        1.27e-02   \n",
       "14  Landsat     KSVR    Standard  radial_basic        0.90        6.19e-03   \n",
       "6   Landsat     KSVR     Min_Max           tru        0.88        1.69e-02   \n",
       "9   Landsat     KSVR     Min_Max           can        0.88        1.86e-02   \n",
       "18  Landsat     KSVR     Min_Max    hyperbolic        0.86        1.67e-02   \n",
       "11  Landsat     KSVR    Standard           can        0.85        1.17e-02   \n",
       "41  Landsat    KANNR    Standard    hyperbolic        0.85        2.61e-02   \n",
       "10  Landsat     KSVR  Normalizer           can        0.84        2.65e-02   \n",
       "20  Landsat     KSVR    Standard    hyperbolic        0.83        1.94e-02   \n",
       "15  Landsat     KSVR     Min_Max      triangle        0.79        3.06e-02   \n",
       "7   Landsat     KSVR  Normalizer           tru        0.79        4.91e-02   \n",
       "2   Landsat     KSVR    Standard    rquadratic        0.75        2.68e-02   \n",
       "31  Landsat    KANNR  Normalizer           can        0.73        4.49e-02   \n",
       "32  Landsat    KANNR    Standard           can        0.72        3.72e-02   \n",
       "26  Landsat    KANNR    Standard           rbf        0.72        1.01e-01   \n",
       "24  Landsat    KANNR     Min_Max           rbf        0.70        1.04e-01   \n",
       "8   Landsat     KSVR    Standard           tru        0.68        5.63e-02   \n",
       "21  Landsat    KANNR     Min_Max    rquadratic        0.62        1.61e-01   \n",
       "38  Landsat    KANNR    Standard      triangle        0.57        3.24e-01   \n",
       "39  Landsat    KANNR     Min_Max    hyperbolic        0.52        1.75e-01   \n",
       "29  Landsat    KANNR    Standard           tru        0.51        4.28e-01   \n",
       "16  Landsat     KSVR  Normalizer      triangle        0.45        1.29e-01   \n",
       "30  Landsat    KANNR     Min_Max           can        0.45        3.61e-01   \n",
       "13  Landsat     KSVR  Normalizer  radial_basic        0.29        9.15e-02   \n",
       "1   Landsat     KSVR  Normalizer    rquadratic        0.26        7.88e-02   \n",
       "28  Landsat    KANNR  Normalizer           tru        0.21        1.46e-01   \n",
       "4   Landsat     KSVR  Normalizer           rbf        0.19        8.04e-02   \n",
       "35  Landsat    KANNR    Standard  radial_basic        0.19        2.36e-01   \n",
       "36  Landsat    KANNR     Min_Max      triangle        0.01        1.33e-02   \n",
       "\n",
       "    fit_time  std_fit_time                                        best_params  \n",
       "0   2.28e+00      2.28e+00  {'kernel': 'rquadratic', 'coef0': 1.0, 'C': 10...  \n",
       "17  2.06e+00      2.06e+00  {'kernel': 'triangle', 'gamma': 100.0, 'C': 10...  \n",
       "3   2.97e-02      2.97e-02        {'kernel': 'rbf', 'gamma': 10.0, 'C': 10.0}  \n",
       "5   5.06e-01      5.06e-01     {'kernel': 'rbf', 'gamma': 0.01, 'C': 10000.0}  \n",
       "12  3.88e+00      3.88e+00  {'kernel': 'radial_basic', 'gamma': 0.1, 'C': ...  \n",
       "14  2.35e+01      2.35e+01  {'kernel': 'radial_basic', 'gamma': 0.01, 'C':...  \n",
       "6   4.21e+00      4.21e+00    {'kernel': 'tru', 'gamma': 100.0, 'C': 10000.0}  \n",
       "9   4.38e+00      4.38e+00        {'kernel': 'can', 'gamma': 1.0, 'C': 100.0}  \n",
       "18  1.11e+00      1.11e+00  {'kernel': 'hyperbolic', 'gamma': 0.01, 'C': 1...  \n",
       "11  4.34e+00      4.34e+00      {'kernel': 'can', 'gamma': 10.0, 'C': 1000.0}  \n",
       "41  5.83e+00      5.83e+00  {'kernel': 'hyperbolic', 'gamma': 1.0, 'C': 10...  \n",
       "10  4.48e+00      4.48e+00     {'kernel': 'can', 'gamma': 0.01, 'C': 10000.0}  \n",
       "20  1.12e+00      1.12e+00  {'kernel': 'hyperbolic', 'gamma': 0.01, 'C': 1...  \n",
       "15  1.93e+00      1.93e+00  {'kernel': 'triangle', 'gamma': 1000.0, 'C': 1...  \n",
       "7   3.64e+00      3.64e+00     {'kernel': 'tru', 'gamma': 0.01, 'C': 10000.0}  \n",
       "2   2.33e+00      2.33e+00  {'kernel': 'rquadratic', 'coef0': 0.1, 'C': 10...  \n",
       "31  7.51e+00      7.51e+00        {'kernel': 'can', 'gamma': 10.0, 'C': 10.0}  \n",
       "32  4.83e+00      4.83e+00     {'kernel': 'can', 'gamma': 100.0, 'C': 1000.0}  \n",
       "26  1.17e+01      1.17e+01        {'kernel': 'rbf', 'gamma': 0.01, 'C': 10.0}  \n",
       "24  1.06e+01      1.06e+01      {'kernel': 'rbf', 'gamma': 1.0, 'C': 10000.0}  \n",
       "8   3.51e+00      3.51e+00        {'kernel': 'tru', 'gamma': 0.1, 'C': 100.0}  \n",
       "21  1.44e+01      1.44e+01  {'kernel': 'rquadratic', 'coef0': 0.001, 'C': ...  \n",
       "38  1.01e+01      1.01e+01  {'kernel': 'triangle', 'gamma': 100.0, 'C': 10...  \n",
       "39  1.45e+01      1.45e+01  {'kernel': 'hyperbolic', 'gamma': 10.0, 'C': 1...  \n",
       "29  8.53e+00      8.53e+00       {'kernel': 'tru', 'gamma': 10.0, 'C': 100.0}  \n",
       "16  2.51e+00      2.51e+00  {'kernel': 'triangle', 'gamma': 1.0, 'C': 1000...  \n",
       "30  6.21e+00      6.21e+00     {'kernel': 'can', 'gamma': 10.0, 'C': 10000.0}  \n",
       "13  3.01e+00      3.01e+00  {'kernel': 'radial_basic', 'gamma': 1000.0, 'C...  \n",
       "1   2.33e+00      2.33e+00  {'kernel': 'rquadratic', 'coef0': 0.001, 'C': ...  \n",
       "28  6.12e+00      6.12e+00        {'kernel': 'tru', 'gamma': 0.01, 'C': 10.0}  \n",
       "4   7.70e-03      7.70e-03     {'kernel': 'rbf', 'gamma': 100.0, 'C': 1000.0}  \n",
       "35  4.50e+00      4.50e+00  {'kernel': 'radial_basic', 'gamma': 1.0, 'C': ...  \n",
       "36  9.72e+00      9.72e+00  {'kernel': 'triangle', 'gamma': 0.1, 'C': 1000...  "
      ]
     },
     "metadata": {},
     "output_type": "display_data"
    }
   ],
   "source": [
    "r=kresultsls+kresultsla+kresultsms+kresultsma\n",
    "db=\"\"\n",
    "normalizers=['Min_Max','Normalizer', 'Standard'] \n",
    "lst_result=[]\n",
    "for i,item in enumerate(r):\n",
    "\n",
    "    if(i<14):\n",
    "        db=\"Landsat\"\n",
    "    else:\n",
    "        db=\"Modis\"\n",
    "    index_n=0\n",
    "    for tuner in item:\n",
    "        algoritmo=str(tuner.estimator)\n",
    "        algoritmo=algoritmo.split('(')[0]\n",
    "        kernel=tuner.param_distributions['kernel'][0]\n",
    "        normalizer=normalizers[index_n]\n",
    "        best_index=tuner.best_index_\n",
    "        mean_fit_time=tuner.cv_results_['mean_fit_time'][best_index]\n",
    "        std_fit_time=tuner.cv_results_['mean_fit_time'][best_index]\n",
    "        \n",
    "        v_best=get_metrics(tuner.cv_results_)\n",
    "        v_best=np.array(v_best) \n",
    "        lst_result.append({'db':db, 'algoritm':algoritmo, 'normalizer':normalizer, \n",
    "                           'kernel':kernel, 'best_score':tuner.best_score_,\n",
    "                           'std_best_score':v_best.std(),'fit_time':mean_fit_time,\n",
    "                           'std_fit_time':std_fit_time, 'best_params':tuner.best_params_})\n",
    "        \n",
    "        index_n+=1\n",
    "        if(index_n>3):\n",
    "            index_n=0\n",
    "df_exp=pd.DataFrame(lst_result)    \n",
    "df_exp.to_csv('informe_experimentofinal.csv')\n",
    "display(df_exp[df_exp['db']=='Landsat'][df_exp['best_score']>0].sort_values(['best_score','db','algoritm','normalizer','kernel'],ascending=False))\n"
   ]
  },
  {
   "cell_type": "code",
   "execution_count": 26,
   "metadata": {},
   "outputs": [
    {
     "name": "stderr",
     "output_type": "stream",
     "text": [
      "C:\\Users\\Aula_info\\Anaconda3\\lib\\site-packages\\ipykernel_launcher.py:1: UserWarning: Boolean Series key will be reindexed to match DataFrame index.\n",
      "  \"\"\"Entry point for launching an IPython kernel.\n"
     ]
    },
    {
     "data": {
      "text/html": [
       "<div>\n",
       "<style scoped>\n",
       "    .dataframe tbody tr th:only-of-type {\n",
       "        vertical-align: middle;\n",
       "    }\n",
       "\n",
       "    .dataframe tbody tr th {\n",
       "        vertical-align: top;\n",
       "    }\n",
       "\n",
       "    .dataframe thead th {\n",
       "        text-align: right;\n",
       "    }\n",
       "</style>\n",
       "<table border=\"1\" class=\"dataframe\">\n",
       "  <thead>\n",
       "    <tr style=\"text-align: right;\">\n",
       "      <th></th>\n",
       "      <th>db</th>\n",
       "      <th>algoritm</th>\n",
       "      <th>normalizer</th>\n",
       "      <th>kernel</th>\n",
       "      <th>best_score</th>\n",
       "      <th>std_best_score</th>\n",
       "      <th>fit_time</th>\n",
       "      <th>std_fit_time</th>\n",
       "      <th>best_params</th>\n",
       "    </tr>\n",
       "  </thead>\n",
       "  <tbody>\n",
       "    <tr>\n",
       "      <td>45</td>\n",
       "      <td>Modis</td>\n",
       "      <td>KSVR</td>\n",
       "      <td>Min_Max</td>\n",
       "      <td>rbf</td>\n",
       "      <td>9.03e-01</td>\n",
       "      <td>8.18e-03</td>\n",
       "      <td>0.12</td>\n",
       "      <td>0.12</td>\n",
       "      <td>{'kernel': 'rbf', 'gamma': 10.0, 'C': 100.0}</td>\n",
       "    </tr>\n",
       "    <tr>\n",
       "      <td>42</td>\n",
       "      <td>Modis</td>\n",
       "      <td>KSVR</td>\n",
       "      <td>Min_Max</td>\n",
       "      <td>rquadratic</td>\n",
       "      <td>8.96e-01</td>\n",
       "      <td>1.73e-02</td>\n",
       "      <td>2.86</td>\n",
       "      <td>2.86</td>\n",
       "      <td>{'kernel': 'rquadratic', 'coef0': 0.1, 'C': 10...</td>\n",
       "    </tr>\n",
       "    <tr>\n",
       "      <td>44</td>\n",
       "      <td>Modis</td>\n",
       "      <td>KSVR</td>\n",
       "      <td>Standard</td>\n",
       "      <td>rquadratic</td>\n",
       "      <td>8.95e-01</td>\n",
       "      <td>9.72e-03</td>\n",
       "      <td>2.60</td>\n",
       "      <td>2.60</td>\n",
       "      <td>{'kernel': 'rquadratic', 'coef0': 1.0, 'C': 10...</td>\n",
       "    </tr>\n",
       "    <tr>\n",
       "      <td>56</td>\n",
       "      <td>Modis</td>\n",
       "      <td>KSVR</td>\n",
       "      <td>Standard</td>\n",
       "      <td>radial_basic</td>\n",
       "      <td>8.83e-01</td>\n",
       "      <td>2.83e-02</td>\n",
       "      <td>4.16</td>\n",
       "      <td>4.16</td>\n",
       "      <td>{'kernel': 'radial_basic', 'gamma': 0.001, 'C'...</td>\n",
       "    </tr>\n",
       "    <tr>\n",
       "      <td>47</td>\n",
       "      <td>Modis</td>\n",
       "      <td>KSVR</td>\n",
       "      <td>Standard</td>\n",
       "      <td>rbf</td>\n",
       "      <td>8.60e-01</td>\n",
       "      <td>1.71e-02</td>\n",
       "      <td>0.07</td>\n",
       "      <td>0.07</td>\n",
       "      <td>{'kernel': 'rbf', 'gamma': 1.0, 'C': 100.0}</td>\n",
       "    </tr>\n",
       "    <tr>\n",
       "      <td>49</td>\n",
       "      <td>Modis</td>\n",
       "      <td>KSVR</td>\n",
       "      <td>Normalizer</td>\n",
       "      <td>tru</td>\n",
       "      <td>8.46e-01</td>\n",
       "      <td>1.22e-02</td>\n",
       "      <td>4.09</td>\n",
       "      <td>4.09</td>\n",
       "      <td>{'kernel': 'tru', 'gamma': 0.001, 'C': 10000.0}</td>\n",
       "    </tr>\n",
       "    <tr>\n",
       "      <td>57</td>\n",
       "      <td>Modis</td>\n",
       "      <td>KSVR</td>\n",
       "      <td>Min_Max</td>\n",
       "      <td>triangle</td>\n",
       "      <td>8.45e-01</td>\n",
       "      <td>2.64e-02</td>\n",
       "      <td>2.39</td>\n",
       "      <td>2.39</td>\n",
       "      <td>{'kernel': 'triangle', 'gamma': 10.0, 'C': 100.0}</td>\n",
       "    </tr>\n",
       "    <tr>\n",
       "      <td>54</td>\n",
       "      <td>Modis</td>\n",
       "      <td>KSVR</td>\n",
       "      <td>Min_Max</td>\n",
       "      <td>radial_basic</td>\n",
       "      <td>8.44e-01</td>\n",
       "      <td>3.71e-02</td>\n",
       "      <td>3.28</td>\n",
       "      <td>3.28</td>\n",
       "      <td>{'kernel': 'radial_basic', 'gamma': 1.0, 'C': ...</td>\n",
       "    </tr>\n",
       "    <tr>\n",
       "      <td>48</td>\n",
       "      <td>Modis</td>\n",
       "      <td>KSVR</td>\n",
       "      <td>Min_Max</td>\n",
       "      <td>tru</td>\n",
       "      <td>8.19e-01</td>\n",
       "      <td>2.14e-02</td>\n",
       "      <td>3.98</td>\n",
       "      <td>3.98</td>\n",
       "      <td>{'kernel': 'tru', 'gamma': 100.0, 'C': 10000.0}</td>\n",
       "    </tr>\n",
       "    <tr>\n",
       "      <td>59</td>\n",
       "      <td>Modis</td>\n",
       "      <td>KSVR</td>\n",
       "      <td>Standard</td>\n",
       "      <td>triangle</td>\n",
       "      <td>8.15e-01</td>\n",
       "      <td>3.00e-02</td>\n",
       "      <td>2.05</td>\n",
       "      <td>2.05</td>\n",
       "      <td>{'kernel': 'triangle', 'gamma': 10.0, 'C': 10.0}</td>\n",
       "    </tr>\n",
       "    <tr>\n",
       "      <td>50</td>\n",
       "      <td>Modis</td>\n",
       "      <td>KSVR</td>\n",
       "      <td>Standard</td>\n",
       "      <td>tru</td>\n",
       "      <td>8.11e-01</td>\n",
       "      <td>1.04e-02</td>\n",
       "      <td>3.98</td>\n",
       "      <td>3.98</td>\n",
       "      <td>{'kernel': 'tru', 'gamma': 1.0, 'C': 100.0}</td>\n",
       "    </tr>\n",
       "    <tr>\n",
       "      <td>51</td>\n",
       "      <td>Modis</td>\n",
       "      <td>KSVR</td>\n",
       "      <td>Min_Max</td>\n",
       "      <td>can</td>\n",
       "      <td>8.07e-01</td>\n",
       "      <td>2.68e-02</td>\n",
       "      <td>4.66</td>\n",
       "      <td>4.66</td>\n",
       "      <td>{'kernel': 'can', 'gamma': 1.0, 'C': 1000.0}</td>\n",
       "    </tr>\n",
       "    <tr>\n",
       "      <td>53</td>\n",
       "      <td>Modis</td>\n",
       "      <td>KSVR</td>\n",
       "      <td>Standard</td>\n",
       "      <td>can</td>\n",
       "      <td>7.86e-01</td>\n",
       "      <td>2.46e-02</td>\n",
       "      <td>4.46</td>\n",
       "      <td>4.46</td>\n",
       "      <td>{'kernel': 'can', 'gamma': 0.01, 'C': 10000.0}</td>\n",
       "    </tr>\n",
       "    <tr>\n",
       "      <td>60</td>\n",
       "      <td>Modis</td>\n",
       "      <td>KSVR</td>\n",
       "      <td>Min_Max</td>\n",
       "      <td>hyperbolic</td>\n",
       "      <td>7.78e-01</td>\n",
       "      <td>3.32e-02</td>\n",
       "      <td>1.33</td>\n",
       "      <td>1.33</td>\n",
       "      <td>{'kernel': 'hyperbolic', 'gamma': 0.01, 'C': 1...</td>\n",
       "    </tr>\n",
       "    <tr>\n",
       "      <td>52</td>\n",
       "      <td>Modis</td>\n",
       "      <td>KSVR</td>\n",
       "      <td>Normalizer</td>\n",
       "      <td>can</td>\n",
       "      <td>7.72e-01</td>\n",
       "      <td>3.69e-02</td>\n",
       "      <td>5.36</td>\n",
       "      <td>5.36</td>\n",
       "      <td>{'kernel': 'can', 'gamma': 10.0, 'C': 1000.0}</td>\n",
       "    </tr>\n",
       "    <tr>\n",
       "      <td>75</td>\n",
       "      <td>Modis</td>\n",
       "      <td>KANNR</td>\n",
       "      <td>Min_Max</td>\n",
       "      <td>radial_basic</td>\n",
       "      <td>7.66e-01</td>\n",
       "      <td>6.03e-02</td>\n",
       "      <td>7.96</td>\n",
       "      <td>7.96</td>\n",
       "      <td>{'kernel': 'radial_basic', 'gamma': 10.0, 'C':...</td>\n",
       "    </tr>\n",
       "    <tr>\n",
       "      <td>83</td>\n",
       "      <td>Modis</td>\n",
       "      <td>KANNR</td>\n",
       "      <td>Standard</td>\n",
       "      <td>hyperbolic</td>\n",
       "      <td>7.55e-01</td>\n",
       "      <td>3.98e-02</td>\n",
       "      <td>7.09</td>\n",
       "      <td>7.09</td>\n",
       "      <td>{'kernel': 'hyperbolic', 'gamma': 0.001, 'C': ...</td>\n",
       "    </tr>\n",
       "    <tr>\n",
       "      <td>77</td>\n",
       "      <td>Modis</td>\n",
       "      <td>KANNR</td>\n",
       "      <td>Standard</td>\n",
       "      <td>radial_basic</td>\n",
       "      <td>7.38e-01</td>\n",
       "      <td>9.36e-02</td>\n",
       "      <td>8.37</td>\n",
       "      <td>8.37</td>\n",
       "      <td>{'kernel': 'radial_basic', 'gamma': 0.1, 'C': ...</td>\n",
       "    </tr>\n",
       "    <tr>\n",
       "      <td>78</td>\n",
       "      <td>Modis</td>\n",
       "      <td>KANNR</td>\n",
       "      <td>Min_Max</td>\n",
       "      <td>triangle</td>\n",
       "      <td>6.79e-01</td>\n",
       "      <td>3.03e-02</td>\n",
       "      <td>10.81</td>\n",
       "      <td>10.81</td>\n",
       "      <td>{'kernel': 'triangle', 'gamma': 10.0, 'C': 100...</td>\n",
       "    </tr>\n",
       "    <tr>\n",
       "      <td>69</td>\n",
       "      <td>Modis</td>\n",
       "      <td>KANNR</td>\n",
       "      <td>Min_Max</td>\n",
       "      <td>tru</td>\n",
       "      <td>6.64e-01</td>\n",
       "      <td>3.23e-02</td>\n",
       "      <td>12.66</td>\n",
       "      <td>12.66</td>\n",
       "      <td>{'kernel': 'tru', 'gamma': 1.0, 'C': 10.0}</td>\n",
       "    </tr>\n",
       "    <tr>\n",
       "      <td>80</td>\n",
       "      <td>Modis</td>\n",
       "      <td>KANNR</td>\n",
       "      <td>Standard</td>\n",
       "      <td>triangle</td>\n",
       "      <td>6.33e-01</td>\n",
       "      <td>9.36e-02</td>\n",
       "      <td>10.30</td>\n",
       "      <td>10.30</td>\n",
       "      <td>{'kernel': 'triangle', 'gamma': 10.0, 'C': 10.0}</td>\n",
       "    </tr>\n",
       "    <tr>\n",
       "      <td>66</td>\n",
       "      <td>Modis</td>\n",
       "      <td>KANNR</td>\n",
       "      <td>Min_Max</td>\n",
       "      <td>rbf</td>\n",
       "      <td>5.70e-01</td>\n",
       "      <td>4.75e-02</td>\n",
       "      <td>12.45</td>\n",
       "      <td>12.45</td>\n",
       "      <td>{'kernel': 'rbf', 'gamma': 0.1, 'C': 10.0}</td>\n",
       "    </tr>\n",
       "    <tr>\n",
       "      <td>63</td>\n",
       "      <td>Modis</td>\n",
       "      <td>KANNR</td>\n",
       "      <td>Min_Max</td>\n",
       "      <td>rquadratic</td>\n",
       "      <td>5.55e-01</td>\n",
       "      <td>8.20e-02</td>\n",
       "      <td>9.00</td>\n",
       "      <td>9.00</td>\n",
       "      <td>{'kernel': 'rquadratic', 'coef0': 100.0, 'C': ...</td>\n",
       "    </tr>\n",
       "    <tr>\n",
       "      <td>68</td>\n",
       "      <td>Modis</td>\n",
       "      <td>KANNR</td>\n",
       "      <td>Standard</td>\n",
       "      <td>rbf</td>\n",
       "      <td>5.26e-01</td>\n",
       "      <td>1.80e-01</td>\n",
       "      <td>12.58</td>\n",
       "      <td>12.58</td>\n",
       "      <td>{'kernel': 'rbf', 'gamma': 0.1, 'C': 100.0}</td>\n",
       "    </tr>\n",
       "    <tr>\n",
       "      <td>55</td>\n",
       "      <td>Modis</td>\n",
       "      <td>KSVR</td>\n",
       "      <td>Normalizer</td>\n",
       "      <td>radial_basic</td>\n",
       "      <td>5.22e-01</td>\n",
       "      <td>5.61e-02</td>\n",
       "      <td>3.88</td>\n",
       "      <td>3.88</td>\n",
       "      <td>{'kernel': 'radial_basic', 'gamma': 1000.0, 'C...</td>\n",
       "    </tr>\n",
       "    <tr>\n",
       "      <td>71</td>\n",
       "      <td>Modis</td>\n",
       "      <td>KANNR</td>\n",
       "      <td>Standard</td>\n",
       "      <td>tru</td>\n",
       "      <td>4.75e-01</td>\n",
       "      <td>3.40e-01</td>\n",
       "      <td>8.41</td>\n",
       "      <td>8.41</td>\n",
       "      <td>{'kernel': 'tru', 'gamma': 10.0, 'C': 10000.0}</td>\n",
       "    </tr>\n",
       "    <tr>\n",
       "      <td>74</td>\n",
       "      <td>Modis</td>\n",
       "      <td>KANNR</td>\n",
       "      <td>Standard</td>\n",
       "      <td>can</td>\n",
       "      <td>4.50e-01</td>\n",
       "      <td>2.44e-01</td>\n",
       "      <td>9.86</td>\n",
       "      <td>9.86</td>\n",
       "      <td>{'kernel': 'can', 'gamma': 0.1, 'C': 10.0}</td>\n",
       "    </tr>\n",
       "    <tr>\n",
       "      <td>73</td>\n",
       "      <td>Modis</td>\n",
       "      <td>KANNR</td>\n",
       "      <td>Normalizer</td>\n",
       "      <td>can</td>\n",
       "      <td>4.00e-01</td>\n",
       "      <td>9.92e-02</td>\n",
       "      <td>5.58</td>\n",
       "      <td>5.58</td>\n",
       "      <td>{'kernel': 'can', 'gamma': 100.0, 'C': 1000.0}</td>\n",
       "    </tr>\n",
       "    <tr>\n",
       "      <td>72</td>\n",
       "      <td>Modis</td>\n",
       "      <td>KANNR</td>\n",
       "      <td>Min_Max</td>\n",
       "      <td>can</td>\n",
       "      <td>2.52e-01</td>\n",
       "      <td>6.43e-01</td>\n",
       "      <td>12.80</td>\n",
       "      <td>12.80</td>\n",
       "      <td>{'kernel': 'can', 'gamma': 1.0, 'C': 10.0}</td>\n",
       "    </tr>\n",
       "    <tr>\n",
       "      <td>43</td>\n",
       "      <td>Modis</td>\n",
       "      <td>KSVR</td>\n",
       "      <td>Normalizer</td>\n",
       "      <td>rquadratic</td>\n",
       "      <td>2.24e-01</td>\n",
       "      <td>2.80e-02</td>\n",
       "      <td>2.46</td>\n",
       "      <td>2.46</td>\n",
       "      <td>{'kernel': 'rquadratic', 'coef0': 0.1, 'C': 10...</td>\n",
       "    </tr>\n",
       "    <tr>\n",
       "      <td>46</td>\n",
       "      <td>Modis</td>\n",
       "      <td>KSVR</td>\n",
       "      <td>Normalizer</td>\n",
       "      <td>rbf</td>\n",
       "      <td>2.23e-01</td>\n",
       "      <td>3.07e-02</td>\n",
       "      <td>0.01</td>\n",
       "      <td>0.01</td>\n",
       "      <td>{'kernel': 'rbf', 'gamma': 100.0, 'C': 100.0}</td>\n",
       "    </tr>\n",
       "    <tr>\n",
       "      <td>70</td>\n",
       "      <td>Modis</td>\n",
       "      <td>KANNR</td>\n",
       "      <td>Normalizer</td>\n",
       "      <td>tru</td>\n",
       "      <td>1.80e-01</td>\n",
       "      <td>1.63e-01</td>\n",
       "      <td>5.94</td>\n",
       "      <td>5.94</td>\n",
       "      <td>{'kernel': 'tru', 'gamma': 0.01, 'C': 10.0}</td>\n",
       "    </tr>\n",
       "    <tr>\n",
       "      <td>61</td>\n",
       "      <td>Modis</td>\n",
       "      <td>KSVR</td>\n",
       "      <td>Normalizer</td>\n",
       "      <td>hyperbolic</td>\n",
       "      <td>1.44e-01</td>\n",
       "      <td>5.09e-02</td>\n",
       "      <td>1.33</td>\n",
       "      <td>1.33</td>\n",
       "      <td>{'kernel': 'hyperbolic', 'gamma': 1.0, 'C': 10...</td>\n",
       "    </tr>\n",
       "    <tr>\n",
       "      <td>81</td>\n",
       "      <td>Modis</td>\n",
       "      <td>KANNR</td>\n",
       "      <td>Min_Max</td>\n",
       "      <td>hyperbolic</td>\n",
       "      <td>4.08e-02</td>\n",
       "      <td>8.62e-01</td>\n",
       "      <td>11.96</td>\n",
       "      <td>11.96</td>\n",
       "      <td>{'kernel': 'hyperbolic', 'gamma': 1.0, 'C': 10.0}</td>\n",
       "    </tr>\n",
       "    <tr>\n",
       "      <td>67</td>\n",
       "      <td>Modis</td>\n",
       "      <td>KANNR</td>\n",
       "      <td>Normalizer</td>\n",
       "      <td>rbf</td>\n",
       "      <td>3.51e-02</td>\n",
       "      <td>1.88e-01</td>\n",
       "      <td>5.29</td>\n",
       "      <td>5.29</td>\n",
       "      <td>{'kernel': 'rbf', 'gamma': 1000.0, 'C': 10000.0}</td>\n",
       "    </tr>\n",
       "    <tr>\n",
       "      <td>76</td>\n",
       "      <td>Modis</td>\n",
       "      <td>KANNR</td>\n",
       "      <td>Normalizer</td>\n",
       "      <td>radial_basic</td>\n",
       "      <td>3.27e-02</td>\n",
       "      <td>1.06e-01</td>\n",
       "      <td>2.00</td>\n",
       "      <td>2.00</td>\n",
       "      <td>{'kernel': 'radial_basic', 'gamma': 1000.0, 'C...</td>\n",
       "    </tr>\n",
       "    <tr>\n",
       "      <td>58</td>\n",
       "      <td>Modis</td>\n",
       "      <td>KSVR</td>\n",
       "      <td>Normalizer</td>\n",
       "      <td>triangle</td>\n",
       "      <td>2.44e-03</td>\n",
       "      <td>8.90e-02</td>\n",
       "      <td>2.08</td>\n",
       "      <td>2.08</td>\n",
       "      <td>{'kernel': 'triangle', 'gamma': 1.0, 'C': 10.0}</td>\n",
       "    </tr>\n",
       "  </tbody>\n",
       "</table>\n",
       "</div>"
      ],
      "text/plain": [
       "       db algoritm  normalizer        kernel  best_score  std_best_score  \\\n",
       "45  Modis     KSVR     Min_Max           rbf    9.03e-01        8.18e-03   \n",
       "42  Modis     KSVR     Min_Max    rquadratic    8.96e-01        1.73e-02   \n",
       "44  Modis     KSVR    Standard    rquadratic    8.95e-01        9.72e-03   \n",
       "56  Modis     KSVR    Standard  radial_basic    8.83e-01        2.83e-02   \n",
       "47  Modis     KSVR    Standard           rbf    8.60e-01        1.71e-02   \n",
       "49  Modis     KSVR  Normalizer           tru    8.46e-01        1.22e-02   \n",
       "57  Modis     KSVR     Min_Max      triangle    8.45e-01        2.64e-02   \n",
       "54  Modis     KSVR     Min_Max  radial_basic    8.44e-01        3.71e-02   \n",
       "48  Modis     KSVR     Min_Max           tru    8.19e-01        2.14e-02   \n",
       "59  Modis     KSVR    Standard      triangle    8.15e-01        3.00e-02   \n",
       "50  Modis     KSVR    Standard           tru    8.11e-01        1.04e-02   \n",
       "51  Modis     KSVR     Min_Max           can    8.07e-01        2.68e-02   \n",
       "53  Modis     KSVR    Standard           can    7.86e-01        2.46e-02   \n",
       "60  Modis     KSVR     Min_Max    hyperbolic    7.78e-01        3.32e-02   \n",
       "52  Modis     KSVR  Normalizer           can    7.72e-01        3.69e-02   \n",
       "75  Modis    KANNR     Min_Max  radial_basic    7.66e-01        6.03e-02   \n",
       "83  Modis    KANNR    Standard    hyperbolic    7.55e-01        3.98e-02   \n",
       "77  Modis    KANNR    Standard  radial_basic    7.38e-01        9.36e-02   \n",
       "78  Modis    KANNR     Min_Max      triangle    6.79e-01        3.03e-02   \n",
       "69  Modis    KANNR     Min_Max           tru    6.64e-01        3.23e-02   \n",
       "80  Modis    KANNR    Standard      triangle    6.33e-01        9.36e-02   \n",
       "66  Modis    KANNR     Min_Max           rbf    5.70e-01        4.75e-02   \n",
       "63  Modis    KANNR     Min_Max    rquadratic    5.55e-01        8.20e-02   \n",
       "68  Modis    KANNR    Standard           rbf    5.26e-01        1.80e-01   \n",
       "55  Modis     KSVR  Normalizer  radial_basic    5.22e-01        5.61e-02   \n",
       "71  Modis    KANNR    Standard           tru    4.75e-01        3.40e-01   \n",
       "74  Modis    KANNR    Standard           can    4.50e-01        2.44e-01   \n",
       "73  Modis    KANNR  Normalizer           can    4.00e-01        9.92e-02   \n",
       "72  Modis    KANNR     Min_Max           can    2.52e-01        6.43e-01   \n",
       "43  Modis     KSVR  Normalizer    rquadratic    2.24e-01        2.80e-02   \n",
       "46  Modis     KSVR  Normalizer           rbf    2.23e-01        3.07e-02   \n",
       "70  Modis    KANNR  Normalizer           tru    1.80e-01        1.63e-01   \n",
       "61  Modis     KSVR  Normalizer    hyperbolic    1.44e-01        5.09e-02   \n",
       "81  Modis    KANNR     Min_Max    hyperbolic    4.08e-02        8.62e-01   \n",
       "67  Modis    KANNR  Normalizer           rbf    3.51e-02        1.88e-01   \n",
       "76  Modis    KANNR  Normalizer  radial_basic    3.27e-02        1.06e-01   \n",
       "58  Modis     KSVR  Normalizer      triangle    2.44e-03        8.90e-02   \n",
       "\n",
       "    fit_time  std_fit_time                                        best_params  \n",
       "45      0.12          0.12       {'kernel': 'rbf', 'gamma': 10.0, 'C': 100.0}  \n",
       "42      2.86          2.86  {'kernel': 'rquadratic', 'coef0': 0.1, 'C': 10...  \n",
       "44      2.60          2.60  {'kernel': 'rquadratic', 'coef0': 1.0, 'C': 10...  \n",
       "56      4.16          4.16  {'kernel': 'radial_basic', 'gamma': 0.001, 'C'...  \n",
       "47      0.07          0.07        {'kernel': 'rbf', 'gamma': 1.0, 'C': 100.0}  \n",
       "49      4.09          4.09    {'kernel': 'tru', 'gamma': 0.001, 'C': 10000.0}  \n",
       "57      2.39          2.39  {'kernel': 'triangle', 'gamma': 10.0, 'C': 100.0}  \n",
       "54      3.28          3.28  {'kernel': 'radial_basic', 'gamma': 1.0, 'C': ...  \n",
       "48      3.98          3.98    {'kernel': 'tru', 'gamma': 100.0, 'C': 10000.0}  \n",
       "59      2.05          2.05   {'kernel': 'triangle', 'gamma': 10.0, 'C': 10.0}  \n",
       "50      3.98          3.98        {'kernel': 'tru', 'gamma': 1.0, 'C': 100.0}  \n",
       "51      4.66          4.66       {'kernel': 'can', 'gamma': 1.0, 'C': 1000.0}  \n",
       "53      4.46          4.46     {'kernel': 'can', 'gamma': 0.01, 'C': 10000.0}  \n",
       "60      1.33          1.33  {'kernel': 'hyperbolic', 'gamma': 0.01, 'C': 1...  \n",
       "52      5.36          5.36      {'kernel': 'can', 'gamma': 10.0, 'C': 1000.0}  \n",
       "75      7.96          7.96  {'kernel': 'radial_basic', 'gamma': 10.0, 'C':...  \n",
       "83      7.09          7.09  {'kernel': 'hyperbolic', 'gamma': 0.001, 'C': ...  \n",
       "77      8.37          8.37  {'kernel': 'radial_basic', 'gamma': 0.1, 'C': ...  \n",
       "78     10.81         10.81  {'kernel': 'triangle', 'gamma': 10.0, 'C': 100...  \n",
       "69     12.66         12.66         {'kernel': 'tru', 'gamma': 1.0, 'C': 10.0}  \n",
       "80     10.30         10.30   {'kernel': 'triangle', 'gamma': 10.0, 'C': 10.0}  \n",
       "66     12.45         12.45         {'kernel': 'rbf', 'gamma': 0.1, 'C': 10.0}  \n",
       "63      9.00          9.00  {'kernel': 'rquadratic', 'coef0': 100.0, 'C': ...  \n",
       "68     12.58         12.58        {'kernel': 'rbf', 'gamma': 0.1, 'C': 100.0}  \n",
       "55      3.88          3.88  {'kernel': 'radial_basic', 'gamma': 1000.0, 'C...  \n",
       "71      8.41          8.41     {'kernel': 'tru', 'gamma': 10.0, 'C': 10000.0}  \n",
       "74      9.86          9.86         {'kernel': 'can', 'gamma': 0.1, 'C': 10.0}  \n",
       "73      5.58          5.58     {'kernel': 'can', 'gamma': 100.0, 'C': 1000.0}  \n",
       "72     12.80         12.80         {'kernel': 'can', 'gamma': 1.0, 'C': 10.0}  \n",
       "43      2.46          2.46  {'kernel': 'rquadratic', 'coef0': 0.1, 'C': 10...  \n",
       "46      0.01          0.01      {'kernel': 'rbf', 'gamma': 100.0, 'C': 100.0}  \n",
       "70      5.94          5.94        {'kernel': 'tru', 'gamma': 0.01, 'C': 10.0}  \n",
       "61      1.33          1.33  {'kernel': 'hyperbolic', 'gamma': 1.0, 'C': 10...  \n",
       "81     11.96         11.96  {'kernel': 'hyperbolic', 'gamma': 1.0, 'C': 10.0}  \n",
       "67      5.29          5.29   {'kernel': 'rbf', 'gamma': 1000.0, 'C': 10000.0}  \n",
       "76      2.00          2.00  {'kernel': 'radial_basic', 'gamma': 1000.0, 'C...  \n",
       "58      2.08          2.08    {'kernel': 'triangle', 'gamma': 1.0, 'C': 10.0}  "
      ]
     },
     "metadata": {},
     "output_type": "display_data"
    }
   ],
   "source": [
    "display(df_exp[df_exp['db']=='Modis'][df_exp['best_score']>0]\n",
    "        .sort_values(['best_score','db','algoritm','normalizer','kernel'],ascending=False))"
   ]
  }
 ],
 "metadata": {
  "kernelspec": {
   "display_name": "Python 3",
   "language": "python",
   "name": "python3"
  },
  "language_info": {
   "codemirror_mode": {
    "name": "ipython",
    "version": 3
   },
   "file_extension": ".py",
   "mimetype": "text/x-python",
   "name": "python",
   "nbconvert_exporter": "python",
   "pygments_lexer": "ipython3",
   "version": "3.7.4"
  }
 },
 "nbformat": 4,
 "nbformat_minor": 1
}
