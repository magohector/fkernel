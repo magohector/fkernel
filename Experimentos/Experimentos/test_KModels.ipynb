{
 "cells": [
  {
   "cell_type": "code",
   "execution_count": 1,
   "metadata": {},
   "outputs": [],
   "source": [
    "from KSVM import KSVC, KSVR\n",
    "from KANN import KANNC,KANNR"
   ]
  },
  {
   "cell_type": "code",
   "execution_count": 2,
   "metadata": {},
   "outputs": [
    {
     "name": "stdout",
     "output_type": "stream",
     "text": [
      "cmlfc 0.9736842105263158\n"
     ]
    }
   ],
   "source": [
    "from sklearn import  datasets\n",
    "from sklearn.model_selection import train_test_split\n",
    "iris = datasets.load_iris()\n",
    "Xc = iris.data\n",
    "yc = iris.target\n",
    "X_fc, X_tc, y_fc, y_tc = train_test_split(Xc, yc, test_size=0.25, random_state=0)\n",
    "svc=KSVC(kernel='mrbf', C=100,gamma=0.001,degree=2)\n",
    "svc.fit(X_fc, y_fc)\n",
    "print('cmlfc',svc.score(X_tc,y_tc))\n"
   ]
  },
  {
   "cell_type": "code",
   "execution_count": 3,
   "metadata": {},
   "outputs": [
    {
     "name": "stdout",
     "output_type": "stream",
     "text": [
      "clflr 0.6078905978280909\n"
     ]
    }
   ],
   "source": [
    "Xr, yr = datasets.load_boston(return_X_y=True)\n",
    "X_fr, X_tr, y_fr, y_tr = train_test_split(Xr, yr, test_size=0.25, random_state=0)\n",
    "svr=KSVR(kernel='mrbf', C=100,  gamma=0.001)\n",
    "svr.fit(X_fr, y_fr)\n",
    "print('clflr',svr.score(X_tr,y_tr))"
   ]
  },
  {
   "cell_type": "code",
   "execution_count": 10,
   "metadata": {},
   "outputs": [
    {
     "name": "stdout",
     "output_type": "stream",
     "text": [
      "clfk 0.7631578947368421\n"
     ]
    }
   ],
   "source": [
    "annc=KANNC(kernel='rbf',gamma=.25,random_state=0)\n",
    "annc.fit(X_fc, y_fc)\n",
    "print('clfk',annc.score(X_tc,y_tc)) "
   ]
  },
  {
   "cell_type": "code",
   "execution_count": 11,
   "metadata": {},
   "outputs": [
    {
     "name": "stdout",
     "output_type": "stream",
     "text": [
      "clfk 0.43972604804961035\n"
     ]
    }
   ],
   "source": [
    "annr=KANNR(kernel='linear', gamma=1, early_stopping=True, max_iter=5000)\n",
    "annr.fit(X_fr, y_fr)\n",
    "print('clfk',annr.score(X_tr,y_tr))"
   ]
  }
 ],
 "metadata": {
  "kernelspec": {
   "display_name": "Python 3",
   "language": "python",
   "name": "python3"
  },
  "language_info": {
   "codemirror_mode": {
    "name": "ipython",
    "version": 3
   },
   "file_extension": ".py",
   "mimetype": "text/x-python",
   "name": "python",
   "nbconvert_exporter": "python",
   "pygments_lexer": "ipython3",
   "version": "3.7.4"
  }
 },
 "nbformat": 4,
 "nbformat_minor": 2
}
