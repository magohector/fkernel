{
 "cells": [
  {
   "cell_type": "markdown",
   "metadata": {},
   "source": [
    "## Load the digits dataset and evolutionary_search"
   ]
  },
  {
   "cell_type": "code",
   "execution_count": 1,
   "metadata": {
    "scrolled": false
   },
   "outputs": [
    {
     "data": {
      "text/plain": [
       "((1797, 64), (1797,))"
      ]
     },
     "execution_count": 1,
     "metadata": {},
     "output_type": "execute_result"
    }
   ],
   "source": [
    "from evolutionary_search import EvolutionaryAlgorithmSearchCV\n",
    "import sklearn.datasets\n",
    "import numpy as np\n",
    "import pandas as pd\n",
    "\n",
    "data = sklearn.datasets.load_digits()\n",
    "X = data[\"data\"]\n",
    "y = data[\"target\"]\n",
    "\n",
    "# make it a 2-class problem by only classifying the digit \"5\" vs the rest\n",
    "y = np.array([1 if yy == 5 else 0 for yy in y])\n",
    "\n",
    "X.shape, y.shape"
   ]
  },
  {
   "cell_type": "code",
   "execution_count": 2,
   "metadata": {},
   "outputs": [],
   "source": [
    "from sklearn.model_selection import StratifiedKFold, GridSearchCV, RandomizedSearchCV\n",
    "from sklearn.svm import SVC"
   ]
  },
  {
   "cell_type": "markdown",
   "metadata": {},
   "source": [
    "## Train an SVM with RBF kernel"
   ]
  },
  {
   "cell_type": "markdown",
   "metadata": {},
   "source": [
    "### Using conventional GridSearchCV"
   ]
  },
  {
   "cell_type": "markdown",
   "metadata": {},
   "source": [
    "Parameter grid: 625 parameter combinations"
   ]
  },
  {
   "cell_type": "code",
   "execution_count": 3,
   "metadata": {},
   "outputs": [
    {
     "name": "stdout",
     "output_type": "stream",
     "text": [
      "Size:  625\n"
     ]
    }
   ],
   "source": [
    "paramgrid = {\"kernel\": [\"rbf\"],\n",
    "             \"C\"     : np.logspace(-9, 9, num=25, base=10),\n",
    "             \"gamma\" : np.logspace(-9, 9, num=25, base=10)}\n",
    "print(\"Size: \", len(paramgrid[\"kernel\"])*len(paramgrid[\"C\"])*len(paramgrid[\"gamma\"]))"
   ]
  },
  {
   "cell_type": "code",
   "execution_count": 4,
   "metadata": {},
   "outputs": [
    {
     "name": "stdout",
     "output_type": "stream",
     "text": [
      "Fitting 2 folds for each of 625 candidates, totalling 1250 fits\n"
     ]
    },
    {
     "name": "stderr",
     "output_type": "stream",
     "text": [
      "[Parallel(n_jobs=-1)]: Using backend LokyBackend with 4 concurrent workers.\n",
      "[Parallel(n_jobs=-1)]: Done  54 tasks      | elapsed:    3.4s\n",
      "[Parallel(n_jobs=-1)]: Done 354 tasks      | elapsed:    8.7s\n",
      "[Parallel(n_jobs=-1)]: Done 854 tasks      | elapsed:   36.5s\n"
     ]
    },
    {
     "name": "stdout",
     "output_type": "stream",
     "text": [
      "Wall time: 1min 7s\n"
     ]
    },
    {
     "name": "stderr",
     "output_type": "stream",
     "text": [
      "[Parallel(n_jobs=-1)]: Done 1250 out of 1250 | elapsed:  1.1min finished\n"
     ]
    },
    {
     "data": {
      "text/plain": [
       "GridSearchCV(cv=StratifiedKFold(n_splits=2, random_state=None, shuffle=False),\n",
       "             error_score='raise-deprecating',\n",
       "             estimator=SVC(C=1.0, cache_size=200, class_weight=None, coef0=0.0,\n",
       "                           decision_function_shape='ovr', degree=3,\n",
       "                           gamma='auto_deprecated', kernel='rbf', max_iter=-1,\n",
       "                           probability=False, random_state=None, shrinking=True,\n",
       "                           tol=0.001, verbose=False),\n",
       "             iid='warn', n_jo...\n",
       "       1.00000000e-03, 5.62341325e-03, 3.16227766e-02, 1.77827941e-01,\n",
       "       1.00000000e+00, 5.62341325e+00, 3.16227766e+01, 1.77827941e+02,\n",
       "       1.00000000e+03, 5.62341325e+03, 3.16227766e+04, 1.77827941e+05,\n",
       "       1.00000000e+06, 5.62341325e+06, 3.16227766e+07, 1.77827941e+08,\n",
       "       1.00000000e+09]),\n",
       "                         'kernel': ['rbf']},\n",
       "             pre_dispatch='2*n_jobs', refit=True, return_train_score=False,\n",
       "             scoring='accuracy', verbose=1)"
      ]
     },
     "execution_count": 4,
     "metadata": {},
     "output_type": "execute_result"
    }
   ],
   "source": [
    "cv = GridSearchCV(estimator=SVC(),\n",
    "                  param_grid=paramgrid,\n",
    "                  scoring=\"accuracy\",\n",
    "                  cv=StratifiedKFold(n_splits=2),\n",
    "                  verbose=1,n_jobs=-1)\n",
    "%time cv.fit(X, y)"
   ]
  },
  {
   "cell_type": "markdown",
   "metadata": {},
   "source": [
    "### Best score + params"
   ]
  },
  {
   "cell_type": "code",
   "execution_count": 5,
   "metadata": {},
   "outputs": [
    {
     "data": {
      "text/plain": [
       "(0.9894268224819143, {'C': 1.0, 'gamma': 0.001, 'kernel': 'rbf'})"
      ]
     },
     "execution_count": 5,
     "metadata": {},
     "output_type": "execute_result"
    }
   ],
   "source": [
    "cv.best_score_, cv.best_params_"
   ]
  },
  {
   "cell_type": "markdown",
   "metadata": {},
   "source": [
    "An example of the \"cannonical\" cv_results_ table in sklearn:"
   ]
  },
  {
   "cell_type": "code",
   "execution_count": 6,
   "metadata": {},
   "outputs": [
    {
     "data": {
      "text/html": [
       "<div>\n",
       "<style scoped>\n",
       "    .dataframe tbody tr th:only-of-type {\n",
       "        vertical-align: middle;\n",
       "    }\n",
       "\n",
       "    .dataframe tbody tr th {\n",
       "        vertical-align: top;\n",
       "    }\n",
       "\n",
       "    .dataframe thead th {\n",
       "        text-align: right;\n",
       "    }\n",
       "</style>\n",
       "<table border=\"1\" class=\"dataframe\">\n",
       "  <thead>\n",
       "    <tr style=\"text-align: right;\">\n",
       "      <th></th>\n",
       "      <th>mean_fit_time</th>\n",
       "      <th>std_fit_time</th>\n",
       "      <th>mean_score_time</th>\n",
       "      <th>std_score_time</th>\n",
       "      <th>param_C</th>\n",
       "      <th>param_gamma</th>\n",
       "      <th>param_kernel</th>\n",
       "      <th>params</th>\n",
       "      <th>split0_test_score</th>\n",
       "      <th>split1_test_score</th>\n",
       "      <th>mean_test_score</th>\n",
       "      <th>std_test_score</th>\n",
       "      <th>rank_test_score</th>\n",
       "    </tr>\n",
       "  </thead>\n",
       "  <tbody>\n",
       "    <tr>\n",
       "      <td>308</td>\n",
       "      <td>0.021015</td>\n",
       "      <td>0.001501</td>\n",
       "      <td>0.020766</td>\n",
       "      <td>0.001250</td>\n",
       "      <td>1</td>\n",
       "      <td>0.001</td>\n",
       "      <td>rbf</td>\n",
       "      <td>{'C': 1.0, 'gamma': 0.001, 'kernel': 'rbf'}</td>\n",
       "      <td>0.986652</td>\n",
       "      <td>0.992205</td>\n",
       "      <td>0.989427</td>\n",
       "      <td>0.002777</td>\n",
       "      <td>1</td>\n",
       "    </tr>\n",
       "    <tr>\n",
       "      <td>358</td>\n",
       "      <td>0.024517</td>\n",
       "      <td>0.006004</td>\n",
       "      <td>0.014761</td>\n",
       "      <td>0.000751</td>\n",
       "      <td>31.6228</td>\n",
       "      <td>0.001</td>\n",
       "      <td>rbf</td>\n",
       "      <td>{'C': 31.622776601683793, 'gamma': 0.001, 'ker...</td>\n",
       "      <td>0.986652</td>\n",
       "      <td>0.991091</td>\n",
       "      <td>0.988870</td>\n",
       "      <td>0.002220</td>\n",
       "      <td>2</td>\n",
       "    </tr>\n",
       "    <tr>\n",
       "      <td>483</td>\n",
       "      <td>0.023767</td>\n",
       "      <td>0.005253</td>\n",
       "      <td>0.014760</td>\n",
       "      <td>0.001251</td>\n",
       "      <td>177828</td>\n",
       "      <td>0.001</td>\n",
       "      <td>rbf</td>\n",
       "      <td>{'C': 177827.94100389228, 'gamma': 0.001, 'ker...</td>\n",
       "      <td>0.986652</td>\n",
       "      <td>0.991091</td>\n",
       "      <td>0.988870</td>\n",
       "      <td>0.002220</td>\n",
       "      <td>2</td>\n",
       "    </tr>\n",
       "    <tr>\n",
       "      <td>458</td>\n",
       "      <td>0.019263</td>\n",
       "      <td>0.000751</td>\n",
       "      <td>0.014010</td>\n",
       "      <td>0.000500</td>\n",
       "      <td>31622.8</td>\n",
       "      <td>0.001</td>\n",
       "      <td>rbf</td>\n",
       "      <td>{'C': 31622.776601683792, 'gamma': 0.001, 'ker...</td>\n",
       "      <td>0.986652</td>\n",
       "      <td>0.991091</td>\n",
       "      <td>0.988870</td>\n",
       "      <td>0.002220</td>\n",
       "      <td>2</td>\n",
       "    </tr>\n",
       "    <tr>\n",
       "      <td>408</td>\n",
       "      <td>0.021265</td>\n",
       "      <td>0.002751</td>\n",
       "      <td>0.015510</td>\n",
       "      <td>0.000001</td>\n",
       "      <td>1000</td>\n",
       "      <td>0.001</td>\n",
       "      <td>rbf</td>\n",
       "      <td>{'C': 1000.0, 'gamma': 0.001, 'kernel': 'rbf'}</td>\n",
       "      <td>0.986652</td>\n",
       "      <td>0.991091</td>\n",
       "      <td>0.988870</td>\n",
       "      <td>0.002220</td>\n",
       "      <td>2</td>\n",
       "    </tr>\n",
       "  </tbody>\n",
       "</table>\n",
       "</div>"
      ],
      "text/plain": [
       "     mean_fit_time  std_fit_time  mean_score_time  std_score_time  param_C  \\\n",
       "308       0.021015      0.001501         0.020766        0.001250        1   \n",
       "358       0.024517      0.006004         0.014761        0.000751  31.6228   \n",
       "483       0.023767      0.005253         0.014760        0.001251   177828   \n",
       "458       0.019263      0.000751         0.014010        0.000500  31622.8   \n",
       "408       0.021265      0.002751         0.015510        0.000001     1000   \n",
       "\n",
       "    param_gamma param_kernel  \\\n",
       "308       0.001          rbf   \n",
       "358       0.001          rbf   \n",
       "483       0.001          rbf   \n",
       "458       0.001          rbf   \n",
       "408       0.001          rbf   \n",
       "\n",
       "                                                params  split0_test_score  \\\n",
       "308        {'C': 1.0, 'gamma': 0.001, 'kernel': 'rbf'}           0.986652   \n",
       "358  {'C': 31.622776601683793, 'gamma': 0.001, 'ker...           0.986652   \n",
       "483  {'C': 177827.94100389228, 'gamma': 0.001, 'ker...           0.986652   \n",
       "458  {'C': 31622.776601683792, 'gamma': 0.001, 'ker...           0.986652   \n",
       "408     {'C': 1000.0, 'gamma': 0.001, 'kernel': 'rbf'}           0.986652   \n",
       "\n",
       "     split1_test_score  mean_test_score  std_test_score  rank_test_score  \n",
       "308           0.992205         0.989427        0.002777                1  \n",
       "358           0.991091         0.988870        0.002220                2  \n",
       "483           0.991091         0.988870        0.002220                2  \n",
       "458           0.991091         0.988870        0.002220                2  \n",
       "408           0.991091         0.988870        0.002220                2  "
      ]
     },
     "execution_count": 6,
     "metadata": {},
     "output_type": "execute_result"
    }
   ],
   "source": [
    "pd.DataFrame(cv.cv_results_).sort_values(\"mean_test_score\", ascending=False).head()"
   ]
  },
  {
   "cell_type": "markdown",
   "metadata": {},
   "source": [
    "### Using RandomizedSearchCV"
   ]
  },
  {
   "cell_type": "markdown",
   "metadata": {},
   "source": [
    "Same parameter space, but only test 250 random combinations."
   ]
  },
  {
   "cell_type": "code",
   "execution_count": 7,
   "metadata": {
    "scrolled": false
   },
   "outputs": [
    {
     "name": "stdout",
     "output_type": "stream",
     "text": [
      "Fitting 2 folds for each of 250 candidates, totalling 500 fits\n"
     ]
    },
    {
     "name": "stderr",
     "output_type": "stream",
     "text": [
      "[Parallel(n_jobs=-1)]: Using backend LokyBackend with 4 concurrent workers.\n",
      "[Parallel(n_jobs=-1)]: Done  50 tasks      | elapsed:    2.8s\n",
      "[Parallel(n_jobs=-1)]: Done 350 tasks      | elapsed:   17.6s\n"
     ]
    },
    {
     "name": "stdout",
     "output_type": "stream",
     "text": [
      "Wall time: 25.3 s\n"
     ]
    },
    {
     "name": "stderr",
     "output_type": "stream",
     "text": [
      "[Parallel(n_jobs=-1)]: Done 500 out of 500 | elapsed:   25.1s finished\n"
     ]
    },
    {
     "data": {
      "text/plain": [
       "RandomizedSearchCV(cv=StratifiedKFold(n_splits=2, random_state=None, shuffle=False),\n",
       "                   error_score='raise-deprecating',\n",
       "                   estimator=SVC(C=1.0, cache_size=200, class_weight=None,\n",
       "                                 coef0=0.0, decision_function_shape='ovr',\n",
       "                                 degree=3, gamma='auto_deprecated',\n",
       "                                 kernel='rbf', max_iter=-1, probability=False,\n",
       "                                 random_state=None, shrinking=True, tol=0.001,\n",
       "                                 verbose=False),\n",
       "                   iid='warn...\n",
       "       1.00000000e-03, 5.62341325e-03, 3.16227766e-02, 1.77827941e-01,\n",
       "       1.00000000e+00, 5.62341325e+00, 3.16227766e+01, 1.77827941e+02,\n",
       "       1.00000000e+03, 5.62341325e+03, 3.16227766e+04, 1.77827941e+05,\n",
       "       1.00000000e+06, 5.62341325e+06, 3.16227766e+07, 1.77827941e+08,\n",
       "       1.00000000e+09]),\n",
       "                                        'kernel': ['rbf']},\n",
       "                   pre_dispatch='2*n_jobs', random_state=None, refit=True,\n",
       "                   return_train_score=False, scoring='accuracy', verbose=1)"
      ]
     },
     "execution_count": 7,
     "metadata": {},
     "output_type": "execute_result"
    }
   ],
   "source": [
    "cv = RandomizedSearchCV(estimator=SVC(),\n",
    "                        param_distributions=paramgrid,\n",
    "                        n_iter=250,\n",
    "                        scoring=\"accuracy\",\n",
    "                        cv=StratifiedKFold(n_splits=2),\n",
    "                        verbose=1,n_jobs=-1)\n",
    "%time cv.fit(X, y)"
   ]
  },
  {
   "cell_type": "markdown",
   "metadata": {},
   "source": [
    "### Best score + params"
   ]
  },
  {
   "cell_type": "code",
   "execution_count": 8,
   "metadata": {},
   "outputs": [
    {
     "data": {
      "text/plain": [
       "(0.9888703394546466, {'kernel': 'rbf', 'gamma': 0.001, 'C': 1000.0})"
      ]
     },
     "execution_count": 8,
     "metadata": {},
     "output_type": "execute_result"
    }
   ],
   "source": [
    "cv.best_score_, cv.best_params_"
   ]
  },
  {
   "cell_type": "markdown",
   "metadata": {},
   "source": [
    "An example of the \"cannonical\" cv_results_ table in sklearn:"
   ]
  },
  {
   "cell_type": "code",
   "execution_count": 9,
   "metadata": {},
   "outputs": [
    {
     "data": {
      "text/html": [
       "<div>\n",
       "<style scoped>\n",
       "    .dataframe tbody tr th:only-of-type {\n",
       "        vertical-align: middle;\n",
       "    }\n",
       "\n",
       "    .dataframe tbody tr th {\n",
       "        vertical-align: top;\n",
       "    }\n",
       "\n",
       "    .dataframe thead th {\n",
       "        text-align: right;\n",
       "    }\n",
       "</style>\n",
       "<table border=\"1\" class=\"dataframe\">\n",
       "  <thead>\n",
       "    <tr style=\"text-align: right;\">\n",
       "      <th></th>\n",
       "      <th>mean_fit_time</th>\n",
       "      <th>std_fit_time</th>\n",
       "      <th>mean_score_time</th>\n",
       "      <th>std_score_time</th>\n",
       "      <th>param_kernel</th>\n",
       "      <th>param_gamma</th>\n",
       "      <th>param_C</th>\n",
       "      <th>params</th>\n",
       "      <th>split0_test_score</th>\n",
       "      <th>split1_test_score</th>\n",
       "      <th>mean_test_score</th>\n",
       "      <th>std_test_score</th>\n",
       "      <th>rank_test_score</th>\n",
       "    </tr>\n",
       "  </thead>\n",
       "  <tbody>\n",
       "    <tr>\n",
       "      <td>25</td>\n",
       "      <td>0.022265</td>\n",
       "      <td>7.500648e-04</td>\n",
       "      <td>0.016012</td>\n",
       "      <td>0.000501</td>\n",
       "      <td>rbf</td>\n",
       "      <td>0.001</td>\n",
       "      <td>1.77828e+08</td>\n",
       "      <td>{'kernel': 'rbf', 'gamma': 0.001, 'C': 1778279...</td>\n",
       "      <td>0.986652</td>\n",
       "      <td>0.991091</td>\n",
       "      <td>0.98887</td>\n",
       "      <td>0.00222</td>\n",
       "      <td>1</td>\n",
       "    </tr>\n",
       "    <tr>\n",
       "      <td>33</td>\n",
       "      <td>0.022015</td>\n",
       "      <td>3.576279e-07</td>\n",
       "      <td>0.016763</td>\n",
       "      <td>0.000751</td>\n",
       "      <td>rbf</td>\n",
       "      <td>0.001</td>\n",
       "      <td>177.828</td>\n",
       "      <td>{'kernel': 'rbf', 'gamma': 0.001, 'C': 177.827...</td>\n",
       "      <td>0.986652</td>\n",
       "      <td>0.991091</td>\n",
       "      <td>0.98887</td>\n",
       "      <td>0.00222</td>\n",
       "      <td>1</td>\n",
       "    </tr>\n",
       "    <tr>\n",
       "      <td>36</td>\n",
       "      <td>0.027018</td>\n",
       "      <td>6.004453e-03</td>\n",
       "      <td>0.021516</td>\n",
       "      <td>0.004004</td>\n",
       "      <td>rbf</td>\n",
       "      <td>0.001</td>\n",
       "      <td>1e+06</td>\n",
       "      <td>{'kernel': 'rbf', 'gamma': 0.001, 'C': 1000000.0}</td>\n",
       "      <td>0.986652</td>\n",
       "      <td>0.991091</td>\n",
       "      <td>0.98887</td>\n",
       "      <td>0.00222</td>\n",
       "      <td>1</td>\n",
       "    </tr>\n",
       "    <tr>\n",
       "      <td>243</td>\n",
       "      <td>0.027018</td>\n",
       "      <td>1.000786e-02</td>\n",
       "      <td>0.013510</td>\n",
       "      <td>0.001001</td>\n",
       "      <td>rbf</td>\n",
       "      <td>0.001</td>\n",
       "      <td>31622.8</td>\n",
       "      <td>{'kernel': 'rbf', 'gamma': 0.001, 'C': 31622.7...</td>\n",
       "      <td>0.986652</td>\n",
       "      <td>0.991091</td>\n",
       "      <td>0.98887</td>\n",
       "      <td>0.00222</td>\n",
       "      <td>1</td>\n",
       "    </tr>\n",
       "    <tr>\n",
       "      <td>44</td>\n",
       "      <td>0.019013</td>\n",
       "      <td>1.501560e-03</td>\n",
       "      <td>0.013510</td>\n",
       "      <td>0.001001</td>\n",
       "      <td>rbf</td>\n",
       "      <td>0.001</td>\n",
       "      <td>5.62341</td>\n",
       "      <td>{'kernel': 'rbf', 'gamma': 0.001, 'C': 5.62341...</td>\n",
       "      <td>0.986652</td>\n",
       "      <td>0.991091</td>\n",
       "      <td>0.98887</td>\n",
       "      <td>0.00222</td>\n",
       "      <td>1</td>\n",
       "    </tr>\n",
       "  </tbody>\n",
       "</table>\n",
       "</div>"
      ],
      "text/plain": [
       "     mean_fit_time  std_fit_time  mean_score_time  std_score_time  \\\n",
       "25        0.022265  7.500648e-04         0.016012        0.000501   \n",
       "33        0.022015  3.576279e-07         0.016763        0.000751   \n",
       "36        0.027018  6.004453e-03         0.021516        0.004004   \n",
       "243       0.027018  1.000786e-02         0.013510        0.001001   \n",
       "44        0.019013  1.501560e-03         0.013510        0.001001   \n",
       "\n",
       "    param_kernel param_gamma      param_C  \\\n",
       "25           rbf       0.001  1.77828e+08   \n",
       "33           rbf       0.001      177.828   \n",
       "36           rbf       0.001        1e+06   \n",
       "243          rbf       0.001      31622.8   \n",
       "44           rbf       0.001      5.62341   \n",
       "\n",
       "                                                params  split0_test_score  \\\n",
       "25   {'kernel': 'rbf', 'gamma': 0.001, 'C': 1778279...           0.986652   \n",
       "33   {'kernel': 'rbf', 'gamma': 0.001, 'C': 177.827...           0.986652   \n",
       "36   {'kernel': 'rbf', 'gamma': 0.001, 'C': 1000000.0}           0.986652   \n",
       "243  {'kernel': 'rbf', 'gamma': 0.001, 'C': 31622.7...           0.986652   \n",
       "44   {'kernel': 'rbf', 'gamma': 0.001, 'C': 5.62341...           0.986652   \n",
       "\n",
       "     split1_test_score  mean_test_score  std_test_score  rank_test_score  \n",
       "25            0.991091          0.98887         0.00222                1  \n",
       "33            0.991091          0.98887         0.00222                1  \n",
       "36            0.991091          0.98887         0.00222                1  \n",
       "243           0.991091          0.98887         0.00222                1  \n",
       "44            0.991091          0.98887         0.00222                1  "
      ]
     },
     "execution_count": 9,
     "metadata": {},
     "output_type": "execute_result"
    }
   ],
   "source": [
    "pd.DataFrame(cv.cv_results_).sort_values(\"mean_test_score\", ascending=False).head()"
   ]
  },
  {
   "cell_type": "markdown",
   "metadata": {},
   "source": [
    "### Using EvolutionaryAlgorithmSearchCV"
   ]
  },
  {
   "cell_type": "markdown",
   "metadata": {},
   "source": [
    "Again same parameter space, optimize for 10 generations."
   ]
  },
  {
   "cell_type": "code",
   "execution_count": 10,
   "metadata": {},
   "outputs": [
    {
     "name": "stdout",
     "output_type": "stream",
     "text": [
      "Wall time: 0 ns\n"
     ]
    }
   ],
   "source": [
    "from multiprocessing.pool import Pool\n",
    "if __name__==\"__main__\":\n",
    "    pool2 = Pool(4)\n",
    "    cv = EvolutionaryAlgorithmSearchCV(estimator=SVC(),\n",
    "                                       params=paramgrid,\n",
    "                                       scoring=\"accuracy\",\n",
    "                                       cv=StratifiedKFold(n_splits=2),\n",
    "                                       verbose=True,\n",
    "                                       population_size=50,\n",
    "                                       gene_mutation_prob=0.10,\n",
    "                                       tournament_size=3,\n",
    "                                       generations_number=10, n_jobs=pool2.map)\n",
    "    %time cv.fit,(X, y)\n"
   ]
  },
  {
   "cell_type": "markdown",
   "metadata": {},
   "source": [
    "### Best score + params"
   ]
  },
  {
   "cell_type": "code",
   "execution_count": 11,
   "metadata": {},
   "outputs": [
    {
     "data": {
      "text/plain": [
       "(None, None)"
      ]
     },
     "execution_count": 11,
     "metadata": {},
     "output_type": "execute_result"
    }
   ],
   "source": [
    "cv.best_score_, cv.best_params_"
   ]
  },
  {
   "cell_type": "markdown",
   "metadata": {},
   "source": [
    "Our cv_results_ table (note, includes all individuals with their mean, max, min, and std test score)."
   ]
  },
  {
   "cell_type": "code",
   "execution_count": 12,
   "metadata": {},
   "outputs": [
    {
     "ename": "KeyError",
     "evalue": "'mean_test_score'",
     "output_type": "error",
     "traceback": [
      "\u001b[1;31m---------------------------------------------------------------------------\u001b[0m",
      "\u001b[1;31mKeyError\u001b[0m                                  Traceback (most recent call last)",
      "\u001b[1;32m<ipython-input-12-d05694e6f7b9>\u001b[0m in \u001b[0;36m<module>\u001b[1;34m\u001b[0m\n\u001b[1;32m----> 1\u001b[1;33m \u001b[0mpd\u001b[0m\u001b[1;33m.\u001b[0m\u001b[0mDataFrame\u001b[0m\u001b[1;33m(\u001b[0m\u001b[0mcv\u001b[0m\u001b[1;33m.\u001b[0m\u001b[0mcv_results_\u001b[0m\u001b[1;33m)\u001b[0m\u001b[1;33m.\u001b[0m\u001b[0msort_values\u001b[0m\u001b[1;33m(\u001b[0m\u001b[1;34m\"mean_test_score\"\u001b[0m\u001b[1;33m,\u001b[0m \u001b[0mascending\u001b[0m\u001b[1;33m=\u001b[0m\u001b[1;32mFalse\u001b[0m\u001b[1;33m)\u001b[0m\u001b[1;33m.\u001b[0m\u001b[0mhead\u001b[0m\u001b[1;33m(\u001b[0m\u001b[1;33m)\u001b[0m\u001b[1;33m\u001b[0m\u001b[1;33m\u001b[0m\u001b[0m\n\u001b[0m",
      "\u001b[1;32m~\\Anaconda3\\lib\\site-packages\\pandas\\core\\frame.py\u001b[0m in \u001b[0;36msort_values\u001b[1;34m(self, by, axis, ascending, inplace, kind, na_position)\u001b[0m\n\u001b[0;32m   4991\u001b[0m \u001b[1;33m\u001b[0m\u001b[0m\n\u001b[0;32m   4992\u001b[0m             \u001b[0mby\u001b[0m \u001b[1;33m=\u001b[0m \u001b[0mby\u001b[0m\u001b[1;33m[\u001b[0m\u001b[1;36m0\u001b[0m\u001b[1;33m]\u001b[0m\u001b[1;33m\u001b[0m\u001b[1;33m\u001b[0m\u001b[0m\n\u001b[1;32m-> 4993\u001b[1;33m             \u001b[0mk\u001b[0m \u001b[1;33m=\u001b[0m \u001b[0mself\u001b[0m\u001b[1;33m.\u001b[0m\u001b[0m_get_label_or_level_values\u001b[0m\u001b[1;33m(\u001b[0m\u001b[0mby\u001b[0m\u001b[1;33m,\u001b[0m \u001b[0maxis\u001b[0m\u001b[1;33m=\u001b[0m\u001b[0maxis\u001b[0m\u001b[1;33m)\u001b[0m\u001b[1;33m\u001b[0m\u001b[1;33m\u001b[0m\u001b[0m\n\u001b[0m\u001b[0;32m   4994\u001b[0m \u001b[1;33m\u001b[0m\u001b[0m\n\u001b[0;32m   4995\u001b[0m             \u001b[1;32mif\u001b[0m \u001b[0misinstance\u001b[0m\u001b[1;33m(\u001b[0m\u001b[0mascending\u001b[0m\u001b[1;33m,\u001b[0m \u001b[1;33m(\u001b[0m\u001b[0mtuple\u001b[0m\u001b[1;33m,\u001b[0m \u001b[0mlist\u001b[0m\u001b[1;33m)\u001b[0m\u001b[1;33m)\u001b[0m\u001b[1;33m:\u001b[0m\u001b[1;33m\u001b[0m\u001b[1;33m\u001b[0m\u001b[0m\n",
      "\u001b[1;32m~\\Anaconda3\\lib\\site-packages\\pandas\\core\\generic.py\u001b[0m in \u001b[0;36m_get_label_or_level_values\u001b[1;34m(self, key, axis)\u001b[0m\n\u001b[0;32m   1772\u001b[0m             \u001b[0mvalues\u001b[0m \u001b[1;33m=\u001b[0m \u001b[0mself\u001b[0m\u001b[1;33m.\u001b[0m\u001b[0maxes\u001b[0m\u001b[1;33m[\u001b[0m\u001b[0maxis\u001b[0m\u001b[1;33m]\u001b[0m\u001b[1;33m.\u001b[0m\u001b[0mget_level_values\u001b[0m\u001b[1;33m(\u001b[0m\u001b[0mkey\u001b[0m\u001b[1;33m)\u001b[0m\u001b[1;33m.\u001b[0m\u001b[0m_values\u001b[0m\u001b[1;33m\u001b[0m\u001b[1;33m\u001b[0m\u001b[0m\n\u001b[0;32m   1773\u001b[0m         \u001b[1;32melse\u001b[0m\u001b[1;33m:\u001b[0m\u001b[1;33m\u001b[0m\u001b[1;33m\u001b[0m\u001b[0m\n\u001b[1;32m-> 1774\u001b[1;33m             \u001b[1;32mraise\u001b[0m \u001b[0mKeyError\u001b[0m\u001b[1;33m(\u001b[0m\u001b[0mkey\u001b[0m\u001b[1;33m)\u001b[0m\u001b[1;33m\u001b[0m\u001b[1;33m\u001b[0m\u001b[0m\n\u001b[0m\u001b[0;32m   1775\u001b[0m \u001b[1;33m\u001b[0m\u001b[0m\n\u001b[0;32m   1776\u001b[0m         \u001b[1;31m# Check for duplicates\u001b[0m\u001b[1;33m\u001b[0m\u001b[1;33m\u001b[0m\u001b[1;33m\u001b[0m\u001b[0m\n",
      "\u001b[1;31mKeyError\u001b[0m: 'mean_test_score'"
     ]
    }
   ],
   "source": [
    "pd.DataFrame(cv.cv_results_).sort_values(\"mean_test_score\", ascending=False).head()"
   ]
  },
  {
   "cell_type": "code",
   "execution_count": null,
   "metadata": {},
   "outputs": [],
   "source": []
  }
 ],
 "metadata": {
  "kernelspec": {
   "display_name": "Python 3",
   "language": "python",
   "name": "python3"
  },
  "language_info": {
   "codemirror_mode": {
    "name": "ipython",
    "version": 3
   },
   "file_extension": ".py",
   "mimetype": "text/x-python",
   "name": "python",
   "nbconvert_exporter": "python",
   "pygments_lexer": "ipython3",
   "version": "3.7.4"
  }
 },
 "nbformat": 4,
 "nbformat_minor": 1
}
